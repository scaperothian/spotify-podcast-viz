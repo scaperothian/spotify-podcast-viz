{
 "cells": [
  {
   "cell_type": "markdown",
   "id": "86d4229d-f36d-4bc1-98b5-0443a10b81b0",
   "metadata": {},
   "source": [
    "# Spotify Podcast Dataset - Reading Transcripts\n",
    "\n",
    "Attempt to come up with an API to support batch processing of transcripts for this data set."
   ]
  },
  {
   "cell_type": "code",
   "execution_count": 184,
   "id": "c39d36d1-1e56-4cc2-8dde-dd0c316c05fc",
   "metadata": {},
   "outputs": [],
   "source": [
    "import pandas as pd"
   ]
  },
  {
   "cell_type": "code",
   "execution_count": 185,
   "id": "e2e277eb-aeff-4e30-8685-c9588f71ba03",
   "metadata": {},
   "outputs": [],
   "source": [
    "df = pd.read_csv('../podcasts-no-audio-13GB-selected/metadata.tsv', sep='\\t')"
   ]
  },
  {
   "cell_type": "code",
   "execution_count": 186,
   "id": "a6622eb4-7e81-4445-99d3-176b00a418c1",
   "metadata": {},
   "outputs": [],
   "source": [
    "basename = '../podcasts-no-audio-13GB-selected/spotify-podcasts-2020/show-rss/'"
   ]
  },
  {
   "cell_type": "markdown",
   "id": "d3652d68-a5a7-4609-971e-e951a4471ca8",
   "metadata": {},
   "source": [
    "## Attempt to extract the RSS metadata of a show."
   ]
  },
  {
   "cell_type": "code",
   "execution_count": 187,
   "id": "46842030-79fc-483e-9d84-392a73a43820",
   "metadata": {},
   "outputs": [],
   "source": [
    "# Locations of episodes are based on two levels of folders: \n",
    "#    first_folder/second_folder/show/episode_metadata.json\n",
    "# To figure out the first_folder and second_folder by looking at \n",
    "# the first two characters in the show_uri column.\n",
    "\n",
    "# Then you can extract the transcripts...\n",
    "\n",
    "df['first_dir'] = df['show_uri'].str.extract(r'spotify:show:(\\w)')[0]\n",
    "df['second_dir'] = df['show_uri'].str.extract(r'spotify:show:\\w(\\w)')[0]"
   ]
  },
  {
   "cell_type": "code",
   "execution_count": 188,
   "id": "8313f1e0-fd6e-4dc7-9eba-34e313b5ca2a",
   "metadata": {},
   "outputs": [
    {
     "data": {
      "text/plain": [
       "show_uri                                 spotify:show:4g9vEFANueSAWA50HtDjQM\n",
       "show_name                  Big D Beatdown - An unbiased Cowboys football ...\n",
       "show_description           Austin Smith, Ken Cunningham, and Ty Rogers ho...\n",
       "publisher                                                       BigDBeatdown\n",
       "language                                                              ['en']\n",
       "rss_link                             https://anchor.fm/s/a4c5784/podcast/rss\n",
       "episode_uri                           spotify:episode:009awoapZd90HCQHzDczrV\n",
       "episode_name                              Will Dak Prescott remain a Cowboy?\n",
       "episode_description        Tune in to Austin Smith and Coach Ty Rogers as...\n",
       "duration                                                           58.559567\n",
       "show_filename_prefix                             show_4g9vEFANueSAWA50HtDjQM\n",
       "episode_filename_prefix                               009awoapZd90HCQHzDczrV\n",
       "first_dir                                                                  4\n",
       "second_dir                                                                 g\n",
       "Name: 33, dtype: object"
      ]
     },
     "execution_count": 188,
     "metadata": {},
     "output_type": "execute_result"
    }
   ],
   "source": [
    "row = df.iloc[33]\n",
    "row"
   ]
  },
  {
   "cell_type": "code",
   "execution_count": 189,
   "id": "cb323344-2fbe-427c-ba14-58ad27105128",
   "metadata": {},
   "outputs": [
    {
     "data": {
      "text/plain": [
       "'../podcasts-no-audio-13GB-selected/spotify-podcasts-2020/show-rss/4/g/show_4g9vEFANueSAWA50HtDjQM.xml'"
      ]
     },
     "execution_count": 189,
     "metadata": {},
     "output_type": "execute_result"
    }
   ],
   "source": [
    "show_dir = basename + row['first_dir']+'/'+row['second_dir'] + '/' + row['show_filename_prefix']\n",
    "show_xml = show_dir + '.xml'\n",
    "show_xml"
   ]
  },
  {
   "cell_type": "code",
   "execution_count": 190,
   "id": "6aa81936-a757-42ab-9c37-8ad11d8513ca",
   "metadata": {},
   "outputs": [
    {
     "data": {
      "text/plain": [
       "['Sports']"
      ]
     },
     "execution_count": 190,
     "metadata": {},
     "output_type": "execute_result"
    }
   ],
   "source": [
    "import xml.etree.ElementTree as ET\n",
    "\n",
    "# Parse the XML file\n",
    "tree = ET.parse(show_xml)\n",
    "root = tree.getroot()\n",
    "\n",
    "# Define a list to store the extracted data\n",
    "extracted_data = []\n",
    "\n",
    "# Iterate through the XML elements\n",
    "for element in root.iter():\n",
    "    # Check if the element name contains \"category\"\n",
    "    if 'category' in element.tag:\n",
    "        # Check if the element has a \"text\" attribute\n",
    "        if 'text' in element.attrib:\n",
    "            # Extract and store the data from the \"text\" attribute\n",
    "            text_data = element.attrib['text']\n",
    "            extracted_data.append(text_data)\n",
    "    \n",
    "extracted_data"
   ]
  },
  {
   "cell_type": "markdown",
   "id": "7c214bbf-13bc-4582-a640-9a9fccbecd51",
   "metadata": {},
   "source": [
    "## Find all the categories in \"4G\" folder"
   ]
  },
  {
   "cell_type": "code",
   "execution_count": 191,
   "id": "33b7ef32-7966-4896-a07a-1c2fa65d6010",
   "metadata": {},
   "outputs": [],
   "source": [
    "import xml.etree.ElementTree as ET\n",
    "\n",
    "def find_category(file): \n",
    "    extracted_data = []\n",
    "    \n",
    "    # Parse the XML file\n",
    "    tree = ET.parse(file)\n",
    "    root = tree.getroot()\n",
    "    \n",
    "    # Iterate through the XML elements\n",
    "    for element in root.iter():\n",
    "        # Check if the element name contains \"category\"\n",
    "        if 'category' in element.tag:\n",
    "            # Check if the element has a \"text\" attribute\n",
    "            if 'text' in element.attrib:\n",
    "                # Extract and store the data from the \"text\" attribute\n",
    "                text_data = element.attrib['text']\n",
    "                extracted_data.append(text_data)\n",
    "    \n",
    "    return extracted_data"
   ]
  },
  {
   "cell_type": "code",
   "execution_count": 192,
   "id": "2529a858-7530-4065-9d28-6c63b92733df",
   "metadata": {},
   "outputs": [],
   "source": [
    "random_dir = basename + row['first_dir']+'/'+row['second_dir'] + '/'"
   ]
  },
  {
   "cell_type": "code",
   "execution_count": 193,
   "id": "22b98392-bc0d-47e2-b871-bb7aeba215cc",
   "metadata": {},
   "outputs": [
    {
     "data": {
      "text/plain": [
       "{'After Shows',\n",
       " 'Alternative Health',\n",
       " 'Arts',\n",
       " 'Automotive',\n",
       " 'Books',\n",
       " 'Business',\n",
       " 'Careers',\n",
       " 'Christianity',\n",
       " 'Comedy',\n",
       " 'Comedy Interviews',\n",
       " 'Drama',\n",
       " 'Education',\n",
       " 'Entertainment News',\n",
       " 'Entrepreneurship',\n",
       " 'Fiction',\n",
       " 'Fitness',\n",
       " 'Food',\n",
       " 'Games',\n",
       " 'Government',\n",
       " 'Health & Fitness',\n",
       " 'Hobbies',\n",
       " 'Islam',\n",
       " 'Leisure',\n",
       " 'Music',\n",
       " 'Music Commentary',\n",
       " 'News',\n",
       " 'Religion & Spirituality',\n",
       " 'Self-Improvement',\n",
       " 'Sexuality',\n",
       " 'Society & Culture',\n",
       " 'Spirituality',\n",
       " 'Sports',\n",
       " 'TV & Film',\n",
       " 'Technology',\n",
       " 'True Crime',\n",
       " 'Video Games',\n",
       " 'Visual Arts',\n",
       " 'Wilderness'}"
      ]
     },
     "execution_count": 193,
     "metadata": {},
     "output_type": "execute_result"
    }
   ],
   "source": [
    "import os\n",
    "categories = []\n",
    "# Iterate through files in the folder\n",
    "for filename in os.listdir(random_dir):\n",
    "    # Construct the full file path\n",
    "    file_path = os.path.join(random_dir, filename)\n",
    "\n",
    "    # Check if the path is a file (not a directory)\n",
    "    if os.path.isfile(file_path):\n",
    "        # Call your function on the file\n",
    "        #print(f\"Calling function on: {file_path}\")\n",
    "        categories.extend(find_category(file_path))\n",
    "set(categories)"
   ]
  }
 ],
 "metadata": {
  "kernelspec": {
   "display_name": "mldev",
   "language": "python",
   "name": "mldev"
  },
  "language_info": {
   "codemirror_mode": {
    "name": "ipython",
    "version": 3
   },
   "file_extension": ".py",
   "mimetype": "text/x-python",
   "name": "python",
   "nbconvert_exporter": "python",
   "pygments_lexer": "ipython3",
   "version": "3.9.7"
  }
 },
 "nbformat": 4,
 "nbformat_minor": 5
}
