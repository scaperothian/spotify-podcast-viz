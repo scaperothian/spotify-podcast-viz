{
 "cells": [
  {
   "cell_type": "markdown",
   "id": "a22ea4f7-3b6b-4554-aeda-ae85e7f96f0a",
   "metadata": {},
   "source": [
    "# Work on embeddings\n",
    "\n",
    "Take Example using Embeddings and attempt to use it to perform cosine similarities. \n"
   ]
  },
  {
   "cell_type": "code",
   "execution_count": 13,
   "id": "4599085b-7d8b-4677-ad3b-79cca4c5cd22",
   "metadata": {},
   "outputs": [
    {
     "name": "stdout",
     "output_type": "stream",
     "text": [
      "Available GPUs: [PhysicalDevice(name='/physical_device:GPU:0', device_type='GPU')]\n"
     ]
    }
   ],
   "source": [
    "from transformers import AutoTokenizer, TFAutoModel\n",
    "import tensorflow as tf\n",
    "import numpy as np\n",
    "import time\n",
    "print(\"Available GPUs:\", tf.config.list_physical_devices('GPU'))\n",
    "import matplotlib.pyplot as plt\n",
    "import seaborn as sns\n",
    "sns.set_style('darkgrid')\n"
   ]
  },
  {
   "cell_type": "code",
   "execution_count": 3,
   "id": "5dc47852-b743-48d4-8e03-eecc2c71dc4b",
   "metadata": {},
   "outputs": [
    {
     "name": "stderr",
     "output_type": "stream",
     "text": [
      "2023-11-23 22:02:17.462092: I metal_plugin/src/device/metal_device.cc:1154] Metal device set to: Apple M1\n",
      "2023-11-23 22:02:17.462113: I metal_plugin/src/device/metal_device.cc:296] systemMemory: 16.00 GB\n",
      "2023-11-23 22:02:17.462118: I metal_plugin/src/device/metal_device.cc:313] maxCacheSize: 5.33 GB\n",
      "2023-11-23 22:02:17.462147: I tensorflow/core/common_runtime/pluggable_device/pluggable_device_factory.cc:303] Could not identify NUMA node of platform GPU ID 0, defaulting to 0. Your kernel may not have been built with NUMA support.\n",
      "2023-11-23 22:02:17.462159: I tensorflow/core/common_runtime/pluggable_device/pluggable_device_factory.cc:269] Created TensorFlow device (/job:localhost/replica:0/task:0/device:GPU:0 with 0 MB memory) -> physical PluggableDevice (device: 0, name: METAL, pci bus id: <undefined>)\n",
      "All model checkpoint layers were used when initializing TFBertModel.\n",
      "\n",
      "All the layers of TFBertModel were initialized from the model checkpoint at sentence-transformers/multi-qa-MiniLM-L6-cos-v1.\n",
      "If your task is similar to the task the model of the checkpoint was trained on, you can already use TFBertModel for predictions without further training.\n"
     ]
    }
   ],
   "source": [
    "#Mean Pooling - Take attention mask into account for correct averaging\n",
    "def mean_pooling(model_output, attention_mask):\n",
    "    token_embeddings = model_output.last_hidden_state\n",
    "    input_mask_expanded = tf.cast(tf.tile(tf.expand_dims(attention_mask, -1), [1, 1, token_embeddings.shape[-1]]), tf.float32)\n",
    "    return tf.math.reduce_sum(token_embeddings * input_mask_expanded, 1) / tf.math.maximum(tf.math.reduce_sum(input_mask_expanded, 1), 1e-9)\n",
    "\n",
    "\n",
    "#Encode text\n",
    "def encode(texts):\n",
    "    # Tokenize sentences\n",
    "    encoded_input = tokenizer(texts, padding=True, truncation=True, return_tensors='tf')\n",
    "\n",
    "    # Compute token embeddings\n",
    "    model_output = model(**encoded_input, return_dict=True)\n",
    "\n",
    "    # Perform pooling\n",
    "    embeddings = mean_pooling(model_output, encoded_input['attention_mask'])\n",
    "\n",
    "    # Normalize embeddings\n",
    "    embeddings = tf.math.l2_normalize(embeddings, axis=1)\n",
    "\n",
    "    return embeddings\n",
    "\n",
    "# Load model from HuggingFace Hub\n",
    "tokenizer = AutoTokenizer.from_pretrained(\"sentence-transformers/multi-qa-MiniLM-L6-cos-v1\")\n",
    "model = TFAutoModel.from_pretrained(\"sentence-transformers/multi-qa-MiniLM-L6-cos-v1\")"
   ]
  },
  {
   "cell_type": "markdown",
   "id": "6909a82a-209d-47e9-af7e-bba9e7ad3836",
   "metadata": {},
   "source": [
    "# Example from Huggingface\n",
    "https://huggingface.co/sentence-transformers/multi-qa-MiniLM-L6-cos-v1"
   ]
  },
  {
   "cell_type": "code",
   "execution_count": 4,
   "id": "47cdf890-cc9f-47f6-9852-fddad6d7b19e",
   "metadata": {},
   "outputs": [
    {
     "name": "stdout",
     "output_type": "stream",
     "text": [
      "Score: 0.92, Query: Around 9 Million people live in London.\n",
      "Score: 0.49, Query: London is known for its financial district.\n"
     ]
    }
   ],
   "source": [
    "# Sentences we want sentence embeddings for\n",
    "query = \"How many people live in London?\"\n",
    "docs = [\"Around 9 Million people live in London\", \"London is known for its financial district\"]\n",
    "\n",
    "#Encode query and docs\n",
    "query_emb = encode(query)\n",
    "doc_emb = encode(docs)\n",
    "\n",
    "#Compute dot score between query and all document embeddings\n",
    "scores = (query_emb @ tf.transpose(doc_emb))[0].numpy().tolist()\n",
    "\n",
    "#Combine docs & scores\n",
    "doc_score_pairs = list(zip(docs, scores))\n",
    "\n",
    "#Sort by decreasing score\n",
    "doc_score_pairs = sorted(doc_score_pairs, key=lambda x: x[1], reverse=True)\n",
    "\n",
    "#Output passages & scores\n",
    "for doc, score in doc_score_pairs:\n",
    "    print(f\"Score: {score:.2f}, Query: {doc}.\")"
   ]
  },
  {
   "cell_type": "markdown",
   "id": "015ae4b7-20b2-4af6-8869-8327ceb7c495",
   "metadata": {},
   "source": [
    "# Benchmarks"
   ]
  },
  {
   "cell_type": "markdown",
   "id": "0f13beeb-a70e-4791-a9d5-e8df4a8ce7a5",
   "metadata": {},
   "source": [
    "## Objective: Benchmark Performing Comparisons\n",
    "\n",
    "Benchmark embeddings comparison for all Show Descriptions"
   ]
  },
  {
   "cell_type": "code",
   "execution_count": 10,
   "id": "cf2e6f10-574b-41b1-b271-31895d07d047",
   "metadata": {},
   "outputs": [
    {
     "name": "stdout",
     "output_type": "stream",
     "text": [
      "TF GPU: 0.013s to create fake data.  0.006 to perform dot product with 100 rows.\n",
      "TF GPU: 0.003s to create fake data.  0.003 to perform dot product with 1000 rows.\n",
      "TF GPU: 0.025s to create fake data.  0.006 to perform dot product with 10000 rows.\n",
      "TF GPU: 0.248s to create fake data.  0.053 to perform dot product with 100000 rows.\n",
      "TF GPU: 5.762s to create fake data.  0.556 to perform dot product with 1000000 rows.\n",
      "\n",
      "TF CPU: 0.002s to create fake data.  0.008 to perform dot product with 100 rows.\n",
      "TF CPU: 0.002s to create fake data.  0.003 to perform dot product with 1000 rows.\n",
      "TF CPU: 0.022s to create fake data.  0.012 to perform dot product with 10000 rows.\n",
      "TF CPU: 0.202s to create fake data.  0.102 to perform dot product with 100000 rows.\n",
      "TF CPU: 4.363s to create fake data.  1.177 to perform dot product with 1000000 rows.\n",
      "\n"
     ]
    }
   ],
   "source": [
    "randomquery_raw = \"Random Query\"\n",
    "random_query = encode(randomquery_raw)\n",
    "sizes = [100, 1000, 10000, 100000, 1000000]\n",
    "for device in ['GPU','CPU']:\n",
    "    t = []\n",
    "    for size in sizes:\n",
    "        start0 = time.time()\n",
    "        with tf.device(device):\n",
    "            large_embed = tf.constant(np.random.random((size,384)), dtype=tf.float32)\n",
    "        end0 = time.time()\n",
    "\n",
    "        start1 = time.time()\n",
    "        scores = (random_query @ tf.transpose(large_embed))[0].numpy().tolist()\n",
    "        end1 = time.time()\n",
    "        t.append(end1-start1)\n",
    "        print(f\"TF {device}: {end0-start0:.3f}s to create fake data.  {end1-start1:.3f} to perform dot product with {size} rows.\")\n",
    "\n",
    "    print('')"
   ]
  },
  {
   "cell_type": "code",
   "execution_count": 18,
   "id": "1b93c4e0-f29e-4b8f-aec4-4c8f39738f7b",
   "metadata": {},
   "outputs": [
    {
     "data": {
      "text/plain": [
       "Text(0, 0.5, 'Seconds to Execute on CPU')"
      ]
     },
     "execution_count": 18,
     "metadata": {},
     "output_type": "execute_result"
    },
    {
     "data": {
      "image/png": "[encoded data removed]",
      "text/plain": [
       "<Figure size 640x480 with 1 Axes>"
      ]
     },
     "metadata": {},
     "output_type": "display_data"
    }
   ],
   "source": [
    "import matplotlib.pyplot as plt\n",
    "plt.plot(np.log10(sizes),t,'o-')\n",
    "plt.title('Benchmark of Dot Product vs. Row Size')\n",
    "plt.xlabel('Number of Rows (log scale)')\n",
    "plt.ylabel('Seconds to Execute on CPU')"
   ]
  }
 ],
 "metadata": {
  "kernelspec": {
   "display_name": "tensorflow",
   "language": "python",
   "name": "tensorflow"
  },
  "language_info": {
   "codemirror_mode": {
    "name": "ipython",
    "version": 3
   },
   "file_extension": ".py",
   "mimetype": "text/x-python",
   "name": "python",
   "nbconvert_exporter": "python",
   "pygments_lexer": "ipython3",
   "version": "3.8.17"
  }
 },
 "nbformat": 4,
 "nbformat_minor": 5
}
