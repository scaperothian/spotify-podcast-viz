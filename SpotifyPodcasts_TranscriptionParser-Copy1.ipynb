{
 "cells": [
  {
   "cell_type": "markdown",
   "id": "86d4229d-f36d-4bc1-98b5-0443a10b81b0",
   "metadata": {},
   "source": [
    "# Spotify Podcast Dataset - Reading Transcripts\n",
    "\n",
    "Attempt to come up with an API to support batch processing of transcripts for this data set."
   ]
  },
  {
   "cell_type": "code",
   "execution_count": 1,
   "id": "c39d36d1-1e56-4cc2-8dde-dd0c316c05fc",
   "metadata": {},
   "outputs": [],
   "source": [
    "import pandas as pd"
   ]
  },
  {
   "cell_type": "code",
   "execution_count": 2,
   "id": "e2e277eb-aeff-4e30-8685-c9588f71ba03",
   "metadata": {},
   "outputs": [],
   "source": [
    "df = pd.read_csv('../podcasts-no-audio-13GB-selected/metadata.tsv', sep='\\t')"
   ]
  },
  {
   "cell_type": "code",
   "execution_count": 3,
   "id": "a6622eb4-7e81-4445-99d3-176b00a418c1",
   "metadata": {},
   "outputs": [],
   "source": [
    "basename = '../podcasts-no-audio-13GB-selected/spotify-podcasts-2020/podcasts-transcripts/'"
   ]
  },
  {
   "cell_type": "markdown",
   "id": "7d251c87-7e0f-4b93-9f47-99b97bda5543",
   "metadata": {},
   "source": [
    "## SHOW_URI for deriving file location..."
   ]
  },
  {
   "cell_type": "code",
   "execution_count": 4,
   "id": "0ab059cc-5a4f-4f7f-88c9-9dfaf8534520",
   "metadata": {},
   "outputs": [
    {
     "data": {
      "text/html": [
       "<div>\n",
       "<style scoped>\n",
       "    .dataframe tbody tr th:only-of-type {\n",
       "        vertical-align: middle;\n",
       "    }\n",
       "\n",
       "    .dataframe tbody tr th {\n",
       "        vertical-align: top;\n",
       "    }\n",
       "\n",
       "    .dataframe thead th {\n",
       "        text-align: right;\n",
       "    }\n",
       "</style>\n",
       "<table border=\"1\" class=\"dataframe\">\n",
       "  <thead>\n",
       "    <tr style=\"text-align: right;\">\n",
       "      <th></th>\n",
       "      <th>show_uri</th>\n",
       "      <th>show_name</th>\n",
       "      <th>show_description</th>\n",
       "      <th>publisher</th>\n",
       "      <th>language</th>\n",
       "      <th>rss_link</th>\n",
       "      <th>episode_uri</th>\n",
       "      <th>episode_name</th>\n",
       "      <th>episode_description</th>\n",
       "      <th>duration</th>\n",
       "      <th>show_filename_prefix</th>\n",
       "      <th>episode_filename_prefix</th>\n",
       "    </tr>\n",
       "  </thead>\n",
       "  <tbody>\n",
       "    <tr>\n",
       "      <th>32</th>\n",
       "      <td>spotify:show:21ASCcEXgUlbFSmoqjroZm</td>\n",
       "      <td>Chompers</td>\n",
       "      <td>Make tooth time easy with this morning and nig...</td>\n",
       "      <td>Gimlet</td>\n",
       "      <td>['en']</td>\n",
       "      <td>https://feeds.megaphone.fm/chompers</td>\n",
       "      <td>spotify:episode:009TPwk7i2wA7UA8QEjAo4</td>\n",
       "      <td>Sports Week Night Jokes (6-22-2019)</td>\n",
       "      <td>Get ready for more sporty jokes on tonight's C...</td>\n",
       "      <td>3.395050</td>\n",
       "      <td>show_21ASCcEXgUlbFSmoqjroZm</td>\n",
       "      <td>009TPwk7i2wA7UA8QEjAo4</td>\n",
       "    </tr>\n",
       "    <tr>\n",
       "      <th>80</th>\n",
       "      <td>spotify:show:21ASCcEXgUlbFSmoqjroZm</td>\n",
       "      <td>Chompers</td>\n",
       "      <td>Make tooth time easy with this morning and nig...</td>\n",
       "      <td>Gimlet</td>\n",
       "      <td>['en']</td>\n",
       "      <td>https://feeds.megaphone.fm/chompers</td>\n",
       "      <td>spotify:episode:00MArqb5egMeHpQ7UijTZ6</td>\n",
       "      <td>Feelings Week Night Quiz</td>\n",
       "      <td>So, how many feelings can humans have? Shout i...</td>\n",
       "      <td>3.307100</td>\n",
       "      <td>show_21ASCcEXgUlbFSmoqjroZm</td>\n",
       "      <td>00MArqb5egMeHpQ7UijTZ6</td>\n",
       "    </tr>\n",
       "    <tr>\n",
       "      <th>322</th>\n",
       "      <td>spotify:show:21ASCcEXgUlbFSmoqjroZm</td>\n",
       "      <td>Chompers</td>\n",
       "      <td>Make tooth time easy with this morning and nig...</td>\n",
       "      <td>Gimlet</td>\n",
       "      <td>['en']</td>\n",
       "      <td>https://feeds.megaphone.fm/chompers</td>\n",
       "      <td>spotify:episode:01O3bGK4x6F4sQz1NbDlfx</td>\n",
       "      <td>Chompions Week Night Jokes (12-24-2019)</td>\n",
       "      <td>You are too funny! Get ready for more giggles ...</td>\n",
       "      <td>2.837333</td>\n",
       "      <td>show_21ASCcEXgUlbFSmoqjroZm</td>\n",
       "      <td>01O3bGK4x6F4sQz1NbDlfx</td>\n",
       "    </tr>\n",
       "    <tr>\n",
       "      <th>340</th>\n",
       "      <td>spotify:show:21ASCcEXgUlbFSmoqjroZm</td>\n",
       "      <td>Chompers</td>\n",
       "      <td>Make tooth time easy with this morning and nig...</td>\n",
       "      <td>Gimlet</td>\n",
       "      <td>['en']</td>\n",
       "      <td>https://feeds.megaphone.fm/chompers</td>\n",
       "      <td>spotify:episode:01TjH96HXWzLtE4qLVGHFj</td>\n",
       "      <td>History Week Night In Space</td>\n",
       "      <td>Tonight our time machine will bring us back in...</td>\n",
       "      <td>4.038100</td>\n",
       "      <td>show_21ASCcEXgUlbFSmoqjroZm</td>\n",
       "      <td>01TjH96HXWzLtE4qLVGHFj</td>\n",
       "    </tr>\n",
       "    <tr>\n",
       "      <th>506</th>\n",
       "      <td>spotify:show:21ASCcEXgUlbFSmoqjroZm</td>\n",
       "      <td>Chompers</td>\n",
       "      <td>Make tooth time easy with this morning and nig...</td>\n",
       "      <td>Gimlet</td>\n",
       "      <td>['en']</td>\n",
       "      <td>https://feeds.megaphone.fm/chompers</td>\n",
       "      <td>spotify:episode:02Fur3rqWSFMeIDf8W7TbQ</td>\n",
       "      <td>Pets Week Morning I Spy</td>\n",
       "      <td>We've got some reptilian pets for you on today...</td>\n",
       "      <td>3.554833</td>\n",
       "      <td>show_21ASCcEXgUlbFSmoqjroZm</td>\n",
       "      <td>02Fur3rqWSFMeIDf8W7TbQ</td>\n",
       "    </tr>\n",
       "  </tbody>\n",
       "</table>\n",
       "</div>"
      ],
      "text/plain": [
       "                                show_uri show_name  \\\n",
       "32   spotify:show:21ASCcEXgUlbFSmoqjroZm  Chompers   \n",
       "80   spotify:show:21ASCcEXgUlbFSmoqjroZm  Chompers   \n",
       "322  spotify:show:21ASCcEXgUlbFSmoqjroZm  Chompers   \n",
       "340  spotify:show:21ASCcEXgUlbFSmoqjroZm  Chompers   \n",
       "506  spotify:show:21ASCcEXgUlbFSmoqjroZm  Chompers   \n",
       "\n",
       "                                      show_description publisher language  \\\n",
       "32   Make tooth time easy with this morning and nig...    Gimlet   ['en']   \n",
       "80   Make tooth time easy with this morning and nig...    Gimlet   ['en']   \n",
       "322  Make tooth time easy with this morning and nig...    Gimlet   ['en']   \n",
       "340  Make tooth time easy with this morning and nig...    Gimlet   ['en']   \n",
       "506  Make tooth time easy with this morning and nig...    Gimlet   ['en']   \n",
       "\n",
       "                                rss_link  \\\n",
       "32   https://feeds.megaphone.fm/chompers   \n",
       "80   https://feeds.megaphone.fm/chompers   \n",
       "322  https://feeds.megaphone.fm/chompers   \n",
       "340  https://feeds.megaphone.fm/chompers   \n",
       "506  https://feeds.megaphone.fm/chompers   \n",
       "\n",
       "                                episode_uri  \\\n",
       "32   spotify:episode:009TPwk7i2wA7UA8QEjAo4   \n",
       "80   spotify:episode:00MArqb5egMeHpQ7UijTZ6   \n",
       "322  spotify:episode:01O3bGK4x6F4sQz1NbDlfx   \n",
       "340  spotify:episode:01TjH96HXWzLtE4qLVGHFj   \n",
       "506  spotify:episode:02Fur3rqWSFMeIDf8W7TbQ   \n",
       "\n",
       "                                episode_name  \\\n",
       "32       Sports Week Night Jokes (6-22-2019)   \n",
       "80                  Feelings Week Night Quiz   \n",
       "322  Chompions Week Night Jokes (12-24-2019)   \n",
       "340              History Week Night In Space   \n",
       "506                  Pets Week Morning I Spy   \n",
       "\n",
       "                                   episode_description  duration  \\\n",
       "32   Get ready for more sporty jokes on tonight's C...  3.395050   \n",
       "80   So, how many feelings can humans have? Shout i...  3.307100   \n",
       "322  You are too funny! Get ready for more giggles ...  2.837333   \n",
       "340  Tonight our time machine will bring us back in...  4.038100   \n",
       "506  We've got some reptilian pets for you on today...  3.554833   \n",
       "\n",
       "            show_filename_prefix episode_filename_prefix  \n",
       "32   show_21ASCcEXgUlbFSmoqjroZm  009TPwk7i2wA7UA8QEjAo4  \n",
       "80   show_21ASCcEXgUlbFSmoqjroZm  00MArqb5egMeHpQ7UijTZ6  \n",
       "322  show_21ASCcEXgUlbFSmoqjroZm  01O3bGK4x6F4sQz1NbDlfx  \n",
       "340  show_21ASCcEXgUlbFSmoqjroZm  01TjH96HXWzLtE4qLVGHFj  \n",
       "506  show_21ASCcEXgUlbFSmoqjroZm  02Fur3rqWSFMeIDf8W7TbQ  "
      ]
     },
     "execution_count": 4,
     "metadata": {},
     "output_type": "execute_result"
    }
   ],
   "source": [
    "df2 = df[df.show_name == 'Chompers']\n",
    "df2.head()"
   ]
  },
  {
   "cell_type": "code",
   "execution_count": 5,
   "id": "bf65dc5a-c182-45e4-b9fd-91be0835a9e5",
   "metadata": {},
   "outputs": [],
   "source": [
    "# Locations of episodes are based on two levels of folders: \n",
    "#    first_folder/second_folder/show/episode_metadata.json\n",
    "# To figure out the first_folder and second_folder by looking at \n",
    "# the first two characters in the show_uri column.\n",
    "\n",
    "# Then you can extract the transcripts...\n",
    "\n",
    "df['first_dir'] = df['show_uri'].str.extract(r'spotify:show:(\\w)')[0]\n",
    "df['second_dir'] = df['show_uri'].str.extract(r'spotify:show:\\w(\\w)')[0]"
   ]
  },
  {
   "cell_type": "code",
   "execution_count": 6,
   "id": "14a8a1da-ee63-4bf4-a470-460c04dc3bee",
   "metadata": {},
   "outputs": [
    {
     "data": {
      "text/html": [
       "<div>\n",
       "<style scoped>\n",
       "    .dataframe tbody tr th:only-of-type {\n",
       "        vertical-align: middle;\n",
       "    }\n",
       "\n",
       "    .dataframe tbody tr th {\n",
       "        vertical-align: top;\n",
       "    }\n",
       "\n",
       "    .dataframe thead th {\n",
       "        text-align: right;\n",
       "    }\n",
       "</style>\n",
       "<table border=\"1\" class=\"dataframe\">\n",
       "  <thead>\n",
       "    <tr style=\"text-align: right;\">\n",
       "      <th></th>\n",
       "      <th>show_uri</th>\n",
       "      <th>show_name</th>\n",
       "      <th>show_description</th>\n",
       "      <th>publisher</th>\n",
       "      <th>language</th>\n",
       "      <th>rss_link</th>\n",
       "      <th>episode_uri</th>\n",
       "      <th>episode_name</th>\n",
       "      <th>episode_description</th>\n",
       "      <th>duration</th>\n",
       "      <th>show_filename_prefix</th>\n",
       "      <th>episode_filename_prefix</th>\n",
       "      <th>first_dir</th>\n",
       "      <th>second_dir</th>\n",
       "    </tr>\n",
       "  </thead>\n",
       "  <tbody>\n",
       "    <tr>\n",
       "      <th>0</th>\n",
       "      <td>spotify:show:2NYtxEZyYelR6RMKmjfPLB</td>\n",
       "      <td>Kream in your Koffee</td>\n",
       "      <td>A 20-something blunt female takes on the world...</td>\n",
       "      <td>Katie Houle</td>\n",
       "      <td>['en']</td>\n",
       "      <td>https://anchor.fm/s/11b84b68/podcast/rss</td>\n",
       "      <td>spotify:episode:000A9sRBYdVh66csG2qEdj</td>\n",
       "      <td>1: It’s Christmas Time!</td>\n",
       "      <td>On the first ever episode of Kream in your Kof...</td>\n",
       "      <td>12.700133</td>\n",
       "      <td>show_2NYtxEZyYelR6RMKmjfPLB</td>\n",
       "      <td>000A9sRBYdVh66csG2qEdj</td>\n",
       "      <td>2</td>\n",
       "      <td>N</td>\n",
       "    </tr>\n",
       "    <tr>\n",
       "      <th>1</th>\n",
       "      <td>spotify:show:15iWCbU7QoO23EndPEO6aN</td>\n",
       "      <td>Morning Cup Of Murder</td>\n",
       "      <td>Ever wonder what murder took place on today in...</td>\n",
       "      <td>Morning Cup Of Murder</td>\n",
       "      <td>['en']</td>\n",
       "      <td>https://anchor.fm/s/b07181c/podcast/rss</td>\n",
       "      <td>spotify:episode:000HP8n3hNIfglT2wSI2cA</td>\n",
       "      <td>The Goleta Postal Facility shootings- January ...</td>\n",
       "      <td>See something, say something. It’s a mantra ma...</td>\n",
       "      <td>6.019383</td>\n",
       "      <td>show_15iWCbU7QoO23EndPEO6aN</td>\n",
       "      <td>000HP8n3hNIfglT2wSI2cA</td>\n",
       "      <td>1</td>\n",
       "      <td>5</td>\n",
       "    </tr>\n",
       "    <tr>\n",
       "      <th>2</th>\n",
       "      <td>spotify:show:6vZRgUFTYwbAA79UNCADr4</td>\n",
       "      <td>Inside The 18 : A Podcast for Goalkeepers by G...</td>\n",
       "      <td>Inside the 18 is your source for all things Go...</td>\n",
       "      <td>Inside the 18 GK Media</td>\n",
       "      <td>['en']</td>\n",
       "      <td>https://anchor.fm/s/81a072c/podcast/rss</td>\n",
       "      <td>spotify:episode:001UfOruzkA3Bn1SPjcdfa</td>\n",
       "      <td>Ep.36 - Incorporating a Singular Goalkeeping C...</td>\n",
       "      <td>Today’s episode is a sit down Michael and Omar...</td>\n",
       "      <td>43.616333</td>\n",
       "      <td>show_6vZRgUFTYwbAA79UNCADr4</td>\n",
       "      <td>001UfOruzkA3Bn1SPjcdfa</td>\n",
       "      <td>6</td>\n",
       "      <td>v</td>\n",
       "    </tr>\n",
       "    <tr>\n",
       "      <th>3</th>\n",
       "      <td>spotify:show:5BvKEjaMSuvUsGROGi2S7s</td>\n",
       "      <td>Arrowhead Live!</td>\n",
       "      <td>Your favorite podcast for everything @Chiefs! ...</td>\n",
       "      <td>Arrowhead Live!</td>\n",
       "      <td>['en-US']</td>\n",
       "      <td>https://anchor.fm/s/917dba4/podcast/rss</td>\n",
       "      <td>spotify:episode:001i89SvIQgDuuyC53hfBm</td>\n",
       "      <td>Episode 1: Arrowhead Live! Debut</td>\n",
       "      <td>Join us as we take a look at all current Chief...</td>\n",
       "      <td>58.189200</td>\n",
       "      <td>show_5BvKEjaMSuvUsGROGi2S7s</td>\n",
       "      <td>001i89SvIQgDuuyC53hfBm</td>\n",
       "      <td>5</td>\n",
       "      <td>B</td>\n",
       "    </tr>\n",
       "    <tr>\n",
       "      <th>4</th>\n",
       "      <td>spotify:show:7w3h3umpH74veEJcbE6xf4</td>\n",
       "      <td>FBoL</td>\n",
       "      <td>The comedy podcast about toxic characters, wri...</td>\n",
       "      <td>Emily Edwards</td>\n",
       "      <td>['en']</td>\n",
       "      <td>https://www.fuckboisoflit.com/episodes?format=rss</td>\n",
       "      <td>spotify:episode:0025RWNwe2lnp6HcnfzwzG</td>\n",
       "      <td>The Lion, The Witch, And The Wardrobe - Ashley...</td>\n",
       "      <td>The modern morality tail of how to stay good f...</td>\n",
       "      <td>51.782050</td>\n",
       "      <td>show_7w3h3umpH74veEJcbE6xf4</td>\n",
       "      <td>0025RWNwe2lnp6HcnfzwzG</td>\n",
       "      <td>7</td>\n",
       "      <td>w</td>\n",
       "    </tr>\n",
       "  </tbody>\n",
       "</table>\n",
       "</div>"
      ],
      "text/plain": [
       "                              show_uri  \\\n",
       "0  spotify:show:2NYtxEZyYelR6RMKmjfPLB   \n",
       "1  spotify:show:15iWCbU7QoO23EndPEO6aN   \n",
       "2  spotify:show:6vZRgUFTYwbAA79UNCADr4   \n",
       "3  spotify:show:5BvKEjaMSuvUsGROGi2S7s   \n",
       "4  spotify:show:7w3h3umpH74veEJcbE6xf4   \n",
       "\n",
       "                                           show_name  \\\n",
       "0                               Kream in your Koffee   \n",
       "1                              Morning Cup Of Murder   \n",
       "2  Inside The 18 : A Podcast for Goalkeepers by G...   \n",
       "3                                    Arrowhead Live!   \n",
       "4                                              FBoL    \n",
       "\n",
       "                                    show_description               publisher  \\\n",
       "0  A 20-something blunt female takes on the world...             Katie Houle   \n",
       "1  Ever wonder what murder took place on today in...   Morning Cup Of Murder   \n",
       "2  Inside the 18 is your source for all things Go...  Inside the 18 GK Media   \n",
       "3  Your favorite podcast for everything @Chiefs! ...         Arrowhead Live!   \n",
       "4  The comedy podcast about toxic characters, wri...           Emily Edwards   \n",
       "\n",
       "    language                                           rss_link  \\\n",
       "0     ['en']           https://anchor.fm/s/11b84b68/podcast/rss   \n",
       "1     ['en']            https://anchor.fm/s/b07181c/podcast/rss   \n",
       "2     ['en']            https://anchor.fm/s/81a072c/podcast/rss   \n",
       "3  ['en-US']            https://anchor.fm/s/917dba4/podcast/rss   \n",
       "4     ['en']  https://www.fuckboisoflit.com/episodes?format=rss   \n",
       "\n",
       "                              episode_uri  \\\n",
       "0  spotify:episode:000A9sRBYdVh66csG2qEdj   \n",
       "1  spotify:episode:000HP8n3hNIfglT2wSI2cA   \n",
       "2  spotify:episode:001UfOruzkA3Bn1SPjcdfa   \n",
       "3  spotify:episode:001i89SvIQgDuuyC53hfBm   \n",
       "4  spotify:episode:0025RWNwe2lnp6HcnfzwzG   \n",
       "\n",
       "                                        episode_name  \\\n",
       "0                            1: It’s Christmas Time!   \n",
       "1  The Goleta Postal Facility shootings- January ...   \n",
       "2  Ep.36 - Incorporating a Singular Goalkeeping C...   \n",
       "3                   Episode 1: Arrowhead Live! Debut   \n",
       "4  The Lion, The Witch, And The Wardrobe - Ashley...   \n",
       "\n",
       "                                 episode_description   duration  \\\n",
       "0  On the first ever episode of Kream in your Kof...  12.700133   \n",
       "1  See something, say something. It’s a mantra ma...   6.019383   \n",
       "2  Today’s episode is a sit down Michael and Omar...  43.616333   \n",
       "3  Join us as we take a look at all current Chief...  58.189200   \n",
       "4  The modern morality tail of how to stay good f...  51.782050   \n",
       "\n",
       "          show_filename_prefix episode_filename_prefix first_dir second_dir  \n",
       "0  show_2NYtxEZyYelR6RMKmjfPLB  000A9sRBYdVh66csG2qEdj         2          N  \n",
       "1  show_15iWCbU7QoO23EndPEO6aN  000HP8n3hNIfglT2wSI2cA         1          5  \n",
       "2  show_6vZRgUFTYwbAA79UNCADr4  001UfOruzkA3Bn1SPjcdfa         6          v  \n",
       "3  show_5BvKEjaMSuvUsGROGi2S7s  001i89SvIQgDuuyC53hfBm         5          B  \n",
       "4  show_7w3h3umpH74veEJcbE6xf4  0025RWNwe2lnp6HcnfzwzG         7          w  "
      ]
     },
     "execution_count": 6,
     "metadata": {},
     "output_type": "execute_result"
    }
   ],
   "source": [
    "df.head()"
   ]
  },
  {
   "cell_type": "markdown",
   "id": "d3652d68-a5a7-4609-971e-e951a4471ca8",
   "metadata": {},
   "source": [
    "## Attempt to print an entire transcript from a single episode of a show."
   ]
  },
  {
   "cell_type": "code",
   "execution_count": 7,
   "id": "8313f1e0-fd6e-4dc7-9eba-34e313b5ca2a",
   "metadata": {},
   "outputs": [
    {
     "data": {
      "text/plain": [
       "show_uri                                 spotify:show:4g9vEFANueSAWA50HtDjQM\n",
       "show_name                  Big D Beatdown - An unbiased Cowboys football ...\n",
       "show_description           Austin Smith, Ken Cunningham, and Ty Rogers ho...\n",
       "publisher                                                       BigDBeatdown\n",
       "language                                                              ['en']\n",
       "rss_link                             https://anchor.fm/s/a4c5784/podcast/rss\n",
       "episode_uri                           spotify:episode:009awoapZd90HCQHzDczrV\n",
       "episode_name                              Will Dak Prescott remain a Cowboy?\n",
       "episode_description        Tune in to Austin Smith and Coach Ty Rogers as...\n",
       "duration                                                           58.559567\n",
       "show_filename_prefix                             show_4g9vEFANueSAWA50HtDjQM\n",
       "episode_filename_prefix                               009awoapZd90HCQHzDczrV\n",
       "first_dir                                                                  4\n",
       "second_dir                                                                 g\n",
       "Name: 33, dtype: object"
      ]
     },
     "execution_count": 7,
     "metadata": {},
     "output_type": "execute_result"
    }
   ],
   "source": [
    "row = df.iloc[33]\n",
    "row"
   ]
  },
  {
   "cell_type": "code",
   "execution_count": 8,
   "id": "cb323344-2fbe-427c-ba14-58ad27105128",
   "metadata": {},
   "outputs": [
    {
     "data": {
      "text/plain": [
       "'../podcasts-no-audio-13GB-selected/spotify-podcasts-2020/podcasts-transcripts/4/g/show_4g9vEFANueSAWA50HtDjQM/009awoapZd90HCQHzDczrV.json'"
      ]
     },
     "execution_count": 8,
     "metadata": {},
     "output_type": "execute_result"
    }
   ],
   "source": [
    "show_dir = basename + row['first_dir']+'/'+row['second_dir'] + '/' + row['show_filename_prefix'] + '/'\n",
    "episode_json = show_dir + row['episode_filename_prefix'] + '.json'\n",
    "episode_json"
   ]
  },
  {
   "cell_type": "code",
   "execution_count": 9,
   "id": "49063732-1a9e-4784-a2ff-81d0ef13f4d9",
   "metadata": {},
   "outputs": [],
   "source": [
    "import json\n",
    "with open(episode_json, 'r') as json_file:\n",
    "    data = json.load(json_file)"
   ]
  },
  {
   "cell_type": "code",
   "execution_count": 10,
   "id": "70ec9a38-60a7-4f94-966c-57f7399ec248",
   "metadata": {},
   "outputs": [
    {
     "data": {
      "text/plain": [
       "dict_keys(['results'])"
      ]
     },
     "execution_count": 10,
     "metadata": {},
     "output_type": "execute_result"
    }
   ],
   "source": [
    "data.keys()"
   ]
  },
  {
   "cell_type": "code",
   "execution_count": 11,
   "id": "ad9c47a0-1bbd-4f12-b6c6-fc55d367f993",
   "metadata": {},
   "outputs": [
    {
     "data": {
      "text/plain": [
       "165"
      ]
     },
     "execution_count": 11,
     "metadata": {},
     "output_type": "execute_result"
    }
   ],
   "source": [
    "len(data['results'])"
   ]
  },
  {
   "cell_type": "code",
   "execution_count": 12,
   "id": "d8dc38cf-3014-4f16-bcb9-26b48e5036ff",
   "metadata": {},
   "outputs": [
    {
     "data": {
      "text/plain": [
       "[{'transcript': \"Hey there, Cowboy fans. Welcome to the unbiased podcast because team I'm your host Austin Smith and joining me as always is coach Ty Rogers one of our analysts over at pigskin nut and a lifelong Cowboy fan and we are the Big D beat down and we are brought to you today by pigskin nut.com the soon-to-be Undisputed king of football news and podcasts with your in your car taking a break from work or just relaxing at the house. It's always better to be doing. So while you're getting your football fix we break down players on our pro football scouting show as well as tackle some of the most\",\n",
       "  'confidence': 0.7660776376724243,\n",
       "  'words': [{'startTime': '1.600s', 'endTime': '1.800s', 'word': 'Hey'},\n",
       "   {'startTime': '1.800s', 'endTime': '2.100s', 'word': 'there,'},\n",
       "   {'startTime': '2.100s', 'endTime': '2.600s', 'word': 'Cowboy'},\n",
       "   {'startTime': '2.600s', 'endTime': '3s', 'word': 'fans.'},\n",
       "   {'startTime': '3s', 'endTime': '3.300s', 'word': 'Welcome'},\n",
       "   {'startTime': '3.300s', 'endTime': '3.400s', 'word': 'to'},\n",
       "   {'startTime': '3.400s', 'endTime': '3.500s', 'word': 'the'},\n",
       "   {'startTime': '3.500s', 'endTime': '3.900s', 'word': 'unbiased'},\n",
       "   {'startTime': '3.900s', 'endTime': '4.800s', 'word': 'podcast'},\n",
       "   {'startTime': '4.800s', 'endTime': '5.100s', 'word': 'because'},\n",
       "   {'startTime': '5.100s', 'endTime': '5.400s', 'word': 'team'},\n",
       "   {'startTime': '5.400s', 'endTime': '5.600s', 'word': \"I'm\"},\n",
       "   {'startTime': '5.600s', 'endTime': '5.700s', 'word': 'your'},\n",
       "   {'startTime': '5.700s', 'endTime': '6s', 'word': 'host'},\n",
       "   {'startTime': '6s', 'endTime': '6.400s', 'word': 'Austin'},\n",
       "   {'startTime': '6.400s', 'endTime': '6.800s', 'word': 'Smith'},\n",
       "   {'startTime': '6.900s', 'endTime': '7s', 'word': 'and'},\n",
       "   {'startTime': '7s', 'endTime': '7.200s', 'word': 'joining'},\n",
       "   {'startTime': '7.200s', 'endTime': '7.400s', 'word': 'me'},\n",
       "   {'startTime': '7.400s', 'endTime': '7.600s', 'word': 'as'},\n",
       "   {'startTime': '7.600s', 'endTime': '8s', 'word': 'always'},\n",
       "   {'startTime': '8s', 'endTime': '8.100s', 'word': 'is'},\n",
       "   {'startTime': '8.100s', 'endTime': '8.400s', 'word': 'coach'},\n",
       "   {'startTime': '8.400s', 'endTime': '8.600s', 'word': 'Ty'},\n",
       "   {'startTime': '8.600s', 'endTime': '9.100s', 'word': 'Rogers'},\n",
       "   {'startTime': '9.100s', 'endTime': '9.200s', 'word': 'one'},\n",
       "   {'startTime': '9.200s', 'endTime': '9.400s', 'word': 'of'},\n",
       "   {'startTime': '9.400s', 'endTime': '9.500s', 'word': 'our'},\n",
       "   {'startTime': '9.500s', 'endTime': '9.900s', 'word': 'analysts'},\n",
       "   {'startTime': '9.900s', 'endTime': '10.200s', 'word': 'over'},\n",
       "   {'startTime': '10.200s', 'endTime': '10.300s', 'word': 'at'},\n",
       "   {'startTime': '10.300s', 'endTime': '10.800s', 'word': 'pigskin'},\n",
       "   {'startTime': '10.800s', 'endTime': '11.100s', 'word': 'nut'},\n",
       "   {'startTime': '11.100s', 'endTime': '11.300s', 'word': 'and'},\n",
       "   {'startTime': '11.300s', 'endTime': '11.400s', 'word': 'a'},\n",
       "   {'startTime': '11.400s', 'endTime': '11.800s', 'word': 'lifelong'},\n",
       "   {'startTime': '11.800s', 'endTime': '12.300s', 'word': 'Cowboy'},\n",
       "   {'startTime': '12.300s', 'endTime': '12.700s', 'word': 'fan'},\n",
       "   {'startTime': '12.800s', 'endTime': '13s', 'word': 'and'},\n",
       "   {'startTime': '13s', 'endTime': '13.200s', 'word': 'we'},\n",
       "   {'startTime': '13.200s', 'endTime': '13.400s', 'word': 'are'},\n",
       "   {'startTime': '13.400s', 'endTime': '13.500s', 'word': 'the'},\n",
       "   {'startTime': '13.500s', 'endTime': '13.700s', 'word': 'Big'},\n",
       "   {'startTime': '13.700s', 'endTime': '13.800s', 'word': 'D'},\n",
       "   {'startTime': '13.800s', 'endTime': '14s', 'word': 'beat'},\n",
       "   {'startTime': '14s', 'endTime': '14.400s', 'word': 'down'},\n",
       "   {'startTime': '14.500s', 'endTime': '14.600s', 'word': 'and'},\n",
       "   {'startTime': '14.600s', 'endTime': '14.700s', 'word': 'we'},\n",
       "   {'startTime': '14.700s', 'endTime': '14.800s', 'word': 'are'},\n",
       "   {'startTime': '14.800s', 'endTime': '15s', 'word': 'brought'},\n",
       "   {'startTime': '15s', 'endTime': '15.100s', 'word': 'to'},\n",
       "   {'startTime': '15.100s', 'endTime': '15.200s', 'word': 'you'},\n",
       "   {'startTime': '15.200s', 'endTime': '15.400s', 'word': 'today'},\n",
       "   {'startTime': '15.400s', 'endTime': '15.600s', 'word': 'by'},\n",
       "   {'startTime': '15.600s', 'endTime': '16.200s', 'word': 'pigskin'},\n",
       "   {'startTime': '16.200s', 'endTime': '17s', 'word': 'nut.com'},\n",
       "   {'startTime': '17s', 'endTime': '17.100s', 'word': 'the'},\n",
       "   {'startTime': '17.100s', 'endTime': '17.700s', 'word': 'soon-to-be'},\n",
       "   {'startTime': '17.700s', 'endTime': '18.300s', 'word': 'Undisputed'},\n",
       "   {'startTime': '18.300s', 'endTime': '18.800s', 'word': 'king'},\n",
       "   {'startTime': '18.800s', 'endTime': '19s', 'word': 'of'},\n",
       "   {'startTime': '19s', 'endTime': '19.500s', 'word': 'football'},\n",
       "   {'startTime': '19.500s', 'endTime': '19.900s', 'word': 'news'},\n",
       "   {'startTime': '19.900s', 'endTime': '20s', 'word': 'and'},\n",
       "   {'startTime': '20s', 'endTime': '20.800s', 'word': 'podcasts'},\n",
       "   {'startTime': '20.800s', 'endTime': '20.900s', 'word': 'with'},\n",
       "   {'startTime': '20.900s', 'endTime': '21.100s', 'word': 'your'},\n",
       "   {'startTime': '21.100s', 'endTime': '21.200s', 'word': 'in'},\n",
       "   {'startTime': '21.200s', 'endTime': '21.400s', 'word': 'your'},\n",
       "   {'startTime': '21.400s', 'endTime': '21.600s', 'word': 'car'},\n",
       "   {'startTime': '21.600s', 'endTime': '21.900s', 'word': 'taking'},\n",
       "   {'startTime': '21.900s', 'endTime': '22s', 'word': 'a'},\n",
       "   {'startTime': '22s', 'endTime': '22.200s', 'word': 'break'},\n",
       "   {'startTime': '22.200s', 'endTime': '22.400s', 'word': 'from'},\n",
       "   {'startTime': '22.400s', 'endTime': '23s', 'word': 'work'},\n",
       "   {'startTime': '23.100s', 'endTime': '23.200s', 'word': 'or'},\n",
       "   {'startTime': '23.200s', 'endTime': '23.500s', 'word': 'just'},\n",
       "   {'startTime': '23.500s', 'endTime': '24s', 'word': 'relaxing'},\n",
       "   {'startTime': '24s', 'endTime': '24s', 'word': 'at'},\n",
       "   {'startTime': '24s', 'endTime': '24.100s', 'word': 'the'},\n",
       "   {'startTime': '24.100s', 'endTime': '24.600s', 'word': 'house.'},\n",
       "   {'startTime': '24.600s', 'endTime': '24.800s', 'word': \"It's\"},\n",
       "   {'startTime': '24.800s', 'endTime': '25.100s', 'word': 'always'},\n",
       "   {'startTime': '25.100s', 'endTime': '25.300s', 'word': 'better'},\n",
       "   {'startTime': '25.300s', 'endTime': '25.400s', 'word': 'to'},\n",
       "   {'startTime': '25.400s', 'endTime': '25.500s', 'word': 'be'},\n",
       "   {'startTime': '25.500s', 'endTime': '25.700s', 'word': 'doing.'},\n",
       "   {'startTime': '25.700s', 'endTime': '25.900s', 'word': 'So'},\n",
       "   {'startTime': '25.900s', 'endTime': '26.100s', 'word': 'while'},\n",
       "   {'startTime': '26.100s', 'endTime': '26.200s', 'word': \"you're\"},\n",
       "   {'startTime': '26.200s', 'endTime': '26.400s', 'word': 'getting'},\n",
       "   {'startTime': '26.400s', 'endTime': '26.600s', 'word': 'your'},\n",
       "   {'startTime': '26.600s', 'endTime': '26.900s', 'word': 'football'},\n",
       "   {'startTime': '26.900s', 'endTime': '27.400s', 'word': 'fix'},\n",
       "   {'startTime': '27.500s', 'endTime': '27.700s', 'word': 'we'},\n",
       "   {'startTime': '27.700s', 'endTime': '27.900s', 'word': 'break'},\n",
       "   {'startTime': '27.900s', 'endTime': '28.100s', 'word': 'down'},\n",
       "   {'startTime': '28.100s', 'endTime': '28.500s', 'word': 'players'},\n",
       "   {'startTime': '28.500s', 'endTime': '28.600s', 'word': 'on'},\n",
       "   {'startTime': '28.600s', 'endTime': '28.700s', 'word': 'our'},\n",
       "   {'startTime': '28.700s', 'endTime': '28.900s', 'word': 'pro'},\n",
       "   {'startTime': '28.900s', 'endTime': '29.300s', 'word': 'football'},\n",
       "   {'startTime': '29.300s', 'endTime': '29.700s', 'word': 'scouting'},\n",
       "   {'startTime': '29.700s', 'endTime': '30.100s', 'word': 'show'},\n",
       "   {'startTime': '30.200s', 'endTime': '30.400s', 'word': 'as'},\n",
       "   {'startTime': '30.400s', 'endTime': '30.500s', 'word': 'well'},\n",
       "   {'startTime': '30.500s', 'endTime': '30.600s', 'word': 'as'},\n",
       "   {'startTime': '30.600s', 'endTime': '30.900s', 'word': 'tackle'},\n",
       "   {'startTime': '30.900s', 'endTime': '31s', 'word': 'some'},\n",
       "   {'startTime': '31s', 'endTime': '31.100s', 'word': 'of'},\n",
       "   {'startTime': '31.100s', 'endTime': '31.200s', 'word': 'the'},\n",
       "   {'startTime': '31.200s', 'endTime': '31.300s', 'word': 'most'}]}]"
      ]
     },
     "execution_count": 12,
     "metadata": {},
     "output_type": "execute_result"
    }
   ],
   "source": [
    "data['results'][0]['alternatives']"
   ]
  },
  {
   "cell_type": "code",
   "execution_count": 13,
   "id": "cf45c72e-b87a-4a7b-b4dc-50ee742afb6f",
   "metadata": {},
   "outputs": [
    {
     "data": {
      "text/plain": [
       "1"
      ]
     },
     "execution_count": 13,
     "metadata": {},
     "output_type": "execute_result"
    }
   ],
   "source": [
    "len(data['results'][0]['alternatives'])"
   ]
  },
  {
   "cell_type": "code",
   "execution_count": 14,
   "id": "0d627fa5-31fd-48e2-854a-a530af996277",
   "metadata": {},
   "outputs": [
    {
     "data": {
      "text/plain": [
       "dict_keys(['transcript', 'confidence', 'words'])"
      ]
     },
     "execution_count": 14,
     "metadata": {},
     "output_type": "execute_result"
    }
   ],
   "source": [
    "data['results'][0]['alternatives'][0].keys()"
   ]
  },
  {
   "cell_type": "code",
   "execution_count": 15,
   "id": "c4dbd7c5-4809-4eca-9f33-1103850acda4",
   "metadata": {},
   "outputs": [
    {
     "data": {
      "text/plain": [
       "\"Hey there, Cowboy fans. Welcome to the unbiased podcast because team I'm your host Austin Smith and joining me as always is coach Ty Rogers one of our analysts over at pigskin nut and a lifelong Cowboy fan and we are the Big D beat down and we are brought to you today by pigskin nut.com the soon-to-be Undisputed king of football news and podcasts with your in your car taking a break from work or just relaxing at the house. It's always better to be doing. So while you're getting your football fix we break down players on our pro football scouting show as well as tackle some of the most\""
      ]
     },
     "execution_count": 15,
     "metadata": {},
     "output_type": "execute_result"
    }
   ],
   "source": [
    "data['results'][0]['alternatives'][0]['transcript']"
   ]
  },
  {
   "cell_type": "code",
   "execution_count": 16,
   "id": "693d7291-b81e-49df-bffa-a599654170d8",
   "metadata": {},
   "outputs": [
    {
     "data": {
      "text/plain": [
       "\"Currently controversial topics on our football Roundtable we discuss some of the all-time greats on our show wide right and put out exclusive shows on some of your favorite NFL teams such as the Giants Eagles Browns Broncos Chief Steelers, and of course, you're Dallas Cowboys make pigskin your ultimate source for football news and podcasts. If you want quality analysis with independent opinions from people who know and understand the X's and O's of the game head on over to pick skin nut. Remember guys pick skin nut for those crazy about football.\""
      ]
     },
     "execution_count": 16,
     "metadata": {},
     "output_type": "execute_result"
    }
   ],
   "source": [
    "data['results'][1]['alternatives'][0]['transcript']"
   ]
  },
  {
   "cell_type": "code",
   "execution_count": 17,
   "id": "2997c6f3-4053-4627-85da-daabec2db955",
   "metadata": {},
   "outputs": [
    {
     "name": "stdout",
     "output_type": "stream",
     "text": [
      "Missing Transcript in Segment 164,"
     ]
    }
   ],
   "source": [
    "transcript = ''\n",
    "for segment in range(len(data['results'])):\n",
    "    try: \n",
    "        transcript += data['results'][segment]['alternatives'][0]['transcript']\n",
    "    except:\n",
    "        print(f\"Missing Transcript in Segment {segment}\",end=',')\n"
   ]
  },
  {
   "cell_type": "code",
   "execution_count": 19,
   "id": "f3ae5d99-c638-4935-90b2-389beb7b3df8",
   "metadata": {},
   "outputs": [
    {
     "data": {
      "text/plain": [
       "\"Hey there, Cowboy fans. Welcome to the unbiased podcast because team I'm your host Austin Smith and joining me as always is coach Ty Rogers one of our analysts over at pigskin nut and a lifelong Cowboy fan and we are the Big D beat down and we are brought to you today by pigskin nut.com the soon-to-be Undisputed king of football news and podcasts with your in your car taking a break from work or just relaxing at the house. It's always better to be doing. So while you're getting your football fix we break down players on our pro football scouting show as well as tackle some of the mostCurrently controversial topics on our football Roundtable we discuss some of the all-time greats on our show wide right and put out exclusive shows on some of your favorite NFL teams such as the Giants Eagles Browns Broncos Chief Steelers, and of course, you're Dallas Cowboys make pigskin your ultimate source for football news and podcasts. If you want quality analysis with independent opinions from people who know and understand the X's and O's of the game head on over to pick skin nut. Remember guys pick skin nut for those crazy about football. All right, coach Ty. Um, you know, it's been a little while since we talked, you know, the kind of had the end of the season we've had coaching staff hired. We talked about that a little bit one of our past episodes. I did a little episode on on players to keep an eye on at the Senior Bowl last week and now but it's time to get into some of the biggest priorities of the offseason in today. We're going to talk about priority number one now that Mike McCarthy and his staff are hired. And that is Dak Prescott in his future on this football team now coach Ty. I mean, let's start with this Coach. Jerry Jones has made no, you know, he's made no mystery about whether or not he wants to keep Dak Prescott around he has made it clear Dak Prescott is valuable commodity to this team that he wouldn't take two first-round picks for deck Prescott's that he thought Dak Prescott was better than any quarterback that would have been available in last year's. Draft that you know that that Dak Prescott is the future of this team. Not just this presence or passed. So with that being said, I mean, he's really putting all his cards on the table. He's making it clear that that you know, Dak Prescott wheat want you here and you're and that's I'm going to do whatever it takes to get you here. Now having said that that doesn't necessarily lend itself to Jerry Jones being willing to Play hardball with Dak Prescott and Todd France his agents. We thought that might have been the case the beginning at the year when rumors had it that that Jerry and the Cowboys had offered Dak Prescott a contract worth 30 million dollars a year. Annually and Todd fry France rejected that we heard some off-the-wall rumors that all there they're seeking 40 million a year. I don't know how much I believe that if I were to believe that I think it would be more of a A negotiation tactic you say 30. We say 40 you say 32. He say 38, so we find numbers out and y'all are willing to spend the most, you know, the most I guess you could say the majority of the rumors that we heard. We're that 34 million a year was direction that that Dak Prescott Scamp was going Having said all that we've had contract, you know, we had a contract offered at some point early in year. It was not accepted. Jerry has stood by the fact that he wants Dak Prescott to stay here back obviously to stay here. Stephen Jones has made it clear that no, he will we will get a deal done. What are your thoughts on this whole thing? Do you really think there's any hard ball being played here or do you think this is just posturing until both sides? the number that they can live with You know, I can't imagine it being anything other than posturing. Like you said with a verb has been out there. I think both sides have pretty much said the whole time that they want to negotiate. They do want to make a deal no point has that Crest God's Camp said that he's looking to shop himself in the free market and no point is Jerry Jones talked about going a different direction even with the coaching change and and you know people who follow this podcast know that when the coach has changed, Made I was a little concerned that maybe Dak Prescott would hit the free market and that's whoever was brought in might want to go a different direction with the quarterback position. But even Mike McCarthy and his press conference and in several interviews, he's done. The said the DAC is are more priority. So the deals going to get done. The question obviously is the number and the questions of time frame the thing that's going to accelerate both of those that here soon. The Dallas Cowboys are going up to Make a decision as to whether or not they want to put the franchise tag on Dak Prescott. And that right. There is the one major bargaining ship. I believe that Dak Prescott has because that franchise tag could be used to sign up Byron Jones for another year. And so those are the type of things that Crush guys Camp has got to be talking with Jerry by saying look, you know with that coming with the upcoming change that we're going to have in salary cap room. You know the it's better if we go and get this done and that way you guys avoid having to deal with the mess of using the franchise tag on me and then having to try to sign them are Cooper by Jones and then other players in the free agent Market, you know, I was reading an article today about, you know, a deal trying to get done to bring them all out of this here to Dallas. They can't do that if they've got that still kind of looming out there. So it's definitely Posturing on both sides. They definitely do want to get the deal done. I guess the question is going to be how you know, what type of incentives can Jerry Jones throw in. I mean, this is always been his thing is finding a way to you know, make sure that the guaranteed money is bigger make sure that there's some type of you know, a sponsoring or advertising situation for the long term. And those are the type of things that obviously makes him the Hall of Fame owner that he is so We'll see how quickly that gets done by think that it would not surprise me. If not, very long after the Super Bowl. This is finished. So the Cowboys can move on to the other pressing needs. They've got which by the way are a lot more complicated. I think the decks could contract. Yeah, and and and that key he's got to be the first the first, you know chip that falls, you know, he's got to I mean if you want to go shop for a Jamal Adams if you want to get things done with Amari Cooper, Byron Jones in you know anybody else, you know, that's a possible free agent on the Cowboys roster. I mean, it's got to happen after Dak. You know, I'll say this much, you know, they're there in lies. The the the truth of the issue is the Cowboys have Super Bowl aspirations, which I'm not saying that the other 31 franchises don't but you know There's a difference. I mean there's a difference in realistic possibilities on whether or not a team can get to a franchise. I'm sorry, the Cincinnati Bengals aren't you know or Miami Dolphins aren't exactly making plans based around competing for Super Bowl here in the next year or two if it happens that would be awesome for them. But that's just not where their current their roster currently leads them to believe. They can make that a realistic expectation the Dallas Cowboys have an offense that's ready to compete. Eat at a extremely high-level defense, you know what took a step back last year. But hey, I'll remind everybody a year before that. We thought this was one of the best up-and-coming defenses in the league good young linebacker Duo is a defensive end that was on his way to an extension at the time to Marcus Lawrence who's now gotten that extension young secondary with breakout prospects and and and yes, you know it was it absolutely turned into a disappointing just just mess with what Chris Richard and Rob Marinelli put together last season, but that's not to say that that that you know, these guys can't turn around and have bounced back years because yes, there are a number of free agents on this defense, but still we've got some Talent on that defense to so with that being said Dak Prescott, you know, we are going to be looking at doing our best to put out a championship-caliber roster. with that in mind but we you know, we need every penny we can get we need every ounce save that we can get and in some scenarios, you know, you're going to have to make hard choices on people and right now I think Dak Prescott has the ability just like zekiel Elliot did and chose not to take Dak Prescott has the ability to make it easier to keep an Amari Cooper a Byron Jones around or The others that we'll get into later and that's kind of I think the biggest issue. You know that that I would have in the negotiation is but yes, obviously this is a business. However, you're the starting quarterback for the Dallas Cowboys business will always take care of itself for you. Even if it's you know, this this contract doesn't reflect the best business decision. There will always be endorsements. This is Texas state. without state tax You know the money trust me the money will always show up to Dak Prescott. As long as he's playing quarterback for the Dallas Cowboys. So, you know, it's one of those things where bud, you know, the the money you allow us to hold onto this year. Maybe the extra two or three million. Annually that we're allowed to keep maybe that's the money that convinces a Byron Jones to stay or convinces and Amari Cooper to stay or better yet convinces one of those future guys, like Michael Gallop like like Layton Vander Ash like maybe even a Jordan Lewis who will talk a little bit about later on maybe those guys to stay. So that's really the biggest issue that that the Cowboys you We have in this negotiator in process is that yes Dak Prescott Scamp is out for deck Prescott. Jerry Jones is out for the Dallas Cowboys and their Super Bowl aspirations and we have to find a way to maximize the the the the, you know, the process of paying Dak Prescott and keeping our Super Bowl expectations as high as possible. So with that That being said coach Ty. You know, Jerry Jones has not exactly hidden and like I mentioned this early Jerry Steve and they have not hidden how badly they want him coached. I would what kind of timetable are you putting on this because and I put this in my article that I wrote over on pigskin that.com, and for those of y'all that haven't gotten a chance to see it yet. You can go to pigskin not.com / Cowboys and you'll see it the risk reward. Playing of pea playing Hardball with Dak Prescott. I examine every angle to the negotiations of Dak Prescott including the possible market for him. Whoo Stickley is on that market and at the end I talk about this timetable and you mentioned it sir. The deadline to put a franchise tag is on or I beg your pardon the opening date to put on a franchise tag is February 25th. The deadline is March 10th right now. Are in late January. So the Cowboys have got about a month of of negotiating time before time comes time to issue a tag or for before they can actually issue a tag March 10th is the deadline and guess what a week later the NFL league year starts. And the free agency period begins at 4 p.m. On March 18th. So with that being said the clock's ticking coach Ty is this something that you think Jerry Jones and Stephen Jones based on what we've been hearing from them and how confident they are that Dak Prescott is going to be this team's quarterback of the future is do you see this getting done here in the next we are week two weeks a month or do you think it'll go to that franchise tag that? Sighs tag deadline. Yeah, I think I'll be done within the next month. I don't think that they want to the Cowboys want to go to the draft and start the draft festivities and bring people in and all those things without having that Prescott as one of the leverage pieces for that situation. Plus I'm Cowboy is going to be very busy pre-draft giving some deals put together. I think that that is something that Mike McCarthy wants done there some Personnel that he wants on this team and I think the Jerry Jones and making them a car through move said a couple of things and one of those was that he is not satisfied with the state of the current roster that does need to be improved. We've got some pieces obviously, but does not the level that it needs to be to get the Cowboys back to playoff level and Super Bowl level, so I assume here before. You know, I would say for the end of February gets done fact, I wouldn't be surprised to get done here in the next couple weeks. But yeah, it's definitely not going to go up to the the franchise tag situation because that's going to make some other people skittish the Cowboys want to sign and I think that you know, he they don't want to take that step. So yeah, I think it's done here in a pretty short amount of time for you know money that is going to be I'll know right above and beyond what everybody else is making I think and you know, some people will think of that is overpaying for DAC. Some people will not but ultimately I think he's earned that particularly even though the team struggled last year what he did was a pretty strong accomplishments. Oh, yeah, you know and I'll say this much did you dream scenario is like you said to get this job done in the next few weeks. Weeks because then it gives you an opportunity to start, you know to get more serious with Amari Cooper and any contract extension talks and possibly even get that deal done before that free agency period starts on March 18th, because let's be honest guys. I mean not letting these guys get to a point where they can talk with other teams and negotiate with other teams. That's you know, that's the goal. That's that's the goal to keeping teams from driving up prices on. From stealing someone away because let me tell you our good buddy Josh Davis over at the Philly convo at pigskin nut.com. He is adamant that the Philadelphia Eagles are going to make a hard push for Amari Cooper. I mean he is sold on it man if if he hits that March 18th date, which technically I want to say March 14th or 15th somewhere around there teams can actually start talking with players from another roster that are set to be free. Hence, there's a kind of an early early period where they can at least have discussions March 18th. Is that day though, when when contracts can be signed in pain and that's um, you know keeping Amari Cooper, you know from that process or even a Dak Prescott that's got to be the Cowboys top goal, which would mean that Prescott. You know, that chips got a fall here in the end at least the next three weeks, so We're going to go ahead and take a break when we come back. We are going to talk about this Cowboy's contract for Dak Prescott. And and what it could possibly be where it fits what other players in this league, you know, we can compare those numbers to and what in what in general Dak Prescott could be signing for here in the near future. We'll get to all that when we get back here on the Big D beat down. So you want to make a podcast, but you don't know where to start. Anchor FM if you haven't heard of anchor FM, I'll explain one it's free to use to you can create and edit your content right there with the tools anchor provides. Also, they will distribute it for you salad such as putt Spotify Apple podcast caster and more. Another reason you can make money even with no established listenership download the free anchor app or go to Anchor dot. F m-- and get started anchor FM everything. You need to make a podcast in one place and we are back here on the Big D Beach and I'm your host Austin Smith joined as always by coach Tyler Rogers and we are talking about the Dak Prescott contract talks. We are talking about you know, what the Cowboys are going to In order to get Prescott under contract we are talking about what Dak Prescott is ultimately going to be asking for and Coach Ty let's focus in on that, you know, obviously Prescott's and Camp has a number in mind. I'm sure that you know, they have no problem with the Joneses overpaying but considering this team is competing for Super Bowl. We have a number of big contracts already on our roster and we've got more to Pass out after Dak Prescott overpaying is just something to Cowboys cannot afford to do. So, let's talk about what would be the reasonable contract not the Team friendly deal. Not the Dax and Todd Frances Ultimate Dream deal know the deal that would make the most sense and I'm going to start off by saying this coach Ty Jared Goff Carson Wentz Russell Wilson all signed contracts this past. Season now, I'm not going to put Russell Wilson in the same conversation as Dak Prescott, but it could create a ceiling for what the doc Prescott contract could be Russell Wilson signed his deal. First of the three he signs his deal for four years a hundred and forty million dollars with a hundred and seven million guaranteed. That's a thirty five million dollar annual value on the extension itself. now Russell Wilson's got two Super Bowl appearances one of which he won the other one. He came within a yard of winning. Like I say he is not necessarily the standard of what I think Dak Prescott scam should be looking for however after that we see Carson Wentz get an extension for years a hundred and twenty eight million annual value of 32 a year. On the extension with a guaranteed number just over Russell Wilson a hundred and eight million guaranteed. And just like that. We've got somebody who's got a reasonable argument for setting the market for Dak Prescott. Carson Wentz a guy that saying I mean in in in each Carson Wentz and Jared Goff climbing to mention next all of them in the same draft class, obviously Golf and wince go one and two Prescott goes late in the fourth round with a compensation pick for the Dallas Cowboys. However, all of them very similar careers all of them have a case. Why they're the best of the trio when you look at the stats, when you look at the accomplishments each one of them has their own individual case. But when when signed that deal, I think we all got ours. We all got a good idea of what Dak Prescott could be making and then Jared Goff signs and he won upset a little bit on Carson Wentz and and I'll give golf this he was coming off his two best seasons including one at the the last one in which he led his team to a Super Bowl appearance where they lost to the New England Patriots, but Goff coming off a two straight years with over a hundred quarterback rating. Being coming off of two straight years with his better completion percentages two straight years where he was the starter full season. Don't forget. He was not a starter that earlier in the ram that first year in the Rams. He he didn't start till Midway through the year. He ends up getting four years a hundred and thirty four million get a hundred thirty four million, which is 33 and a half. On an annual on an annual average on that on that extension along with a hundred and ten million guaranteed. So now the guaranteed number has gone up again from 107 with Russell Wilson to 108 with Carson Wentz. So now 110 with Jared Goff now, we've got a little bit of a range Carson at 32 annually golf at 33 and a half. Annually you now yes other factors of how much they're structuring. In to last season, which was technically the last year of their rookie contract before the extension kicks in that's part of it too. Not all these guys, you know, they're not just going to after this you season ended all that money kicks in know you sign the extension and then you structure it to throw some of that into the current year in order to smooth it out a little bit still we've at least got an annual that an annual average of What Dak should be in the market for somewhere around 32 to 33 and a half now coach Ty. I'm going to swing this to you. Now, we make the case to me about whether or not that Prescott belongs in the Carson Wentz conversation at 32 a year in the Gulf conversation at 33 and a half a year. Maybe somewhere in between or maybe just slightly over what stance You take in and and and give me a little little little bit to back it up. Well, you know, it's kind of a complicated issue because these contracts get you know, Elevate every single year regardless of the quality of quarterback. Like it's more a numbers thing and a value thing for the agents. I think anybody else but when you look at what dag did last year DAC is was arguably the most improved quarterback in the league. He was the leader of the second best offense in the league. His ability to throw the football down the field was what he was one of the more deadly, you know deep ball throws in the League last year. He had a better year statistically than Jared often last year. I am not sure about the stats with Carson Wentz by think that that also applies to him. Yes. And so you know that being the case, this is a what you what have you done for me, you know lately. Big and what comes the contracts that is been the case also, you know when Good your golf got his extension last year. We both talked Ad nauseam on the on the podcast about how that had pumps with the Cowboys could have paid him because we both felt that that was a little bit of Overkill and overpay for Jared Goff services. So is there a possibility that at 33 or thirty three and a a half million that the Cowboys be overpaying for that cross got the answer is yes, but the answer is also and so what because even though the Cowboys definitely have to have the extra cap space to sign the other free agents that they've got to get to if they don't have deck and place it tremendously Hurts The Leverage to get somebody like a mark Cooper signed for less money, which is what's going to have to happen if they On deck at that level. He's not going to sign for as much as he probably could if he was going somewhere else with more cap space now is also not going to be on a team that's near as successful and Amari Cooper knows the value of a successful quarterback of value most successful offense because of his time with the Raiders and how that quickly declined. So, you know, there's a lot of cases as to maybe should be in between those two, but I just don't see that happening in the marketplace. This day and age and of course right after that there's going to be somebody else sign it's going to be signed for hired him and then you know, unfortunately that's kind of the way that this thing has rolled for NFL teams. Anyway over the last few years, but you know, I see that cross guy coming in somewhere around thirty three to thirty three and a half million dollars. I don't know how that will be structured. I'm sure will be structured in a much different way than the golf contract and I think will be structured much differently than the The Carson Wentz contract because Carson Wentz has had some health issues that deck is not but I see it at 33 or 33 and a half million and I think you know when you think about the production you think about the future of the franchise, it's probably as small a number as you get if you wait longer you're going to get a bigger number and that's not going to be good for the Cowboys going forward. Yeah. I'll throw this out there if I told you that there was a quarterback on the market coming off of his best season. And in which the offensive line played outstanding the running back played very well was one of the best in the league and a real a trio of receivers, you know made all of this made the quarterbacks job easier and he went out and had a career year you would say wow. That could be Dak Prescott. Or it could be Jared Goff a year ago when he signed that extension. Very very similar issues and they say, oh we'll look at Jared Goff. He's nowhere near as good as Dak was this year funny thing Todd Gurley was not himself this year that offensive line fell to pieces and one it was one of the worst and football after injuries and after some departures in free agency. That offensive line was one of the worst and football and what is Jared Goff end up with and eighty six point five quarterback rating in after posting quarterback ratings of a hundred 1.1 the prior year when they went to the Super Bowl and a hundred point five the year before that. I mean if you look at Jared golf's numbers from his to those two good years that led up to this contract extension. He's got over a hundred quarter over a hundred quarterback rating in both of them. He averaged 30 touchdowns a year passing DAC through for 30 this year. He averaged nine interceptions 9.5 technically. During those two years Dak Prescott had 11 this year. So slightly higher on the interception rate. He averaged 8.2 yards per pass. That's exactly what Dak Prescott averaged this year. You know, it's he threw the ball 293 yards a game during that during that that that year the 2018 year when they went to the Super Bowl Dak Prescott this year slightly higher at 3:05. However, we did a little bit more losing than Jared Goff that did year which would obviously bump passing numbers up. So the Dak Prescott numbers now are very very very very favorable to the ones that Jared Goff each of the prior two seasons 2018 and 2017. So for people to say, oh well didac obviously proved. He's better than Jared Goff. Look at this year. The Rams didn't play this year's Jared Goff. They played last they paid last year's Jared Goff you sell well then Jared Goff just showed his true colors. Well, then we can have a look at that crust Scott's numbers in his prior two years. You know at the end of the day, these are very favorable. This is a very favorable comparison Gerry Goffin Dak Prescott and more importantly the role they play with their team is much more favorable the Rams put a receiving Trio around Jared Goff. That's one of the best in football the Dallas Cowboys have done that over the last two years. With Dak Prescott now obviously Amari Cooper free agent Randall Cobb a free agent. There's going to be definitely some some maneuvering to get Cooper back and possibly get a third guy in here whether it be draft whether it be calm coming back or something to that extent, but the bottom line is That team gave weapons to their quarterback to enhance him. Yes, the Rams offensive line was abysmal this year prior to that. There were one of the best in football when healthy and they had all their pieces that some of which Got Away in free agency this past offseason Cowboys same boat, one of the best offensive lines in football. We have not let our offensive line pieces get away. The Rams prior to giving golf his money had an MVP caliber running back in Todd Gurley. Got him signed up before golf simply so they could have that player that took the pressure off the passer when they needed to because they know they'd need to same thing happens with the Cowboys and Ezekiel Elliott. They get him locked up first. Let's make sure that we've got the piece and place to take the pressure off the quarterback because we will have to do that in order for him to have success everything about the situation. These guys are in to the way teams build offenses around Knowing that they will need help that this is not necessarily Russell Wilson who could carry an offensive line with a number of guys who aren't even likely to, you know to be back or even be wanted back next year a group of receivers. That you would need an NFL guide to take you through just to remember who half of them are a group of tight ends that that honest-to-goodness that casual fan wouldn't even know who they are. Russell Wilson carried to Seattle Seahawks on his back to a playoff appearance to almost the number one seed we've seen that from guys like Aaron Rodgers. We're seeing it now from a guy like Patrick Mahomes who does have weapons. I'll give you that but Tyree kill hadn't been healthy all year. They got rid of Kareem Hood At running back this to you here was was kind of a running back by committee. So the bottom line is is you know, DAC is not one of those that you put him in place and UD prioritize the weapons around him. He's much more like a golf you put him in place and you prioritize getting those weapons for him that protection for him that in that safety valve for him that can take to pressure off of him. In order to enhance his abilities as opposed to him enhancing. Everybody else's Allah Russell Wilson, Aaron Rodgers Patrick Mahomes those types of guys. So the Jared Goff contract is is a very very firm value on what I think Dak Prescott. Is it a you know, what should be asking for? And like I say him and Carson Wentz have very similar numbers to the difference is Carson Wentz has dealt with something Goffin Prescott. Haven't and that is a serious injury history. So, you know not not to mention now, you know, he's owing one in his playoff career. and Tina, you know at the end of the day, I think the gulf contract is accurate and I think that's what both both sides should be looking at to try and stay in the ball park of we're going to go ahead and take another break when we come back coach Ty you and I are going to get into the Cowboys cap space issue and then we're going to talk about okay, we know how much Deck should probably be going for but what are some of the reasons to Cowboys should try and beat They're just shy of that Mark will get to all that when we get back here on the Big D be done and we are back here on the Big D. Beat down. I'm your host Austin Smith joined with Coach Ty Rogers and we are talking the Dak Prescott contract negotiations and to this point coach time and I kind of both agreed that the Jared Goff contract for year a hundred and thirty four million dollar extension that he got was something that yes. It should very well be the Amy aiming point for both Prescott's camp and the Cowboys. That's probably what would be fair to pay him. I'll say this much for those of you know, that that maybe haven't read into this Goff Winson Wilson all signed for your extensions. And there is a very good reason for it at first. I just thought it was coincidence the Cowboys usually with the rookie contracts are more favorable to go five year extensions. It sounds now like the NFL will be in the market for a new TV deal in 4 years which means a very possible a very sizable. Salary cap increase once that deal is done. So many of these quarterbacks Russell Wilson Carson Wentz Jared Goff are positioning sell themselves with these four year extensions to be free agents. Just prior to that in order to cash in on the balloon in in cap space. So with that in mind, I would expect that to be a priority for Dak Prescott Scamp as well. Let's keep this at a four-year extension for the Cowboys. Obviously, they the I could see them pushing for five and saying look but you know that that balloon in the salary cap that incline could be used to keep someone else, you know at the time. We'd love to have that in our back pocket saying hey so-and-so's due for a new contract. Let's pencil him in for that 2023 season or that 2023. I have prior after that 2023 see. them that 2024 offseason technically. So with that in mind coach Ty this team has seventy nine point four million in cap space right now. Only 50 guys under contract don't forget these teams take 90 to the training camp. So, you know, it's not just as oh, well, let's spin that 79 million on Dak Prescott Amari Cooper and Byron Jones and boom. It fits know. We've still got a lot of players. We need to sign to this roster to get them not only to a training camp but to be able to put together a competitive 53-man roster has I'll remind you those 50 players under contract many of them are practice squad players future contract guys. We're not three guys away from filling out a roster and their names being Dak Prescott Byron Jones and Amari Cooper. That's not how that's that's shapes up. So we still need plenty of space to go out and make the deals like we did a year ago like with a Randall Cobb on a one-year prove it deal or a carry Hider as a one-year Band-Aid, you know until we can find more serviceable depth on the defensive line at a younger age through the draft. You still have to be able to make deals like that. We're not going to be the draft every T need this team has ever fix every hold this team that you know has to fill free agency is going to have to take a part in that and it's going to be guys on one year 3 4 5 million dollar deals. So you have to you have to budget for that coach Ty. You know talk to me about outside of Dak Prescott with that cap space. What are your other priorities? Who would you like to see outside of just that Prescott this team targets? And I know there's a potential trade that you are a big big fan of and you'd like to see happen. Talk about that a little bit. So the Cowboys first priority I believe is going to be a mark Cooper even though I don't know that he should be the number one priority with the way this defense played last year. I definitely believe he's going to be next after Dak Prescott. And I think that's they are maybe not tied at the hip but they're definitely trying to be tied as a package together after that. The question is, where's Mike McCarthy want to go with his secondary, you know Byron Jones Also the next big name out there, but you know do we go with Byron Jones that's a style of play. Is he the type of corner? They're going to want to want in the system that got right. Now, you know, he was a Christmas Char guy. Like I said the biggest change that might be coming to the Cowboys in 2020. Well, two things number one. I think you're going to get bigger defensive tackles, which is a priority also, but there are a couple of free agents out there. They might be able to get four. Love a Bargain Basement price when it comes to that but the secondary is going to be the next change is going to be big and I don't know the Byron Jones if they look at that situation think is he worth the money to do it because you have so many others on this roster like Anthony Brown that they can say. Okay. Well, we're going to give you the opportunity to win this position and sign you for a year and see whether you can get the job done and not have to invest all that cash. Base in the Byron Jones particularly if they're trying to go after Jamal Adams Jamal Adams is going to cost them as significant amount as he should he probably will cost him some first-round draft picks in the next couple of years as he should. So the question is how bad does Dallas want that type of player in their secondary? I can't imagine that opportunity shows up. The Dow's doesn't go ahead and commit all the resources they can to make Can that happen short of Trio Trading Travis trip Frederick, which was the asking price earlier in the season, so I can't like that. I think it's going to be a martyr Cooper's don't be that next one up and then it would be up to the Cowboys to see I if I am making the decisions when it comes to this will say I'm will let Byron Jones go and I'm going to let any brown or somebody else go ahead and to have the opportunity to Go make that happen. And then I'm going to try everything I can to get Jamal Adams to be in a Dallas Cowboys uniform and back home here in Dallas for the 2020 season because I think he's a game changer in the secondary. Yeah, and and we did here we heard all kinds of offers, you know about that Jamal Adam situation the final offer. I heard the Cowboys and made was a first-round pick in Anthony Brown now on for the Cowboys. Unfortunately Anthony Brown ended up hurting himself. Not long after that offer was made and the Jets had made it clear know if that's if you know, if that's the case, we just much rather have multiple first round picks. It's going to cost a lot. I'll say this much. It is definitely going to cost the Dallas Cowboys a pretty penny at least one first-round draft pick whether it be this year or next. I personally have kicked out the idea of you know, what cowboys once day one is over this year use your first round that 17th overall draft pick and if Jamal atoms in the Jets if they're still shopping him give them a call at the end of the night and say, okay. You know how highly do you value our second round pick this year could a second round this year in a second round next year do it when it have to be a second round this year and a first rounder next year. I'll say this much guys draft picks are never more valuable than on draft day when the prospects are staring you right in the face when the Jets are looking over there board after day one and saying okay who else is still out there that we've got a first-round grade on or something like that. At then all of a sudden those second-round picks start looking like gold start they take on the value of a first-round pick the Cowboys are picking at 51 in the second round. If the Jets look at a player and say wow, we really had our eye on him with our early second round pick maybe you know, if we grab that we got an opportunity to bring in another guy with a very high grade and now all the sudden it's tutus as what it would take to get Jamal Adams. Hey, I'd be all on board for it. Aaaaannnd yes. This is coming from a Cowboy fan as somebody who is desperate to get change at the safety position. This team has just not invested properly in the safety position over the years matter of fact the last true investment we made at safety was the drafting of Byron Jones. I mean, let's not forget. He was thought to be someone that was going to come in here and eventually be our free safety. He played both corner and safety at UConn. We initially as a rookie brought him in and put him as kind of a flexible role where he bounced all over the the defensive formation. And then we moved him back to the free safety position. Now that didn't work out as we'd hoped it would Chris Richard comes in here ceases skillset puts it to good use he ends up having a pro bowl you. An All-Pro year in 2018. And now he's on board for a big payday. You know, that was our last safety plan now. Yes, obviously we drafted guys like like Xavier Woods, that's the day three pick guys. That's not somebody that you were expecting to come in and be a starter. That's somebody that if things go, right it can happen, but that's not the plan. You never draft somebody on day three with the idea that they are going to be. The FrontRunner for a starting position unless that particular position is just so we call with the current Personnel you currently have in which case you know, yeah, you're kind of at the mercy of that particular pick having said all that. A lot of things the Cowboys can do with that space a lot Amari Cooper like you say coach Ty on the top of my priority list, too. Amari Cooper should have more leverage than anybody. You know outside of Dak Prescott when it comes to a contract and I'm talking about. I mean, you look across the league Derrick Henry. Maybe he's got some pretty darn good leverage right now after the way he ended the season Amari Cooper can look at a football team and say hey guys for I showed up y'all were three and five. Yeah, we're 3 and 5. I turned things around my Edition help turn things around get this team to the second round of the playoffs last year. I was off to an amazing start to the season before injury after injury after injury started creeping up. Oh, by the way, I played through them. I put my business decision my future contract in my back pocket and said no, I'm going to keep playing as long as we've got an opportunity to make these playoffs. I'm showing up and I'm playing. He's got a heck of a lot of a lot of Leverage on the Cowboys in my personal opinion. I don't know how you don't want to keep a guy like that around especially considering and I want everybody to think real hard about what Dak Prescott looked the first eight games of the 2018 season with Michael Gallup. Allen hurns Cole Beasley. Tavon Austin as the receiving Corps think long and hard if you can't remember I'll tell you right now looked a hell of a lot like Jared Goff this last year maybe worse. So making sure that Amari Cooper is still on this roster moving forward is you know plan one a right behind Dak Prescott being planned one so that that's you know, and guys we still haven't even talked about future assets. We still haven't even talked about a guy like Michael Gallup who it's just continuing to get better. And could be a future number one receiver. We're not talking about Layton Vander a shoe had an amazing rookie year before having a downward sophomore year in a year where our defensive scheme was all over the place. He suffers an injury. Sits out for the betterment of his long-term future. now we've got a linebacker Guru in Mike Nolan coming in guys Layton van tures is is is probably going to he is probably going to be one of Mike Nolan's most affected players on this team, but one of his most you know, when one of the players that he brings the best out of Between Layton and Arash and Jaylon Smith. Mike Nolan getting ahold of those two could not only see their 2018 results come back, but could see them shoot even further up the food chain when it comes to the top linebacker duo in the NFL. And guys, I'm going to throw another name out there and I talked to you about this pre-show coach Ty Jordan Lewis guys. Jordan Lewis has been one of this team's best corners ever since he stepped on the football field for the Dallas Cowboys. Now when Chris Richard came in all of a sudden height became a priority and Chris Richard said all the right things. Well when it comes to him Size Doesn't Matter. He's just a darn good football player. Yeah, you know, I it's easy to say that Chris Richard when he's your fourth corner. When you're consistently putting Anthony Brown or cheat, obey woozy a on the field instead of him. You know and both those guys have had their their their bright moments. But Jordan Lewis has been at one of this team's best corners. I mean probably the second best over the three-year period that he's been in this league. And because of his size. His playtime suffered. Well, guess what it with this new regime. That's not going to be the case. They are not going to give a hoot about how tall Jordan Lewis is if he can cover he's going to be on that football field. I've talked Ad nauseam, you know with cowboy fans on Twitter, you know me and coached. I've talked about it. I think Michael Gallup and Blake jar when are going to be the the two players that are impacted most by the addition of Mike McCarthy. However, I think Jordan Lewis could possibly be the player on defense this most impacted. By this coaching change by the new regime the new defensive guys coming in. I think Jordan Lewis could be in for a breakout year this year. And I know I've said this last year about him, but you know what? Once again Chris Richard kind of cut that that Prospect off at the knees. Now Jordan Lewis is really going to get his shot. Now. The best two corners are going to play regardless of size. I think Jordan Lewis could be in for a breakout year. Oh, by the way, it's a contract here. We know how that tends to motivate a player. You know, so it's a lot of contracts not just this offseason, but in future off Seasons that we have to consider what if cheat obey woozi is at player. That finally has a breakout year. What if somebody Al Harris I've got to go back in and and remember the the new defensive backs coach is named. I know he coming from Texas A&M, but but it will what it would be if those to teach cheat obeying woozy at how to turn his head and locate the football. Suddenly, we've got a guy that half of us aren't even interested in keeping around past the 20/20 season. To a guy that might have a Byron Jones caliber breakout season. Who knows but there are you know, definitely guys that are going to be owed money not just this offseason, but in the next offseason or two, we have to keep that in mind through this Dak Prescott process. That's why every penny helps every million coach Ty. I'm going to swing it your way. But give me your prediction. What do you think this Dak Prescott contract extension ends up these let's put it out there. Let's get the numbers out there. Many years how much money and how much money guaranteed what are you thinking? I think it's going to end up being a five-year deal. I think it's going to be 33 and a half million, you know guaranteed. I'm not sure I think you're going to probably get somewhere between 30 and 40 million guaranteed just says, yeah numbers put out there to so kind of, you know make DAC fuel, you know, like he's valued by the organization, you know with the time. Just take it so you know, I think it's going to be a five-year deal. And Lisa is it will be above 30 I think will be about 33 money and 33 and a half is what you're saying on and Angela average. Okay. Yeah, I'll say this much I think Dak Prescott Camp. I think they get their win and keep it at four years. That way he can hit that market again before that TV deal Pops in I'm thinking I'm thinking for year a hundred thirty six million. That's 34 right on the dot. Yes that is higher than I'd like to pay him. But the Cowboys seem like they're smitten and seem like they want to make sure that they keep this guy in place and guys, I can't blame them. We've been through the Quincy Carter years. We've been through the years of Drew Henson and Drew Hutchison and all the other Drew's drew blood. So that came through my goodness. It seemed like we went through a number Drew's there for years the Vinny Testaverde. He's and then all of a sudden out of nowhere and under if to an undrafted free agent Tony Romo goes from being a third quarter back to a second to all the sudden our star we've been through those disparate desperate years of needing a quarterback and more importantly. We've been through those desperate years of needing a leader and that wasn't even always Tony Romo's strength. Tony Romo was not always the outspoken captain of these Dallas Cowboys. Yes later in his career. He finally had that respect. He finally had that title. But there were a number of years there where Tony Romo was not the outspoken commander of this offense that we were hoping for Dak Prescott has been that ever since he first stepped into the starting huddle. He has commanded his team's respect. T' he has been the outright leader of the bunch. That's what attack press got brings to the table. I'm going for years a hundred and thirty six million and I'm going with the Cowboys giving his agent a little perk. The hundred and ten million guaranteed Mark is what Jared Goff is at I'm going with him saying okay bud will give you that will bump it up to a hundred and eleven or a hundred and twelve will make you will give you the most guaranteed money. I would hope if that they do do that that maybe Prescott's Camp is willing to concede that annual average down to maybe the 33 and a half mark or even the 33 Mark. However in the end, I think that's what it turns out to be 4 years a hundred thirty six million a hundred and eleven guaranteed. That's the number and folks. Don't forget to get on over to pigskin nut and check out the article. I put up about the risk and reward of playing Hardball with Dak Prescott. Like I I'm not only examine the numbers. I also examined the possible needs out there for a quarterback at 135 million. First of all, how many NFL teams out there truly have a need for quarterback. I came up with 13 of them. You can find out which ones at pigskin not.com Cowboys find that article the risk and reward of playing Hardball with Dak Prescott. In the end, I narrowed it down to three true teams. That would be in the market for a Dak Prescott if he indeed hit free agency for one reason or another I knocked off the other 10, whether it be cap space whether it be the ability to draft a Young quarterback, whether it be, you know, the the possibility to you know, how easy it would be to get rid of their current guy. Put a lot of thought process into this you can catch that story over at pics gettent.com Cowboys and we're going to go ahead and wrap it up there Cowboys fans. Be sure and join us next time. We are going to continue to discuss this offseason. Who knows maybe our next show might be about the news that Dak Prescott has signed a contract. It might be about the news that the Cowboys and Prescott have hit a wall and neither side is willing to budge and the implicit or the possibility of using a franchise tag on him whether it be the exclusive or the non-exclusive. But we are going to continue to tackle this offseason as it comes at us. Be sure and join us next time and don't forget to visit us over at pigskin not.com the soon-to-be Undisputed king of football news and podcast where you can find everything we do on the Dallas Cowboys if you want quality and football analysis with independent opinions from people who know and understand the x's and o's in the game head on over to pigskin. Now. Remember guys pigskin that for those crazy about football. Aw. Also if you like what you hear be sure and subscribe to our show. We had a really good Turned out during the regular season of people subscribing to our show people getting involved with our show. We want people to continue to do that guys. We're on a variety of platforms. You can find the Big D beat down were available in the Apple and Google POT escort podcast stores as well as on anchor Spotify breaker over cats Pocket Casts and Bagram pod Bean click that subscribe button. They'll notify you every time we put out an episode and you can search us up on social media at Big D be down on Twitter. Find the Big D. Beat down on Facebook guys. We are out there. We are happy to interact with the fans with the people that listen to the show. We've brought a we've put fan questions on the show before we're going to continue to do that. Send us your questions. Give us something to debate by all means we'll do it. Thanks for joining us today on the Big D beat down folks for Coach Ty Rogers. I'm Austin Smith. Have a good one Cowboy fans.\""
      ]
     },
     "execution_count": 19,
     "metadata": {},
     "output_type": "execute_result"
    }
   ],
   "source": [
    "transcript"
   ]
  }
 ],
 "metadata": {
  "kernelspec": {
   "display_name": "mldev",
   "language": "python",
   "name": "mldev"
  },
  "language_info": {
   "codemirror_mode": {
    "name": "ipython",
    "version": 3
   },
   "file_extension": ".py",
   "mimetype": "text/x-python",
   "name": "python",
   "nbconvert_exporter": "python",
   "pygments_lexer": "ipython3",
   "version": "3.9.7"
  }
 },
 "nbformat": 4,
 "nbformat_minor": 5
}
