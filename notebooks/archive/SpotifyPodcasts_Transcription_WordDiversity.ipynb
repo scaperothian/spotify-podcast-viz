{
 "cells": [
  {
   "cell_type": "markdown",
   "id": "86d4229d-f36d-4bc1-98b5-0443a10b81b0",
   "metadata": {},
   "source": [
    "# Spotify Podcast Dataset - Reading Transcripts\n",
    "\n",
    "Attempt to come up with an API to support batch processing of transcripts for this data set."
   ]
  },
  {
   "cell_type": "code",
   "execution_count": 8,
   "id": "c39d36d1-1e56-4cc2-8dde-dd0c316c05fc",
   "metadata": {},
   "outputs": [],
   "source": [
    "import pandas as pd"
   ]
  },
  {
   "cell_type": "code",
   "execution_count": 9,
   "id": "e2e277eb-aeff-4e30-8685-c9588f71ba03",
   "metadata": {},
   "outputs": [],
   "source": [
    "df = pd.read_csv('../../../podcasts-no-audio-13GB-selected/metadata_with_episode_dates_and_category.tsv', sep='\\t')"
   ]
  },
  {
   "cell_type": "code",
   "execution_count": 10,
   "id": "a6622eb4-7e81-4445-99d3-176b00a418c1",
   "metadata": {},
   "outputs": [],
   "source": [
    "basename = '../../../podcasts-no-audio-13GB-selected/spotify-podcasts-2020/podcasts-transcripts/'"
   ]
  },
  {
   "cell_type": "markdown",
   "id": "7d251c87-7e0f-4b93-9f47-99b97bda5543",
   "metadata": {},
   "source": [
    "## SHOW_URI for deriving file location..."
   ]
  },
  {
   "cell_type": "code",
   "execution_count": 11,
   "id": "0ab059cc-5a4f-4f7f-88c9-9dfaf8534520",
   "metadata": {},
   "outputs": [
    {
     "data": {
      "text/html": [
       "<div>\n",
       "<style scoped>\n",
       "    .dataframe tbody tr th:only-of-type {\n",
       "        vertical-align: middle;\n",
       "    }\n",
       "\n",
       "    .dataframe tbody tr th {\n",
       "        vertical-align: top;\n",
       "    }\n",
       "\n",
       "    .dataframe thead th {\n",
       "        text-align: right;\n",
       "    }\n",
       "</style>\n",
       "<table border=\"1\" class=\"dataframe\">\n",
       "  <thead>\n",
       "    <tr style=\"text-align: right;\">\n",
       "      <th></th>\n",
       "      <th>show_uri</th>\n",
       "      <th>show_name</th>\n",
       "      <th>show_description</th>\n",
       "      <th>publisher</th>\n",
       "      <th>language</th>\n",
       "      <th>rss_link</th>\n",
       "      <th>episode_uri</th>\n",
       "      <th>episode_name</th>\n",
       "      <th>episode_description</th>\n",
       "      <th>duration</th>\n",
       "      <th>show_filename_prefix</th>\n",
       "      <th>episode_filename_prefix</th>\n",
       "      <th>release_date</th>\n",
       "      <th>first_dir</th>\n",
       "      <th>second_dir</th>\n",
       "      <th>category</th>\n",
       "      <th>mean_show_duration</th>\n",
       "      <th>top_5</th>\n",
       "    </tr>\n",
       "  </thead>\n",
       "  <tbody>\n",
       "    <tr>\n",
       "      <th>32</th>\n",
       "      <td>spotify:show:21ASCcEXgUlbFSmoqjroZm</td>\n",
       "      <td>Chompers</td>\n",
       "      <td>Make tooth time easy with this morning and nig...</td>\n",
       "      <td>Gimlet</td>\n",
       "      <td>['en']</td>\n",
       "      <td>https://feeds.megaphone.fm/chompers</td>\n",
       "      <td>spotify:episode:009TPwk7i2wA7UA8QEjAo4</td>\n",
       "      <td>Sports Week Night Jokes (6-22-2019)</td>\n",
       "      <td>Get ready for more sporty jokes on tonight's C...</td>\n",
       "      <td>3.395050</td>\n",
       "      <td>show_21ASCcEXgUlbFSmoqjroZm</td>\n",
       "      <td>009TPwk7i2wA7UA8QEjAo4</td>\n",
       "      <td>2019-06-22</td>\n",
       "      <td>2</td>\n",
       "      <td>1</td>\n",
       "      <td>Kids &amp; Family,Health &amp; Fitness</td>\n",
       "      <td>3.543938</td>\n",
       "      <td>False</td>\n",
       "    </tr>\n",
       "    <tr>\n",
       "      <th>80</th>\n",
       "      <td>spotify:show:21ASCcEXgUlbFSmoqjroZm</td>\n",
       "      <td>Chompers</td>\n",
       "      <td>Make tooth time easy with this morning and nig...</td>\n",
       "      <td>Gimlet</td>\n",
       "      <td>['en']</td>\n",
       "      <td>https://feeds.megaphone.fm/chompers</td>\n",
       "      <td>spotify:episode:00MArqb5egMeHpQ7UijTZ6</td>\n",
       "      <td>Feelings Week Night Quiz</td>\n",
       "      <td>So, how many feelings can humans have? Shout i...</td>\n",
       "      <td>3.307100</td>\n",
       "      <td>show_21ASCcEXgUlbFSmoqjroZm</td>\n",
       "      <td>00MArqb5egMeHpQ7UijTZ6</td>\n",
       "      <td>2019-09-16</td>\n",
       "      <td>2</td>\n",
       "      <td>1</td>\n",
       "      <td>Kids &amp; Family,Health &amp; Fitness</td>\n",
       "      <td>3.543938</td>\n",
       "      <td>False</td>\n",
       "    </tr>\n",
       "    <tr>\n",
       "      <th>322</th>\n",
       "      <td>spotify:show:21ASCcEXgUlbFSmoqjroZm</td>\n",
       "      <td>Chompers</td>\n",
       "      <td>Make tooth time easy with this morning and nig...</td>\n",
       "      <td>Gimlet</td>\n",
       "      <td>['en']</td>\n",
       "      <td>https://feeds.megaphone.fm/chompers</td>\n",
       "      <td>spotify:episode:01O3bGK4x6F4sQz1NbDlfx</td>\n",
       "      <td>Chompions Week Night Jokes (12-24-2019)</td>\n",
       "      <td>You are too funny! Get ready for more giggles ...</td>\n",
       "      <td>2.837333</td>\n",
       "      <td>show_21ASCcEXgUlbFSmoqjroZm</td>\n",
       "      <td>01O3bGK4x6F4sQz1NbDlfx</td>\n",
       "      <td>2019-12-24</td>\n",
       "      <td>2</td>\n",
       "      <td>1</td>\n",
       "      <td>Kids &amp; Family,Health &amp; Fitness</td>\n",
       "      <td>3.543938</td>\n",
       "      <td>False</td>\n",
       "    </tr>\n",
       "    <tr>\n",
       "      <th>340</th>\n",
       "      <td>spotify:show:21ASCcEXgUlbFSmoqjroZm</td>\n",
       "      <td>Chompers</td>\n",
       "      <td>Make tooth time easy with this morning and nig...</td>\n",
       "      <td>Gimlet</td>\n",
       "      <td>['en']</td>\n",
       "      <td>https://feeds.megaphone.fm/chompers</td>\n",
       "      <td>spotify:episode:01TjH96HXWzLtE4qLVGHFj</td>\n",
       "      <td>History Week Night In Space</td>\n",
       "      <td>Tonight our time machine will bring us back in...</td>\n",
       "      <td>4.038100</td>\n",
       "      <td>show_21ASCcEXgUlbFSmoqjroZm</td>\n",
       "      <td>01TjH96HXWzLtE4qLVGHFj</td>\n",
       "      <td>2019-08-25</td>\n",
       "      <td>2</td>\n",
       "      <td>1</td>\n",
       "      <td>Kids &amp; Family,Health &amp; Fitness</td>\n",
       "      <td>3.543938</td>\n",
       "      <td>False</td>\n",
       "    </tr>\n",
       "    <tr>\n",
       "      <th>506</th>\n",
       "      <td>spotify:show:21ASCcEXgUlbFSmoqjroZm</td>\n",
       "      <td>Chompers</td>\n",
       "      <td>Make tooth time easy with this morning and nig...</td>\n",
       "      <td>Gimlet</td>\n",
       "      <td>['en']</td>\n",
       "      <td>https://feeds.megaphone.fm/chompers</td>\n",
       "      <td>spotify:episode:02Fur3rqWSFMeIDf8W7TbQ</td>\n",
       "      <td>Pets Week Morning I Spy</td>\n",
       "      <td>We've got some reptilian pets for you on today...</td>\n",
       "      <td>3.554833</td>\n",
       "      <td>show_21ASCcEXgUlbFSmoqjroZm</td>\n",
       "      <td>02Fur3rqWSFMeIDf8W7TbQ</td>\n",
       "      <td>2018-12-11</td>\n",
       "      <td>2</td>\n",
       "      <td>1</td>\n",
       "      <td>Kids &amp; Family,Health &amp; Fitness</td>\n",
       "      <td>3.543938</td>\n",
       "      <td>False</td>\n",
       "    </tr>\n",
       "  </tbody>\n",
       "</table>\n",
       "</div>"
      ],
      "text/plain": [
       "                                show_uri show_name  \\\n",
       "32   spotify:show:21ASCcEXgUlbFSmoqjroZm  Chompers   \n",
       "80   spotify:show:21ASCcEXgUlbFSmoqjroZm  Chompers   \n",
       "322  spotify:show:21ASCcEXgUlbFSmoqjroZm  Chompers   \n",
       "340  spotify:show:21ASCcEXgUlbFSmoqjroZm  Chompers   \n",
       "506  spotify:show:21ASCcEXgUlbFSmoqjroZm  Chompers   \n",
       "\n",
       "                                      show_description publisher language  \\\n",
       "32   Make tooth time easy with this morning and nig...    Gimlet   ['en']   \n",
       "80   Make tooth time easy with this morning and nig...    Gimlet   ['en']   \n",
       "322  Make tooth time easy with this morning and nig...    Gimlet   ['en']   \n",
       "340  Make tooth time easy with this morning and nig...    Gimlet   ['en']   \n",
       "506  Make tooth time easy with this morning and nig...    Gimlet   ['en']   \n",
       "\n",
       "                                rss_link  \\\n",
       "32   https://feeds.megaphone.fm/chompers   \n",
       "80   https://feeds.megaphone.fm/chompers   \n",
       "322  https://feeds.megaphone.fm/chompers   \n",
       "340  https://feeds.megaphone.fm/chompers   \n",
       "506  https://feeds.megaphone.fm/chompers   \n",
       "\n",
       "                                episode_uri  \\\n",
       "32   spotify:episode:009TPwk7i2wA7UA8QEjAo4   \n",
       "80   spotify:episode:00MArqb5egMeHpQ7UijTZ6   \n",
       "322  spotify:episode:01O3bGK4x6F4sQz1NbDlfx   \n",
       "340  spotify:episode:01TjH96HXWzLtE4qLVGHFj   \n",
       "506  spotify:episode:02Fur3rqWSFMeIDf8W7TbQ   \n",
       "\n",
       "                                episode_name  \\\n",
       "32       Sports Week Night Jokes (6-22-2019)   \n",
       "80                  Feelings Week Night Quiz   \n",
       "322  Chompions Week Night Jokes (12-24-2019)   \n",
       "340              History Week Night In Space   \n",
       "506                  Pets Week Morning I Spy   \n",
       "\n",
       "                                   episode_description  duration  \\\n",
       "32   Get ready for more sporty jokes on tonight's C...  3.395050   \n",
       "80   So, how many feelings can humans have? Shout i...  3.307100   \n",
       "322  You are too funny! Get ready for more giggles ...  2.837333   \n",
       "340  Tonight our time machine will bring us back in...  4.038100   \n",
       "506  We've got some reptilian pets for you on today...  3.554833   \n",
       "\n",
       "            show_filename_prefix episode_filename_prefix release_date  \\\n",
       "32   show_21ASCcEXgUlbFSmoqjroZm  009TPwk7i2wA7UA8QEjAo4   2019-06-22   \n",
       "80   show_21ASCcEXgUlbFSmoqjroZm  00MArqb5egMeHpQ7UijTZ6   2019-09-16   \n",
       "322  show_21ASCcEXgUlbFSmoqjroZm  01O3bGK4x6F4sQz1NbDlfx   2019-12-24   \n",
       "340  show_21ASCcEXgUlbFSmoqjroZm  01TjH96HXWzLtE4qLVGHFj   2019-08-25   \n",
       "506  show_21ASCcEXgUlbFSmoqjroZm  02Fur3rqWSFMeIDf8W7TbQ   2018-12-11   \n",
       "\n",
       "     first_dir second_dir                        category  mean_show_duration  \\\n",
       "32           2          1  Kids & Family,Health & Fitness            3.543938   \n",
       "80           2          1  Kids & Family,Health & Fitness            3.543938   \n",
       "322          2          1  Kids & Family,Health & Fitness            3.543938   \n",
       "340          2          1  Kids & Family,Health & Fitness            3.543938   \n",
       "506          2          1  Kids & Family,Health & Fitness            3.543938   \n",
       "\n",
       "     top_5  \n",
       "32   False  \n",
       "80   False  \n",
       "322  False  \n",
       "340  False  \n",
       "506  False  "
      ]
     },
     "execution_count": 11,
     "metadata": {},
     "output_type": "execute_result"
    }
   ],
   "source": [
    "df2 = df[df.show_name == 'Chompers']\n",
    "df2.head()"
   ]
  },
  {
   "cell_type": "code",
   "execution_count": 12,
   "id": "bf65dc5a-c182-45e4-b9fd-91be0835a9e5",
   "metadata": {},
   "outputs": [],
   "source": [
    "# Locations of episodes are based on two levels of folders: \n",
    "#    first_folder/second_folder/show/episode_metadata.json\n",
    "# To figure out the first_folder and second_folder by looking at \n",
    "# the first two characters in the show_uri column.\n",
    "\n",
    "# Then you can extract the transcripts...\n",
    "\n",
    "df['first_dir'] = df['show_uri'].str.extract(r'spotify:show:(\\w)')[0]\n",
    "df['second_dir'] = df['show_uri'].str.extract(r'spotify:show:\\w(\\w)')[0]"
   ]
  },
  {
   "cell_type": "code",
   "execution_count": 13,
   "id": "14a8a1da-ee63-4bf4-a470-460c04dc3bee",
   "metadata": {},
   "outputs": [
    {
     "data": {
      "text/html": [
       "<div>\n",
       "<style scoped>\n",
       "    .dataframe tbody tr th:only-of-type {\n",
       "        vertical-align: middle;\n",
       "    }\n",
       "\n",
       "    .dataframe tbody tr th {\n",
       "        vertical-align: top;\n",
       "    }\n",
       "\n",
       "    .dataframe thead th {\n",
       "        text-align: right;\n",
       "    }\n",
       "</style>\n",
       "<table border=\"1\" class=\"dataframe\">\n",
       "  <thead>\n",
       "    <tr style=\"text-align: right;\">\n",
       "      <th></th>\n",
       "      <th>show_uri</th>\n",
       "      <th>show_name</th>\n",
       "      <th>show_description</th>\n",
       "      <th>publisher</th>\n",
       "      <th>language</th>\n",
       "      <th>rss_link</th>\n",
       "      <th>episode_uri</th>\n",
       "      <th>episode_name</th>\n",
       "      <th>episode_description</th>\n",
       "      <th>duration</th>\n",
       "      <th>show_filename_prefix</th>\n",
       "      <th>episode_filename_prefix</th>\n",
       "      <th>release_date</th>\n",
       "      <th>first_dir</th>\n",
       "      <th>second_dir</th>\n",
       "      <th>category</th>\n",
       "      <th>mean_show_duration</th>\n",
       "      <th>top_5</th>\n",
       "    </tr>\n",
       "  </thead>\n",
       "  <tbody>\n",
       "    <tr>\n",
       "      <th>0</th>\n",
       "      <td>spotify:show:2NYtxEZyYelR6RMKmjfPLB</td>\n",
       "      <td>Kream in your Koffee</td>\n",
       "      <td>A 20-something blunt female takes on the world...</td>\n",
       "      <td>Katie Houle</td>\n",
       "      <td>['en']</td>\n",
       "      <td>https://anchor.fm/s/11b84b68/podcast/rss</td>\n",
       "      <td>spotify:episode:000A9sRBYdVh66csG2qEdj</td>\n",
       "      <td>1: It’s Christmas Time!</td>\n",
       "      <td>On the first ever episode of Kream in your Kof...</td>\n",
       "      <td>12.700133</td>\n",
       "      <td>show_2NYtxEZyYelR6RMKmjfPLB</td>\n",
       "      <td>000A9sRBYdVh66csG2qEdj</td>\n",
       "      <td>2019-12-18</td>\n",
       "      <td>2</td>\n",
       "      <td>N</td>\n",
       "      <td>Leisure</td>\n",
       "      <td>37.729706</td>\n",
       "      <td>False</td>\n",
       "    </tr>\n",
       "    <tr>\n",
       "      <th>1</th>\n",
       "      <td>spotify:show:15iWCbU7QoO23EndPEO6aN</td>\n",
       "      <td>Morning Cup Of Murder</td>\n",
       "      <td>Ever wonder what murder took place on today in...</td>\n",
       "      <td>Morning Cup Of Murder</td>\n",
       "      <td>['en']</td>\n",
       "      <td>https://anchor.fm/s/b07181c/podcast/rss</td>\n",
       "      <td>spotify:episode:000HP8n3hNIfglT2wSI2cA</td>\n",
       "      <td>The Goleta Postal Facility shootings- January ...</td>\n",
       "      <td>See something, say something. It’s a mantra ma...</td>\n",
       "      <td>6.019383</td>\n",
       "      <td>show_15iWCbU7QoO23EndPEO6aN</td>\n",
       "      <td>000HP8n3hNIfglT2wSI2cA</td>\n",
       "      <td>2020-01-30</td>\n",
       "      <td>1</td>\n",
       "      <td>5</td>\n",
       "      <td>True Crime</td>\n",
       "      <td>7.290034</td>\n",
       "      <td>False</td>\n",
       "    </tr>\n",
       "    <tr>\n",
       "      <th>2</th>\n",
       "      <td>spotify:show:6vZRgUFTYwbAA79UNCADr4</td>\n",
       "      <td>Inside The 18 : A Podcast for Goalkeepers by G...</td>\n",
       "      <td>Inside the 18 is your source for all things Go...</td>\n",
       "      <td>Inside the 18 GK Media</td>\n",
       "      <td>['en']</td>\n",
       "      <td>https://anchor.fm/s/81a072c/podcast/rss</td>\n",
       "      <td>spotify:episode:001UfOruzkA3Bn1SPjcdfa</td>\n",
       "      <td>Ep.36 - Incorporating a Singular Goalkeeping C...</td>\n",
       "      <td>Today’s episode is a sit down Michael and Omar...</td>\n",
       "      <td>43.616333</td>\n",
       "      <td>show_6vZRgUFTYwbAA79UNCADr4</td>\n",
       "      <td>001UfOruzkA3Bn1SPjcdfa</td>\n",
       "      <td>2019-01-18</td>\n",
       "      <td>6</td>\n",
       "      <td>v</td>\n",
       "      <td>Sports,Soccer</td>\n",
       "      <td>55.862658</td>\n",
       "      <td>False</td>\n",
       "    </tr>\n",
       "    <tr>\n",
       "      <th>3</th>\n",
       "      <td>spotify:show:5BvKEjaMSuvUsGROGi2S7s</td>\n",
       "      <td>Arrowhead Live!</td>\n",
       "      <td>Your favorite podcast for everything @Chiefs! ...</td>\n",
       "      <td>Arrowhead Live!</td>\n",
       "      <td>['en-US']</td>\n",
       "      <td>https://anchor.fm/s/917dba4/podcast/rss</td>\n",
       "      <td>spotify:episode:001i89SvIQgDuuyC53hfBm</td>\n",
       "      <td>Episode 1: Arrowhead Live! Debut</td>\n",
       "      <td>Join us as we take a look at all current Chief...</td>\n",
       "      <td>58.189200</td>\n",
       "      <td>show_5BvKEjaMSuvUsGROGi2S7s</td>\n",
       "      <td>001i89SvIQgDuuyC53hfBm</td>\n",
       "      <td>2019-03-01</td>\n",
       "      <td>5</td>\n",
       "      <td>B</td>\n",
       "      <td>Sports</td>\n",
       "      <td>44.145280</td>\n",
       "      <td>True</td>\n",
       "    </tr>\n",
       "    <tr>\n",
       "      <th>4</th>\n",
       "      <td>spotify:show:7w3h3umpH74veEJcbE6xf4</td>\n",
       "      <td>FBoL</td>\n",
       "      <td>The comedy podcast about toxic characters, wri...</td>\n",
       "      <td>Emily Edwards</td>\n",
       "      <td>['en']</td>\n",
       "      <td>https://www.fuckboisoflit.com/episodes?format=rss</td>\n",
       "      <td>spotify:episode:0025RWNwe2lnp6HcnfzwzG</td>\n",
       "      <td>The Lion, The Witch, And The Wardrobe - Ashley...</td>\n",
       "      <td>The modern morality tail of how to stay good f...</td>\n",
       "      <td>51.782050</td>\n",
       "      <td>show_7w3h3umpH74veEJcbE6xf4</td>\n",
       "      <td>0025RWNwe2lnp6HcnfzwzG</td>\n",
       "      <td>NaN</td>\n",
       "      <td>7</td>\n",
       "      <td>w</td>\n",
       "      <td>Arts,Books</td>\n",
       "      <td>42.847630</td>\n",
       "      <td>False</td>\n",
       "    </tr>\n",
       "  </tbody>\n",
       "</table>\n",
       "</div>"
      ],
      "text/plain": [
       "                              show_uri  \\\n",
       "0  spotify:show:2NYtxEZyYelR6RMKmjfPLB   \n",
       "1  spotify:show:15iWCbU7QoO23EndPEO6aN   \n",
       "2  spotify:show:6vZRgUFTYwbAA79UNCADr4   \n",
       "3  spotify:show:5BvKEjaMSuvUsGROGi2S7s   \n",
       "4  spotify:show:7w3h3umpH74veEJcbE6xf4   \n",
       "\n",
       "                                           show_name  \\\n",
       "0                               Kream in your Koffee   \n",
       "1                              Morning Cup Of Murder   \n",
       "2  Inside The 18 : A Podcast for Goalkeepers by G...   \n",
       "3                                    Arrowhead Live!   \n",
       "4                                              FBoL    \n",
       "\n",
       "                                    show_description               publisher  \\\n",
       "0  A 20-something blunt female takes on the world...             Katie Houle   \n",
       "1  Ever wonder what murder took place on today in...   Morning Cup Of Murder   \n",
       "2  Inside the 18 is your source for all things Go...  Inside the 18 GK Media   \n",
       "3  Your favorite podcast for everything @Chiefs! ...         Arrowhead Live!   \n",
       "4  The comedy podcast about toxic characters, wri...           Emily Edwards   \n",
       "\n",
       "    language                                           rss_link  \\\n",
       "0     ['en']           https://anchor.fm/s/11b84b68/podcast/rss   \n",
       "1     ['en']            https://anchor.fm/s/b07181c/podcast/rss   \n",
       "2     ['en']            https://anchor.fm/s/81a072c/podcast/rss   \n",
       "3  ['en-US']            https://anchor.fm/s/917dba4/podcast/rss   \n",
       "4     ['en']  https://www.fuckboisoflit.com/episodes?format=rss   \n",
       "\n",
       "                              episode_uri  \\\n",
       "0  spotify:episode:000A9sRBYdVh66csG2qEdj   \n",
       "1  spotify:episode:000HP8n3hNIfglT2wSI2cA   \n",
       "2  spotify:episode:001UfOruzkA3Bn1SPjcdfa   \n",
       "3  spotify:episode:001i89SvIQgDuuyC53hfBm   \n",
       "4  spotify:episode:0025RWNwe2lnp6HcnfzwzG   \n",
       "\n",
       "                                        episode_name  \\\n",
       "0                            1: It’s Christmas Time!   \n",
       "1  The Goleta Postal Facility shootings- January ...   \n",
       "2  Ep.36 - Incorporating a Singular Goalkeeping C...   \n",
       "3                   Episode 1: Arrowhead Live! Debut   \n",
       "4  The Lion, The Witch, And The Wardrobe - Ashley...   \n",
       "\n",
       "                                 episode_description   duration  \\\n",
       "0  On the first ever episode of Kream in your Kof...  12.700133   \n",
       "1  See something, say something. It’s a mantra ma...   6.019383   \n",
       "2  Today’s episode is a sit down Michael and Omar...  43.616333   \n",
       "3  Join us as we take a look at all current Chief...  58.189200   \n",
       "4  The modern morality tail of how to stay good f...  51.782050   \n",
       "\n",
       "          show_filename_prefix episode_filename_prefix release_date first_dir  \\\n",
       "0  show_2NYtxEZyYelR6RMKmjfPLB  000A9sRBYdVh66csG2qEdj   2019-12-18         2   \n",
       "1  show_15iWCbU7QoO23EndPEO6aN  000HP8n3hNIfglT2wSI2cA   2020-01-30         1   \n",
       "2  show_6vZRgUFTYwbAA79UNCADr4  001UfOruzkA3Bn1SPjcdfa   2019-01-18         6   \n",
       "3  show_5BvKEjaMSuvUsGROGi2S7s  001i89SvIQgDuuyC53hfBm   2019-03-01         5   \n",
       "4  show_7w3h3umpH74veEJcbE6xf4  0025RWNwe2lnp6HcnfzwzG          NaN         7   \n",
       "\n",
       "  second_dir       category  mean_show_duration  top_5  \n",
       "0          N        Leisure           37.729706  False  \n",
       "1          5     True Crime            7.290034  False  \n",
       "2          v  Sports,Soccer           55.862658  False  \n",
       "3          B         Sports           44.145280   True  \n",
       "4          w     Arts,Books           42.847630  False  "
      ]
     },
     "execution_count": 13,
     "metadata": {},
     "output_type": "execute_result"
    }
   ],
   "source": [
    "df.head()"
   ]
  },
  {
   "cell_type": "markdown",
   "id": "d3652d68-a5a7-4609-971e-e951a4471ca8",
   "metadata": {},
   "source": [
    "## Attempt to print an entire transcript from a single episode of a show."
   ]
  },
  {
   "cell_type": "code",
   "execution_count": 14,
   "id": "8313f1e0-fd6e-4dc7-9eba-34e313b5ca2a",
   "metadata": {},
   "outputs": [
    {
     "data": {
      "text/plain": [
       "show_uri                                 spotify:show:4g9vEFANueSAWA50HtDjQM\n",
       "show_name                  Big D Beatdown - An unbiased Cowboys football ...\n",
       "show_description           Austin Smith, Ken Cunningham, and Ty Rogers ho...\n",
       "publisher                                                       BigDBeatdown\n",
       "language                                                              ['en']\n",
       "rss_link                             https://anchor.fm/s/a4c5784/podcast/rss\n",
       "episode_uri                           spotify:episode:009awoapZd90HCQHzDczrV\n",
       "episode_name                              Will Dak Prescott remain a Cowboy?\n",
       "episode_description        Tune in to Austin Smith and Coach Ty Rogers as...\n",
       "duration                                                           58.559567\n",
       "show_filename_prefix                             show_4g9vEFANueSAWA50HtDjQM\n",
       "episode_filename_prefix                               009awoapZd90HCQHzDczrV\n",
       "release_date                                                      2020-01-29\n",
       "first_dir                                                                  4\n",
       "second_dir                                                                 g\n",
       "category                                                              Sports\n",
       "mean_show_duration                                                   56.9079\n",
       "top_5                                                                   True\n",
       "Name: 33, dtype: object"
      ]
     },
     "execution_count": 14,
     "metadata": {},
     "output_type": "execute_result"
    }
   ],
   "source": [
    "row = df.iloc[33]\n",
    "row"
   ]
  },
  {
   "cell_type": "code",
   "execution_count": 15,
   "id": "cb323344-2fbe-427c-ba14-58ad27105128",
   "metadata": {},
   "outputs": [
    {
     "data": {
      "text/plain": [
       "'../../../podcasts-no-audio-13GB-selected/spotify-podcasts-2020/podcasts-transcripts/4/g/show_4g9vEFANueSAWA50HtDjQM/009awoapZd90HCQHzDczrV.json'"
      ]
     },
     "execution_count": 15,
     "metadata": {},
     "output_type": "execute_result"
    }
   ],
   "source": [
    "show_dir = basename + row['first_dir']+'/'+row['second_dir'] + '/' + row['show_filename_prefix'] + '/'\n",
    "episode_json = show_dir + row['episode_filename_prefix'] + '.json'\n",
    "episode_json"
   ]
  },
  {
   "cell_type": "code",
   "execution_count": 16,
   "id": "49063732-1a9e-4784-a2ff-81d0ef13f4d9",
   "metadata": {},
   "outputs": [],
   "source": [
    "import json\n",
    "with open(episode_json, 'r') as json_file:\n",
    "    data = json.load(json_file)"
   ]
  },
  {
   "cell_type": "code",
   "execution_count": 17,
   "id": "2997c6f3-4053-4627-85da-daabec2db955",
   "metadata": {},
   "outputs": [
    {
     "name": "stdout",
     "output_type": "stream",
     "text": [
      "Missing Transcript in Segment 164,"
     ]
    }
   ],
   "source": [
    "transcript = ''\n",
    "for segment in range(len(data['results'])):\n",
    "    try: \n",
    "        transcript += data['results'][segment]['alternatives'][0]['transcript']\n",
    "    except:\n",
    "        print(f\"Missing Transcript in Segment {segment}\",end=',')\n",
    "transcript = transcript.lower()"
   ]
  },
  {
   "cell_type": "markdown",
   "id": "94088e17-d6b0-489b-a34d-5a87b6a0980b",
   "metadata": {},
   "source": [
    "## Cleaning the Transcript"
   ]
  },
  {
   "cell_type": "code",
   "execution_count": 18,
   "id": "18625b4f-0eb1-493c-9833-10c6ba9c5956",
   "metadata": {},
   "outputs": [
    {
     "name": "stdout",
     "output_type": "stream",
     "text": [
      "Before\n",
      "hey there, cowboy fans. welcome to the unbiased podcast because team i'm your host austin smith and joining me as always is coach ty rogers one of our analysts over at pigskin nut and a lifelong cowbo\n",
      "\n",
      "After\n"
     ]
    },
    {
     "data": {
      "text/plain": [
       "'hey there cowboy fans welcome to the unbiased podcast because team im your host austin smith and joining me as always is coach ty rogers one of our analysts over at pigskin nut and a lifelong cowbo'"
      ]
     },
     "execution_count": 18,
     "metadata": {},
     "output_type": "execute_result"
    }
   ],
   "source": [
    "import string\n",
    "import re\n",
    "def remove_punctuation(text):\n",
    "    # Define a translation table to remove punctuation\n",
    "    #translator = str.maketrans('', '', string.punctuation)\n",
    "\n",
    "    # Remove punctuation using translate\n",
    "    # text_no_punct = text.translate(translator)\n",
    "\n",
    "    # Alternatively, you can use regular expressions to remove punctuation\n",
    "    text_no_punct = re.sub(r'[^\\w\\s]', '', text)\n",
    "\n",
    "    return text_no_punct\n",
    "print(\"Before\")\n",
    "print(transcript[:200])\n",
    "print(\"\\nAfter\")\n",
    "remove_punctuation(transcript[:200])"
   ]
  },
  {
   "cell_type": "code",
   "execution_count": 19,
   "id": "90ce4930-7871-4f52-9cac-509e4a0fc96d",
   "metadata": {},
   "outputs": [],
   "source": [
    "from nltk.stem.porter import PorterStemmer\n",
    "porter = PorterStemmer()\n",
    "\n",
    "# note: to make this work, I had to run: \n",
    "# >> python -m nltk.downloader stopwords \n",
    "# on the command line.\n",
    "from nltk.corpus import stopwords\n",
    "\n",
    "stop = stopwords.words('english')\n",
    "\n",
    "def tokenizer_porter(text):\n",
    "    return [porter.stem(word) for word in text.split()]"
   ]
  },
  {
   "cell_type": "code",
   "execution_count": 20,
   "id": "34f20f05-4296-42ed-b157-4ebb985f88cf",
   "metadata": {},
   "outputs": [],
   "source": [
    "token_transcript_cleaner = [w for w in tokenizer_porter(remove_punctuation(transcript)) if w not in stop]\n",
    "token_transcript = tokenizer_porter(remove_punctuation(transcript))"
   ]
  },
  {
   "cell_type": "code",
   "execution_count": 21,
   "id": "514b22aa-0698-438d-b9bb-b621343dd31e",
   "metadata": {},
   "outputs": [
    {
     "name": "stdout",
     "output_type": "stream",
     "text": [
      "9664 5085\n"
     ]
    }
   ],
   "source": [
    "print(len(token_transcript), len(token_transcript_cleaner))"
   ]
  },
  {
   "cell_type": "code",
   "execution_count": 22,
   "id": "b67870fc-0632-44d4-8b50-746d1600863c",
   "metadata": {},
   "outputs": [
    {
     "data": {
      "text/plain": [
       "('the', 'that', 'to', 'and', 'a')"
      ]
     },
     "execution_count": 22,
     "metadata": {},
     "output_type": "execute_result"
    }
   ],
   "source": [
    "from collections import Counter \n",
    "category_counts = Counter(token_transcript)\n",
    "sorted_counts = dict(sorted(category_counts.items(), key=lambda item: item[1], reverse=True)[:5])\n",
    "values, frequencies = zip(*sorted_counts.items())\n",
    "values[:10]\n",
    "#plt.bar(values, frequencies)"
   ]
  },
  {
   "cell_type": "code",
   "execution_count": 23,
   "id": "e12f1c84-eb27-4071-a52e-e51b9bbaa9eb",
   "metadata": {},
   "outputs": [
    {
     "data": {
      "text/plain": [
       "('know', 'go', 'thi', 'year', 'prescott')"
      ]
     },
     "execution_count": 23,
     "metadata": {},
     "output_type": "execute_result"
    }
   ],
   "source": [
    "from collections import Counter \n",
    "category_counts = Counter(token_transcript_cleaner)\n",
    "sorted_counts = dict(sorted(category_counts.items(), key=lambda item: item[1], reverse=True)[:5])\n",
    "values, frequencies = zip(*sorted_counts.items())\n",
    "values[:10]"
   ]
  },
  {
   "cell_type": "markdown",
   "id": "3a7898f6-46ad-479b-b3cd-5e8711a651c8",
   "metadata": {},
   "source": [
    "# Calculate Word Diversity for a single Transcript"
   ]
  },
  {
   "cell_type": "code",
   "execution_count": 24,
   "id": "d4305330-c5ba-453c-be2d-500792b551b7",
   "metadata": {},
   "outputs": [
    {
     "name": "stdout",
     "output_type": "stream",
     "text": [
      "Word Diversity: 0.21317600786627336\n"
     ]
    }
   ],
   "source": [
    "import numpy as np\n",
    "total_words = len(token_transcript_cleaner)\n",
    "unique_words = len(set(token_transcript_cleaner))\n",
    "print(f\"Word Diversity: {unique_words / total_words }\")"
   ]
  },
  {
   "cell_type": "markdown",
   "id": "ed40306c-cc62-412d-a516-ce17549a4df6",
   "metadata": {},
   "source": [
    "# Raw Combined Transcript"
   ]
  },
  {
   "cell_type": "code",
   "execution_count": 25,
   "id": "f3ae5d99-c638-4935-90b2-389beb7b3df8",
   "metadata": {
    "collapsed": true,
    "jupyter": {
     "outputs_hidden": true
    }
   },
   "outputs": [
    {
     "data": {
      "text/plain": [
       "'hey there cowboy fans welcome to the unbiased podcast because team im your host austin smith and joining me as always is coach ty rogers one of our analysts over at pigskin nut and a lifelong cowboy fan and we are the big d beat down and we are brought to you today by pigskin nutcom the soontobe undisputed king of football news and podcasts with your in your car taking a break from work or just relaxing at the house its always better to be doing so while youre getting your football fix we break down players on our pro football scouting show as well as tackle some of the mostcurrently controversial topics on our football roundtable we discuss some of the alltime greats on our show wide right and put out exclusive shows on some of your favorite nfl teams such as the giants eagles browns broncos chief steelers and of course youre dallas cowboys make pigskin your ultimate source for football news and podcasts if you want quality analysis with independent opinions from people who know and understand the xs and os of the game head on over to pick skin nut remember guys pick skin nut for those crazy about football all right coach ty um you know its been a little while since we talked you know the kind of had the end of the season weve had coaching staff hired we talked about that a little bit one of our past episodes i did a little episode on on players to keep an eye on at the senior bowl last week and now but its time to get into some of the biggest priorities of the offseason in today were going to talk about priority number one now that mike mccarthy and his staff are hired and that is dak prescott in his future on this football team now coach ty i mean lets start with this coach jerry jones has made no you know hes made no mystery about whether or not he wants to keep dak prescott around he has made it clear dak prescott is valuable commodity to this team that he wouldnt take two firstround picks for deck prescotts that he thought dak prescott was better than any quarterback that would have been available in last years draft that you know that that dak prescott is the future of this team not just this presence or passed so with that being said i mean hes really putting all his cards on the table hes making it clear that that you know dak prescott wheat want you here and youre and thats im going to do whatever it takes to get you here now having said that that doesnt necessarily lend itself to jerry jones being willing to play hardball with dak prescott and todd france his agents we thought that might have been the case the beginning at the year when rumors had it that that jerry and the cowboys had offered dak prescott a contract worth 30 million dollars a year annually and todd fry france rejected that we heard some offthewall rumors that all there theyre seeking 40 million a year i dont know how much i believe that if i were to believe that i think it would be more of a a negotiation tactic you say 30 we say 40 you say 32 he say 38 so we find numbers out and yall are willing to spend the most you know the most i guess you could say the majority of the rumors that we heard were that 34 million a year was direction that that dak prescott scamp was going having said all that weve had contract you know we had a contract offered at some point early in year it was not accepted jerry has stood by the fact that he wants dak prescott to stay here back obviously to stay here stephen jones has made it clear that no he will we will get a deal done what are your thoughts on this whole thing do you really think theres any hard ball being played here or do you think this is just posturing until both sides the number that they can live with you know i cant imagine it being anything other than posturing like you said with a verb has been out there i think both sides have pretty much said the whole time that they want to negotiate they do want to make a deal no point has that crest gods camp said that hes looking to shop himself in the free market and no point is jerry jones talked about going a different direction even with the coaching change and and you know people who follow this podcast know that when the coach has changed made i was a little concerned that maybe dak prescott would hit the free market and thats whoever was brought in might want to go a different direction with the quarterback position but even mike mccarthy and his press conference and in several interviews hes done the said the dac is are more priority so the deals going to get done the question obviously is the number and the questions of time frame the thing thats going to accelerate both of those that here soon the dallas cowboys are going up to make a decision as to whether or not they want to put the franchise tag on dak prescott and that right there is the one major bargaining ship i believe that dak prescott has because that franchise tag could be used to sign up byron jones for another year and so those are the type of things that crush guys camp has got to be talking with jerry by saying look you know with that coming with the upcoming change that were going to have in salary cap room you know the its better if we go and get this done and that way you guys avoid having to deal with the mess of using the franchise tag on me and then having to try to sign them are cooper by jones and then other players in the free agent market you know i was reading an article today about you know a deal trying to get done to bring them all out of this here to dallas they cant do that if theyve got that still kind of looming out there so its definitely posturing on both sides they definitely do want to get the deal done i guess the question is going to be how you know what type of incentives can jerry jones throw in i mean this is always been his thing is finding a way to you know make sure that the guaranteed money is bigger make sure that theres some type of you know a sponsoring or advertising situation for the long term and those are the type of things that obviously makes him the hall of fame owner that he is so well see how quickly that gets done by think that it would not surprise me if not very long after the super bowl this is finished so the cowboys can move on to the other pressing needs theyve got which by the way are a lot more complicated i think the decks could contract yeah and and and that key hes got to be the first the first you know chip that falls you know hes got to i mean if you want to go shop for a jamal adams if you want to get things done with amari cooper byron jones in you know anybody else you know thats a possible free agent on the cowboys roster i mean its got to happen after dak you know ill say this much you know theyre there in lies the the the truth of the issue is the cowboys have super bowl aspirations which im not saying that the other 31 franchises dont but you know theres a difference i mean theres a difference in realistic possibilities on whether or not a team can get to a franchise im sorry the cincinnati bengals arent you know or miami dolphins arent exactly making plans based around competing for super bowl here in the next year or two if it happens that would be awesome for them but thats just not where their current their roster currently leads them to believe they can make that a realistic expectation the dallas cowboys have an offense thats ready to compete eat at a extremely highlevel defense you know what took a step back last year but hey ill remind everybody a year before that we thought this was one of the best upandcoming defenses in the league good young linebacker duo is a defensive end that was on his way to an extension at the time to marcus lawrence whos now gotten that extension young secondary with breakout prospects and and and yes you know it was it absolutely turned into a disappointing just just mess with what chris richard and rob marinelli put together last season but thats not to say that that that you know these guys cant turn around and have bounced back years because yes there are a number of free agents on this defense but still weve got some talent on that defense to so with that being said dak prescott you know we are going to be looking at doing our best to put out a championshipcaliber roster with that in mind but we you know we need every penny we can get we need every ounce save that we can get and in some scenarios you know youre going to have to make hard choices on people and right now i think dak prescott has the ability just like zekiel elliot did and chose not to take dak prescott has the ability to make it easier to keep an amari cooper a byron jones around or the others that well get into later and thats kind of i think the biggest issue you know that that i would have in the negotiation is but yes obviously this is a business however youre the starting quarterback for the dallas cowboys business will always take care of itself for you even if its you know this this contract doesnt reflect the best business decision there will always be endorsements this is texas state without state tax you know the money trust me the money will always show up to dak prescott as long as hes playing quarterback for the dallas cowboys so you know its one of those things where bud you know the the money you allow us to hold onto this year maybe the extra two or three million annually that were allowed to keep maybe thats the money that convinces a byron jones to stay or convinces and amari cooper to stay or better yet convinces one of those future guys like michael gallop like like layton vander ash like maybe even a jordan lewis who will talk a little bit about later on maybe those guys to stay so thats really the biggest issue that that the cowboys you we have in this negotiator in process is that yes dak prescott scamp is out for deck prescott jerry jones is out for the dallas cowboys and their super bowl aspirations and we have to find a way to maximize the the the the you know the process of paying dak prescott and keeping our super bowl expectations as high as possible so with that that being said coach ty you know jerry jones has not exactly hidden and like i mentioned this early jerry steve and they have not hidden how badly they want him coached i would what kind of timetable are you putting on this because and i put this in my article that i wrote over on pigskin thatcom and for those of yall that havent gotten a chance to see it yet you can go to pigskin notcom  cowboys and youll see it the risk reward playing of pea playing hardball with dak prescott i examine every angle to the negotiations of dak prescott including the possible market for him whoo stickley is on that market and at the end i talk about this timetable and you mentioned it sir the deadline to put a franchise tag is on or i beg your pardon the opening date to put on a franchise tag is february 25th the deadline is march 10th right now are in late january so the cowboys have got about a month of of negotiating time before time comes time to issue a tag or for before they can actually issue a tag march 10th is the deadline and guess what a week later the nfl league year starts and the free agency period begins at 4 pm on march 18th so with that being said the clocks ticking coach ty is this something that you think jerry jones and stephen jones based on what weve been hearing from them and how confident they are that dak prescott is going to be this teams quarterback of the future is do you see this getting done here in the next we are week two weeks a month or do you think itll go to that franchise tag that sighs tag deadline yeah i think ill be done within the next month i dont think that they want to the cowboys want to go to the draft and start the draft festivities and bring people in and all those things without having that prescott as one of the leverage pieces for that situation plus im cowboy is going to be very busy predraft giving some deals put together i think that that is something that mike mccarthy wants done there some personnel that he wants on this team and i think the jerry jones and making them a car through move said a couple of things and one of those was that he is not satisfied with the state of the current roster that does need to be improved weve got some pieces obviously but does not the level that it needs to be to get the cowboys back to playoff level and super bowl level so i assume here before you know i would say for the end of february gets done fact i wouldnt be surprised to get done here in the next couple weeks but yeah its definitely not going to go up to the the franchise tag situation because thats going to make some other people skittish the cowboys want to sign and i think that you know he they dont want to take that step so yeah i think its done here in a pretty short amount of time for you know money that is going to be ill know right above and beyond what everybody else is making i think and you know some people will think of that is overpaying for dac some people will not but ultimately i think hes earned that particularly even though the team struggled last year what he did was a pretty strong accomplishments oh yeah you know and ill say this much did you dream scenario is like you said to get this job done in the next few weeks weeks because then it gives you an opportunity to start you know to get more serious with amari cooper and any contract extension talks and possibly even get that deal done before that free agency period starts on march 18th because lets be honest guys i mean not letting these guys get to a point where they can talk with other teams and negotiate with other teams thats you know thats the goal thats thats the goal to keeping teams from driving up prices on from stealing someone away because let me tell you our good buddy josh davis over at the philly convo at pigskin nutcom he is adamant that the philadelphia eagles are going to make a hard push for amari cooper i mean he is sold on it man if if he hits that march 18th date which technically i want to say march 14th or 15th somewhere around there teams can actually start talking with players from another roster that are set to be free hence theres a kind of an early early period where they can at least have discussions march 18th is that day though when when contracts can be signed in pain and thats um you know keeping amari cooper you know from that process or even a dak prescott thats got to be the cowboys top goal which would mean that prescott you know that chips got a fall here in the end at least the next three weeks so were going to go ahead and take a break when we come back we are going to talk about this cowboys contract for dak prescott and and what it could possibly be where it fits what other players in this league you know we can compare those numbers to and what in what in general dak prescott could be signing for here in the near future well get to all that when we get back here on the big d beat down so you want to make a podcast but you dont know where to start anchor fm if you havent heard of anchor fm ill explain one its free to use to you can create and edit your content right there with the tools anchor provides also they will distribute it for you salad such as putt spotify apple podcast caster and more another reason you can make money even with no established listenership download the free anchor app or go to anchor dot f m and get started anchor fm everything you need to make a podcast in one place and we are back here on the big d beach and im your host austin smith joined as always by coach tyler rogers and we are talking about the dak prescott contract talks we are talking about you know what the cowboys are going to in order to get prescott under contract we are talking about what dak prescott is ultimately going to be asking for and coach ty lets focus in on that you know obviously prescotts and camp has a number in mind im sure that you know they have no problem with the joneses overpaying but considering this team is competing for super bowl we have a number of big contracts already on our roster and weve got more to pass out after dak prescott overpaying is just something to cowboys cannot afford to do so lets talk about what would be the reasonable contract not the team friendly deal not the dax and todd frances ultimate dream deal know the deal that would make the most sense and im going to start off by saying this coach ty jared goff carson wentz russell wilson all signed contracts this past season now im not going to put russell wilson in the same conversation as dak prescott but it could create a ceiling for what the doc prescott contract could be russell wilson signed his deal first of the three he signs his deal for four years a hundred and forty million dollars with a hundred and seven million guaranteed thats a thirty five million dollar annual value on the extension itself now russell wilsons got two super bowl appearances one of which he won the other one he came within a yard of winning like i say he is not necessarily the standard of what i think dak prescott scam should be looking for however after that we see carson wentz get an extension for years a hundred and twenty eight million annual value of 32 a year on the extension with a guaranteed number just over russell wilson a hundred and eight million guaranteed and just like that weve got somebody whos got a reasonable argument for setting the market for dak prescott carson wentz a guy that saying i mean in in in each carson wentz and jared goff climbing to mention next all of them in the same draft class obviously golf and wince go one and two prescott goes late in the fourth round with a compensation pick for the dallas cowboys however all of them very similar careers all of them have a case why theyre the best of the trio when you look at the stats when you look at the accomplishments each one of them has their own individual case but when when signed that deal i think we all got ours we all got a good idea of what dak prescott could be making and then jared goff signs and he won upset a little bit on carson wentz and and ill give golf this he was coming off his two best seasons including one at the the last one in which he led his team to a super bowl appearance where they lost to the new england patriots but goff coming off a two straight years with over a hundred quarterback rating being coming off of two straight years with his better completion percentages two straight years where he was the starter full season dont forget he was not a starter that earlier in the ram that first year in the rams he he didnt start till midway through the year he ends up getting four years a hundred and thirty four million get a hundred thirty four million which is 33 and a half on an annual on an annual average on that on that extension along with a hundred and ten million guaranteed so now the guaranteed number has gone up again from 107 with russell wilson to 108 with carson wentz so now 110 with jared goff now weve got a little bit of a range carson at 32 annually golf at 33 and a half annually you now yes other factors of how much theyre structuring in to last season which was technically the last year of their rookie contract before the extension kicks in thats part of it too not all these guys you know theyre not just going to after this you season ended all that money kicks in know you sign the extension and then you structure it to throw some of that into the current year in order to smooth it out a little bit still weve at least got an annual that an annual average of what dak should be in the market for somewhere around 32 to 33 and a half now coach ty im going to swing this to you now we make the case to me about whether or not that prescott belongs in the carson wentz conversation at 32 a year in the gulf conversation at 33 and a half a year maybe somewhere in between or maybe just slightly over what stance you take in and and and give me a little little little bit to back it up well you know its kind of a complicated issue because these contracts get you know elevate every single year regardless of the quality of quarterback like its more a numbers thing and a value thing for the agents i think anybody else but when you look at what dag did last year dac is was arguably the most improved quarterback in the league he was the leader of the second best offense in the league his ability to throw the football down the field was what he was one of the more deadly you know deep ball throws in the league last year he had a better year statistically than jared often last year i am not sure about the stats with carson wentz by think that that also applies to him yes and so you know that being the case this is a what you what have you done for me you know lately big and what comes the contracts that is been the case also you know when good your golf got his extension last year we both talked ad nauseam on the on the podcast about how that had pumps with the cowboys could have paid him because we both felt that that was a little bit of overkill and overpay for jared goff services so is there a possibility that at 33 or thirty three and a a half million that the cowboys be overpaying for that cross got the answer is yes but the answer is also and so what because even though the cowboys definitely have to have the extra cap space to sign the other free agents that theyve got to get to if they dont have deck and place it tremendously hurts the leverage to get somebody like a mark cooper signed for less money which is whats going to have to happen if they on deck at that level hes not going to sign for as much as he probably could if he was going somewhere else with more cap space now is also not going to be on a team thats near as successful and amari cooper knows the value of a successful quarterback of value most successful offense because of his time with the raiders and how that quickly declined so you know theres a lot of cases as to maybe should be in between those two but i just dont see that happening in the marketplace this day and age and of course right after that theres going to be somebody else sign its going to be signed for hired him and then you know unfortunately thats kind of the way that this thing has rolled for nfl teams anyway over the last few years but you know i see that cross guy coming in somewhere around thirty three to thirty three and a half million dollars i dont know how that will be structured im sure will be structured in a much different way than the golf contract and i think will be structured much differently than the the carson wentz contract because carson wentz has had some health issues that deck is not but i see it at 33 or 33 and a half million and i think you know when you think about the production you think about the future of the franchise its probably as small a number as you get if you wait longer youre going to get a bigger number and thats not going to be good for the cowboys going forward yeah ill throw this out there if i told you that there was a quarterback on the market coming off of his best season and in which the offensive line played outstanding the running back played very well was one of the best in the league and a real a trio of receivers you know made all of this made the quarterbacks job easier and he went out and had a career year you would say wow that could be dak prescott or it could be jared goff a year ago when he signed that extension very very similar issues and they say oh well look at jared goff hes nowhere near as good as dak was this year funny thing todd gurley was not himself this year that offensive line fell to pieces and one it was one of the worst and football after injuries and after some departures in free agency that offensive line was one of the worst and football and what is jared goff end up with and eighty six point five quarterback rating in after posting quarterback ratings of a hundred 11 the prior year when they went to the super bowl and a hundred point five the year before that i mean if you look at jared golfs numbers from his to those two good years that led up to this contract extension hes got over a hundred quarter over a hundred quarterback rating in both of them he averaged 30 touchdowns a year passing dac through for 30 this year he averaged nine interceptions 95 technically during those two years dak prescott had 11 this year so slightly higher on the interception rate he averaged 82 yards per pass thats exactly what dak prescott averaged this year you know its he threw the ball 293 yards a game during that during that that that year the 2018 year when they went to the super bowl dak prescott this year slightly higher at 305 however we did a little bit more losing than jared goff that did year which would obviously bump passing numbers up so the dak prescott numbers now are very very very very favorable to the ones that jared goff each of the prior two seasons 2018 and 2017 so for people to say oh well didac obviously proved hes better than jared goff look at this year the rams didnt play this years jared goff they played last they paid last years jared goff you sell well then jared goff just showed his true colors well then we can have a look at that crust scotts numbers in his prior two years you know at the end of the day these are very favorable this is a very favorable comparison gerry goffin dak prescott and more importantly the role they play with their team is much more favorable the rams put a receiving trio around jared goff thats one of the best in football the dallas cowboys have done that over the last two years with dak prescott now obviously amari cooper free agent randall cobb a free agent theres going to be definitely some some maneuvering to get cooper back and possibly get a third guy in here whether it be draft whether it be calm coming back or something to that extent but the bottom line is that team gave weapons to their quarterback to enhance him yes the rams offensive line was abysmal this year prior to that there were one of the best in football when healthy and they had all their pieces that some of which got away in free agency this past offseason cowboys same boat one of the best offensive lines in football we have not let our offensive line pieces get away the rams prior to giving golf his money had an mvp caliber running back in todd gurley got him signed up before golf simply so they could have that player that took the pressure off the passer when they needed to because they know theyd need to same thing happens with the cowboys and ezekiel elliott they get him locked up first lets make sure that weve got the piece and place to take the pressure off the quarterback because we will have to do that in order for him to have success everything about the situation these guys are in to the way teams build offenses around knowing that they will need help that this is not necessarily russell wilson who could carry an offensive line with a number of guys who arent even likely to you know to be back or even be wanted back next year a group of receivers that you would need an nfl guide to take you through just to remember who half of them are a group of tight ends that that honesttogoodness that casual fan wouldnt even know who they are russell wilson carried to seattle seahawks on his back to a playoff appearance to almost the number one seed weve seen that from guys like aaron rodgers were seeing it now from a guy like patrick mahomes who does have weapons ill give you that but tyree kill hadnt been healthy all year they got rid of kareem hood at running back this to you here was was kind of a running back by committee so the bottom line is is you know dac is not one of those that you put him in place and ud prioritize the weapons around him hes much more like a golf you put him in place and you prioritize getting those weapons for him that protection for him that in that safety valve for him that can take to pressure off of him in order to enhance his abilities as opposed to him enhancing everybody elses allah russell wilson aaron rodgers patrick mahomes those types of guys so the jared goff contract is is a very very firm value on what i think dak prescott is it a you know what should be asking for and like i say him and carson wentz have very similar numbers to the difference is carson wentz has dealt with something goffin prescott havent and that is a serious injury history so you know not not to mention now you know hes owing one in his playoff career and tina you know at the end of the day i think the gulf contract is accurate and i think thats what both both sides should be looking at to try and stay in the ball park of were going to go ahead and take another break when we come back coach ty you and i are going to get into the cowboys cap space issue and then were going to talk about okay we know how much deck should probably be going for but what are some of the reasons to cowboys should try and beat theyre just shy of that mark will get to all that when we get back here on the big d be done and we are back here on the big d beat down im your host austin smith joined with coach ty rogers and we are talking the dak prescott contract negotiations and to this point coach time and i kind of both agreed that the jared goff contract for year a hundred and thirty four million dollar extension that he got was something that yes it should very well be the amy aiming point for both prescotts camp and the cowboys thats probably what would be fair to pay him ill say this much for those of you know that that maybe havent read into this goff winson wilson all signed for your extensions and there is a very good reason for it at first i just thought it was coincidence the cowboys usually with the rookie contracts are more favorable to go five year extensions it sounds now like the nfl will be in the market for a new tv deal in 4 years which means a very possible a very sizable salary cap increase once that deal is done so many of these quarterbacks russell wilson carson wentz jared goff are positioning sell themselves with these four year extensions to be free agents just prior to that in order to cash in on the balloon in in cap space so with that in mind i would expect that to be a priority for dak prescott scamp as well lets keep this at a fouryear extension for the cowboys obviously they the i could see them pushing for five and saying look but you know that that balloon in the salary cap that incline could be used to keep someone else you know at the time wed love to have that in our back pocket saying hey soandsos due for a new contract lets pencil him in for that 2023 season or that 2023 i have prior after that 2023 see them that 2024 offseason technically so with that in mind coach ty this team has seventy nine point four million in cap space right now only 50 guys under contract dont forget these teams take 90 to the training camp so you know its not just as oh well lets spin that 79 million on dak prescott amari cooper and byron jones and boom it fits know weve still got a lot of players we need to sign to this roster to get them not only to a training camp but to be able to put together a competitive 53man roster has ill remind you those 50 players under contract many of them are practice squad players future contract guys were not three guys away from filling out a roster and their names being dak prescott byron jones and amari cooper thats not how thats thats shapes up so we still need plenty of space to go out and make the deals like we did a year ago like with a randall cobb on a oneyear prove it deal or a carry hider as a oneyear bandaid you know until we can find more serviceable depth on the defensive line at a younger age through the draft you still have to be able to make deals like that were not going to be the draft every t need this team has ever fix every hold this team that you know has to fill free agency is going to have to take a part in that and its going to be guys on one year 3 4 5 million dollar deals so you have to you have to budget for that coach ty you know talk to me about outside of dak prescott with that cap space what are your other priorities who would you like to see outside of just that prescott this team targets and i know theres a potential trade that you are a big big fan of and youd like to see happen talk about that a little bit so the cowboys first priority i believe is going to be a mark cooper even though i dont know that he should be the number one priority with the way this defense played last year i definitely believe hes going to be next after dak prescott and i think thats they are maybe not tied at the hip but theyre definitely trying to be tied as a package together after that the question is wheres mike mccarthy want to go with his secondary you know byron jones also the next big name out there but you know do we go with byron jones thats a style of play is he the type of corner theyre going to want to want in the system that got right now you know he was a christmas char guy like i said the biggest change that might be coming to the cowboys in 2020 well two things number one i think youre going to get bigger defensive tackles which is a priority also but there are a couple of free agents out there they might be able to get four love a bargain basement price when it comes to that but the secondary is going to be the next change is going to be big and i dont know the byron jones if they look at that situation think is he worth the money to do it because you have so many others on this roster like anthony brown that they can say okay well were going to give you the opportunity to win this position and sign you for a year and see whether you can get the job done and not have to invest all that cash base in the byron jones particularly if theyre trying to go after jamal adams jamal adams is going to cost them as significant amount as he should he probably will cost him some firstround draft picks in the next couple of years as he should so the question is how bad does dallas want that type of player in their secondary i cant imagine that opportunity shows up the dows doesnt go ahead and commit all the resources they can to make can that happen short of trio trading travis trip frederick which was the asking price earlier in the season so i cant like that i think its going to be a martyr coopers dont be that next one up and then it would be up to the cowboys to see i if i am making the decisions when it comes to this will say im will let byron jones go and im going to let any brown or somebody else go ahead and to have the opportunity to go make that happen and then im going to try everything i can to get jamal adams to be in a dallas cowboys uniform and back home here in dallas for the 2020 season because i think hes a game changer in the secondary yeah and and we did here we heard all kinds of offers you know about that jamal adam situation the final offer i heard the cowboys and made was a firstround pick in anthony brown now on for the cowboys unfortunately anthony brown ended up hurting himself not long after that offer was made and the jets had made it clear know if thats if you know if thats the case we just much rather have multiple first round picks its going to cost a lot ill say this much it is definitely going to cost the dallas cowboys a pretty penny at least one firstround draft pick whether it be this year or next i personally have kicked out the idea of you know what cowboys once day one is over this year use your first round that 17th overall draft pick and if jamal atoms in the jets if theyre still shopping him give them a call at the end of the night and say okay you know how highly do you value our second round pick this year could a second round this year in a second round next year do it when it have to be a second round this year and a first rounder next year ill say this much guys draft picks are never more valuable than on draft day when the prospects are staring you right in the face when the jets are looking over there board after day one and saying okay who else is still out there that weve got a firstround grade on or something like that at then all of a sudden those secondround picks start looking like gold start they take on the value of a firstround pick the cowboys are picking at 51 in the second round if the jets look at a player and say wow we really had our eye on him with our early second round pick maybe you know if we grab that we got an opportunity to bring in another guy with a very high grade and now all the sudden its tutus as what it would take to get jamal adams hey id be all on board for it aaaaannnd yes this is coming from a cowboy fan as somebody who is desperate to get change at the safety position this team has just not invested properly in the safety position over the years matter of fact the last true investment we made at safety was the drafting of byron jones i mean lets not forget he was thought to be someone that was going to come in here and eventually be our free safety he played both corner and safety at uconn we initially as a rookie brought him in and put him as kind of a flexible role where he bounced all over the the defensive formation and then we moved him back to the free safety position now that didnt work out as wed hoped it would chris richard comes in here ceases skillset puts it to good use he ends up having a pro bowl you an allpro year in 2018 and now hes on board for a big payday you know that was our last safety plan now yes obviously we drafted guys like like xavier woods thats the day three pick guys thats not somebody that you were expecting to come in and be a starter thats somebody that if things go right it can happen but thats not the plan you never draft somebody on day three with the idea that they are going to be the frontrunner for a starting position unless that particular position is just so we call with the current personnel you currently have in which case you know yeah youre kind of at the mercy of that particular pick having said all that a lot of things the cowboys can do with that space a lot amari cooper like you say coach ty on the top of my priority list too amari cooper should have more leverage than anybody you know outside of dak prescott when it comes to a contract and im talking about i mean you look across the league derrick henry maybe hes got some pretty darn good leverage right now after the way he ended the season amari cooper can look at a football team and say hey guys for i showed up yall were three and five yeah were 3 and 5 i turned things around my edition help turn things around get this team to the second round of the playoffs last year i was off to an amazing start to the season before injury after injury after injury started creeping up oh by the way i played through them i put my business decision my future contract in my back pocket and said no im going to keep playing as long as weve got an opportunity to make these playoffs im showing up and im playing hes got a heck of a lot of a lot of leverage on the cowboys in my personal opinion i dont know how you dont want to keep a guy like that around especially considering and i want everybody to think real hard about what dak prescott looked the first eight games of the 2018 season with michael gallup allen hurns cole beasley tavon austin as the receiving corps think long and hard if you cant remember ill tell you right now looked a hell of a lot like jared goff this last year maybe worse so making sure that amari cooper is still on this roster moving forward is you know plan one a right behind dak prescott being planned one so that thats you know and guys we still havent even talked about future assets we still havent even talked about a guy like michael gallup who its just continuing to get better and could be a future number one receiver were not talking about layton vander a shoe had an amazing rookie year before having a downward sophomore year in a year where our defensive scheme was all over the place he suffers an injury sits out for the betterment of his longterm future now weve got a linebacker guru in mike nolan coming in guys layton van tures is is is probably going to he is probably going to be one of mike nolans most affected players on this team but one of his most you know when one of the players that he brings the best out of between layton and arash and jaylon smith mike nolan getting ahold of those two could not only see their 2018 results come back but could see them shoot even further up the food chain when it comes to the top linebacker duo in the nfl and guys im going to throw another name out there and i talked to you about this preshow coach ty jordan lewis guys jordan lewis has been one of this teams best corners ever since he stepped on the football field for the dallas cowboys now when chris richard came in all of a sudden height became a priority and chris richard said all the right things well when it comes to him size doesnt matter hes just a darn good football player yeah you know i its easy to say that chris richard when hes your fourth corner when youre consistently putting anthony brown or cheat obey woozy a on the field instead of him you know and both those guys have had their their their bright moments but jordan lewis has been at one of this teams best corners i mean probably the second best over the threeyear period that hes been in this league and because of his size his playtime suffered well guess what it with this new regime thats not going to be the case they are not going to give a hoot about how tall jordan lewis is if he can cover hes going to be on that football field ive talked ad nauseam you know with cowboy fans on twitter you know me and coached ive talked about it i think michael gallup and blake jar when are going to be the the two players that are impacted most by the addition of mike mccarthy however i think jordan lewis could possibly be the player on defense this most impacted by this coaching change by the new regime the new defensive guys coming in i think jordan lewis could be in for a breakout year this year and i know ive said this last year about him but you know what once again chris richard kind of cut that that prospect off at the knees now jordan lewis is really going to get his shot now the best two corners are going to play regardless of size i think jordan lewis could be in for a breakout year oh by the way its a contract here we know how that tends to motivate a player you know so its a lot of contracts not just this offseason but in future off seasons that we have to consider what if cheat obey woozi is at player that finally has a breakout year what if somebody al harris ive got to go back in and and remember the the new defensive backs coach is named i know he coming from texas am but but it will what it would be if those to teach cheat obeying woozy at how to turn his head and locate the football suddenly weve got a guy that half of us arent even interested in keeping around past the 2020 season to a guy that might have a byron jones caliber breakout season who knows but there are you know definitely guys that are going to be owed money not just this offseason but in the next offseason or two we have to keep that in mind through this dak prescott process thats why every penny helps every million coach ty im going to swing it your way but give me your prediction what do you think this dak prescott contract extension ends up these lets put it out there lets get the numbers out there many years how much money and how much money guaranteed what are you thinking i think its going to end up being a fiveyear deal i think its going to be 33 and a half million you know guaranteed im not sure i think youre going to probably get somewhere between 30 and 40 million guaranteed just says yeah numbers put out there to so kind of you know make dac fuel you know like hes valued by the organization you know with the time just take it so you know i think its going to be a fiveyear deal and lisa is it will be above 30 i think will be about 33 money and 33 and a half is what youre saying on and angela average okay yeah ill say this much i think dak prescott camp i think they get their win and keep it at four years that way he can hit that market again before that tv deal pops in im thinking im thinking for year a hundred thirty six million thats 34 right on the dot yes that is higher than id like to pay him but the cowboys seem like theyre smitten and seem like they want to make sure that they keep this guy in place and guys i cant blame them weve been through the quincy carter years weve been through the years of drew henson and drew hutchison and all the other drews drew blood so that came through my goodness it seemed like we went through a number drews there for years the vinny testaverde hes and then all of a sudden out of nowhere and under if to an undrafted free agent tony romo goes from being a third quarter back to a second to all the sudden our star weve been through those disparate desperate years of needing a quarterback and more importantly weve been through those desperate years of needing a leader and that wasnt even always tony romos strength tony romo was not always the outspoken captain of these dallas cowboys yes later in his career he finally had that respect he finally had that title but there were a number of years there where tony romo was not the outspoken commander of this offense that we were hoping for dak prescott has been that ever since he first stepped into the starting huddle he has commanded his teams respect t he has been the outright leader of the bunch thats what attack press got brings to the table im going for years a hundred and thirty six million and im going with the cowboys giving his agent a little perk the hundred and ten million guaranteed mark is what jared goff is at im going with him saying okay bud will give you that will bump it up to a hundred and eleven or a hundred and twelve will make you will give you the most guaranteed money i would hope if that they do do that that maybe prescotts camp is willing to concede that annual average down to maybe the 33 and a half mark or even the 33 mark however in the end i think thats what it turns out to be 4 years a hundred thirty six million a hundred and eleven guaranteed thats the number and folks dont forget to get on over to pigskin nut and check out the article i put up about the risk and reward of playing hardball with dak prescott like i im not only examine the numbers i also examined the possible needs out there for a quarterback at 135 million first of all how many nfl teams out there truly have a need for quarterback i came up with 13 of them you can find out which ones at pigskin notcom cowboys find that article the risk and reward of playing hardball with dak prescott in the end i narrowed it down to three true teams that would be in the market for a dak prescott if he indeed hit free agency for one reason or another i knocked off the other 10 whether it be cap space whether it be the ability to draft a young quarterback whether it be you know the the possibility to you know how easy it would be to get rid of their current guy put a lot of thought process into this you can catch that story over at pics gettentcom cowboys and were going to go ahead and wrap it up there cowboys fans be sure and join us next time we are going to continue to discuss this offseason who knows maybe our next show might be about the news that dak prescott has signed a contract it might be about the news that the cowboys and prescott have hit a wall and neither side is willing to budge and the implicit or the possibility of using a franchise tag on him whether it be the exclusive or the nonexclusive but we are going to continue to tackle this offseason as it comes at us be sure and join us next time and dont forget to visit us over at pigskin notcom the soontobe undisputed king of football news and podcast where you can find everything we do on the dallas cowboys if you want quality and football analysis with independent opinions from people who know and understand the xs and os in the game head on over to pigskin now remember guys pigskin that for those crazy about football aw also if you like what you hear be sure and subscribe to our show we had a really good turned out during the regular season of people subscribing to our show people getting involved with our show we want people to continue to do that guys were on a variety of platforms you can find the big d beat down were available in the apple and google pot escort podcast stores as well as on anchor spotify breaker over cats pocket casts and bagram pod bean click that subscribe button theyll notify you every time we put out an episode and you can search us up on social media at big d be down on twitter find the big d beat down on facebook guys we are out there we are happy to interact with the fans with the people that listen to the show weve brought a weve put fan questions on the show before were going to continue to do that send us your questions give us something to debate by all means well do it thanks for joining us today on the big d beat down folks for coach ty rogers im austin smith have a good one cowboy fans'"
      ]
     },
     "execution_count": 25,
     "metadata": {},
     "output_type": "execute_result"
    }
   ],
   "source": [
    "remove_punctuation(transcript)"
   ]
  }
 ],
 "metadata": {
  "kernelspec": {
   "display_name": "mldev",
   "language": "python",
   "name": "mldev"
  },
  "language_info": {
   "codemirror_mode": {
    "name": "ipython",
    "version": 3
   },
   "file_extension": ".py",
   "mimetype": "text/x-python",
   "name": "python",
   "nbconvert_exporter": "python",
   "pygments_lexer": "ipython3",
   "version": "3.9.7"
  }
 },
 "nbformat": 4,
 "nbformat_minor": 5
}
