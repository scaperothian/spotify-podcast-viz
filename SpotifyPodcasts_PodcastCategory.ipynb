{
 "cells": [
  {
   "cell_type": "markdown",
   "id": "86d4229d-f36d-4bc1-98b5-0443a10b81b0",
   "metadata": {},
   "source": [
    "# Spotify Podcast Dataset - Reading Transcripts\n",
    "\n",
    "Attempt to come up with an API to support batch processing of transcripts for this data set."
   ]
  },
  {
   "cell_type": "code",
   "execution_count": 14,
   "id": "c39d36d1-1e56-4cc2-8dde-dd0c316c05fc",
   "metadata": {},
   "outputs": [],
   "source": [
    "import pandas as pd"
   ]
  },
  {
   "cell_type": "code",
   "execution_count": 15,
   "id": "e2e277eb-aeff-4e30-8685-c9588f71ba03",
   "metadata": {},
   "outputs": [],
   "source": [
    "df = pd.read_csv('../podcasts-no-audio-13GB-selected/metadata.tsv', sep='\\t')"
   ]
  },
  {
   "cell_type": "code",
   "execution_count": 16,
   "id": "a6622eb4-7e81-4445-99d3-176b00a418c1",
   "metadata": {},
   "outputs": [],
   "source": [
    "basename = '../podcasts-no-audio-13GB-selected/spotify-podcasts-2020/show-rss/'"
   ]
  },
  {
   "cell_type": "code",
   "execution_count": 17,
   "id": "c22a4817-1681-492d-a3bd-d94cc29b45e6",
   "metadata": {},
   "outputs": [],
   "source": [
    "# Locations of episodes are based on two levels of folders: \n",
    "#    first_folder/second_folder/show/episode_metadata.json\n",
    "# To figure out the first_folder and second_folder by looking at \n",
    "# the first two characters in the show_uri column.\n",
    "\n",
    "# Then you can extract the transcripts...\n",
    "\n",
    "df['first_dir'] = df['show_uri'].str.extract(r'spotify:show:(\\w)')[0]\n",
    "df['second_dir'] = df['show_uri'].str.extract(r'spotify:show:\\w(\\w)')[0]"
   ]
  },
  {
   "cell_type": "markdown",
   "id": "d3652d68-a5a7-4609-971e-e951a4471ca8",
   "metadata": {},
   "source": [
    "## Attempt to extract the RSS category metadata of a show.\n",
    "\n",
    "Find all the categories in \"4G\" folder"
   ]
  },
  {
   "cell_type": "code",
   "execution_count": 19,
   "id": "33b7ef32-7966-4896-a07a-1c2fa65d6010",
   "metadata": {},
   "outputs": [],
   "source": [
    "import xml.etree.ElementTree as ET\n",
    "\n",
    "def find_category(file): \n",
    "    extracted_data = []\n",
    "    \n",
    "    # Parse the XML file\n",
    "    tree = ET.parse(file)\n",
    "    root = tree.getroot()\n",
    "    \n",
    "    # Iterate through the XML elements\n",
    "    for element in root.iter():\n",
    "        # Check if the element name contains \"category\"\n",
    "        if 'category' in element.tag:\n",
    "            # Check if the element has a \"text\" attribute\n",
    "            if 'text' in element.attrib:\n",
    "                # Extract and store the data from the \"text\" attribute\n",
    "                text_data = element.attrib['text']\n",
    "                extracted_data.append(text_data)\n",
    "    \n",
    "    return extracted_data"
   ]
  },
  {
   "cell_type": "code",
   "execution_count": 45,
   "id": "559e2d60-297e-42d4-8278-c7853b7128f6",
   "metadata": {},
   "outputs": [
    {
     "data": {
      "text/plain": [
       "(18376,)"
      ]
     },
     "execution_count": 45,
     "metadata": {},
     "output_type": "execute_result"
    }
   ],
   "source": [
    "df['show_filename_prefix'].dropna().unique().shape"
   ]
  },
  {
   "cell_type": "code",
   "execution_count": 49,
   "id": "ae64be04-ad94-47ab-9923-0a59a11e401c",
   "metadata": {},
   "outputs": [
    {
     "name": "stdout",
     "output_type": "stream",
     "text": [
      "Error in file: show_0mPNCwVSQ8ggY3Wo3a4RPy.xml\n",
      "Error in file: show_0mmkBlmEqlEWzMeLGWy4Wy.xml\n",
      "Error in file: show_0deezmILkTBDuYDKucY5mx.xml\n",
      "Error in file: show_0KbQ39FLDGiQkEq1WMcqjV.xml\n",
      "Error in file: show_6zSmRhYdSy1f2yXIZFRlBE.xml\n",
      "Error in file: show_4HQGW7WAjn5QB8F8gd8jE9.xml\n",
      "Error in file: show_3LKjtl2pOvhqsp6GnoGkWi.xml\n",
      "Error in file: show_5h1lw7E7efT5r9LeOkPA7b.xml\n",
      "18378\n",
      "122\n"
     ]
    }
   ],
   "source": [
    "files_found_counter = 0\n",
    "categories = []\n",
    "category_tuple_list = []\n",
    "# Iterate through files in the folder and its subdirectories\n",
    "for root, dirs, files in os.walk(basename):\n",
    "    for filename in files:\n",
    "        # Check if the file is a JSON file\n",
    "        if filename.endswith('.xml'):\n",
    "            # TODO / ISSUE: there are two more xml files found based on the \n",
    "            # metadata file's number of possible shows.\n",
    "            # TODO / ISSUE: there are 8 errors in valid show RSS files.\n",
    "            try:\n",
    "                files_found_counter += 1\n",
    "                file_path = os.path.join(root, filename)\n",
    "                cats = find_category(file_path)\n",
    "                categories.extend(cats)\n",
    "                category_tuple_list.append((filename[:-4], ','.join(cats)))\n",
    "            except:\n",
    "                print(f\"Error in file: {filename}\")\n",
    "print(files_found_counter)\n",
    "print(len(set(categories)))"
   ]
  },
  {
   "cell_type": "code",
   "execution_count": 40,
   "id": "b112c937-a3d2-41ab-a368-b6d0a7f39f05",
   "metadata": {},
   "outputs": [],
   "source": [
    "import matplotlib.pyplot as plt\n",
    "from collections import Counter"
   ]
  },
  {
   "cell_type": "code",
   "execution_count": 41,
   "id": "91c7a4ec-72e4-4eca-92af-625600944eb2",
   "metadata": {},
   "outputs": [],
   "source": [
    "category_counts = Counter(categories)\n",
    "sorted_counts = dict(sorted(category_counts.items(), key=lambda item: item[1], reverse=True)[:5])"
   ]
  },
  {
   "cell_type": "code",
   "execution_count": 44,
   "id": "555f798e-eb05-4434-830e-87aca32e35ad",
   "metadata": {},
   "outputs": [
    {
     "data": {
      "image/png": "[encoded data removed]",
      "text/plain": [
       "<Figure size 640x480 with 1 Axes>"
      ]
     },
     "metadata": {},
     "output_type": "display_data"
    }
   ],
   "source": [
    "values, frequencies = zip(*sorted_counts.items())\n",
    "plt.bar(values, frequencies)\n",
    "\n",
    "# Add labels and title\n",
    "plt.xlabel('Value');\n",
    "plt.ylabel('Frequency');\n",
    "plt.title('Histogram of Top 5 Most Frequent Categories');"
   ]
  },
  {
   "cell_type": "code",
   "execution_count": 50,
   "id": "55ebebac-4baa-4a8a-9385-fee077092f4d",
   "metadata": {},
   "outputs": [
    {
     "data": {
      "text/html": [
       "<div>\n",
       "<style scoped>\n",
       "    .dataframe tbody tr th:only-of-type {\n",
       "        vertical-align: middle;\n",
       "    }\n",
       "\n",
       "    .dataframe tbody tr th {\n",
       "        vertical-align: top;\n",
       "    }\n",
       "\n",
       "    .dataframe thead th {\n",
       "        text-align: right;\n",
       "    }\n",
       "</style>\n",
       "<table border=\"1\" class=\"dataframe\">\n",
       "  <thead>\n",
       "    <tr style=\"text-align: right;\">\n",
       "      <th></th>\n",
       "      <th>show_filename_prefix</th>\n",
       "      <th>category</th>\n",
       "    </tr>\n",
       "  </thead>\n",
       "  <tbody>\n",
       "    <tr>\n",
       "      <th>0</th>\n",
       "      <td>show_0RpgmiJjAk5DHxzABcllYp</td>\n",
       "      <td>Leisure,Games</td>\n",
       "    </tr>\n",
       "    <tr>\n",
       "      <th>1</th>\n",
       "      <td>show_0ruY06AVqTtXm1Rs3bwDtZ</td>\n",
       "      <td>Society &amp; Culture</td>\n",
       "    </tr>\n",
       "    <tr>\n",
       "      <th>2</th>\n",
       "      <td>show_0r4ElWjFWBJRuzH6ooMBvK</td>\n",
       "      <td>Sports,Basketball</td>\n",
       "    </tr>\n",
       "    <tr>\n",
       "      <th>3</th>\n",
       "      <td>show_0R4GSy1q25PM6mttQ3c5Qy</td>\n",
       "      <td>Education,Language Learning</td>\n",
       "    </tr>\n",
       "    <tr>\n",
       "      <th>4</th>\n",
       "      <td>show_0rHf8IEnXNN1w59Uzk4HDF</td>\n",
       "      <td>Religion &amp; Spirituality</td>\n",
       "    </tr>\n",
       "  </tbody>\n",
       "</table>\n",
       "</div>"
      ],
      "text/plain": [
       "          show_filename_prefix                     category\n",
       "0  show_0RpgmiJjAk5DHxzABcllYp                Leisure,Games\n",
       "1  show_0ruY06AVqTtXm1Rs3bwDtZ            Society & Culture\n",
       "2  show_0r4ElWjFWBJRuzH6ooMBvK            Sports,Basketball\n",
       "3  show_0R4GSy1q25PM6mttQ3c5Qy  Education,Language Learning\n",
       "4  show_0rHf8IEnXNN1w59Uzk4HDF      Religion & Spirituality"
      ]
     },
     "execution_count": 50,
     "metadata": {},
     "output_type": "execute_result"
    }
   ],
   "source": [
    "# Create a DataFrame from the list of tuples\n",
    "cats_df = pd.DataFrame(category_tuple_list, columns=['show_filename_prefix', 'category'])\n",
    "cats_df.head()"
   ]
  },
  {
   "cell_type": "code",
   "execution_count": 51,
   "id": "eacbfb26-1e68-462f-b03e-4043c0eaa413",
   "metadata": {},
   "outputs": [
    {
     "name": "stdout",
     "output_type": "stream",
     "text": [
      "(105360, 15)\n",
      "Index(['show_uri', 'show_name', 'show_description', 'publisher', 'language',\n",
      "       'rss_link', 'episode_uri', 'episode_name', 'episode_description',\n",
      "       'duration', 'show_filename_prefix', 'episode_filename_prefix',\n",
      "       'first_dir', 'second_dir', 'category'],\n",
      "      dtype='object')\n"
     ]
    },
    {
     "data": {
      "text/html": [
       "<div>\n",
       "<style scoped>\n",
       "    .dataframe tbody tr th:only-of-type {\n",
       "        vertical-align: middle;\n",
       "    }\n",
       "\n",
       "    .dataframe tbody tr th {\n",
       "        vertical-align: top;\n",
       "    }\n",
       "\n",
       "    .dataframe thead th {\n",
       "        text-align: right;\n",
       "    }\n",
       "</style>\n",
       "<table border=\"1\" class=\"dataframe\">\n",
       "  <thead>\n",
       "    <tr style=\"text-align: right;\">\n",
       "      <th></th>\n",
       "      <th>show_uri</th>\n",
       "      <th>show_name</th>\n",
       "      <th>show_description</th>\n",
       "      <th>publisher</th>\n",
       "      <th>language</th>\n",
       "      <th>rss_link</th>\n",
       "      <th>episode_uri</th>\n",
       "      <th>episode_name</th>\n",
       "      <th>episode_description</th>\n",
       "      <th>duration</th>\n",
       "      <th>show_filename_prefix</th>\n",
       "      <th>episode_filename_prefix</th>\n",
       "      <th>first_dir</th>\n",
       "      <th>second_dir</th>\n",
       "      <th>category</th>\n",
       "    </tr>\n",
       "  </thead>\n",
       "  <tbody>\n",
       "    <tr>\n",
       "      <th>77494</th>\n",
       "      <td>spotify:show:4Gtc4ccgCF8xySTleFp3HF</td>\n",
       "      <td>Anything and Everything</td>\n",
       "      <td>It’s ya boi Nathan making a podcast where I ch...</td>\n",
       "      <td>Nathan Ortiz</td>\n",
       "      <td>['en']</td>\n",
       "      <td>https://anchor.fm/s/12c31ce0/podcast/rss</td>\n",
       "      <td>spotify:episode:5hsL9wnnzX83q5Qn5XuEMu</td>\n",
       "      <td>Me and my Vietnam war friend Don Vu</td>\n",
       "      <td>Nathan and Don y’all about wizards, government...</td>\n",
       "      <td>49.663233</td>\n",
       "      <td>show_4Gtc4ccgCF8xySTleFp3HF</td>\n",
       "      <td>5hsL9wnnzX83q5Qn5XuEMu</td>\n",
       "      <td>4</td>\n",
       "      <td>G</td>\n",
       "      <td>Comedy,Comedy Interviews</td>\n",
       "    </tr>\n",
       "    <tr>\n",
       "      <th>84259</th>\n",
       "      <td>spotify:show:4Gtc4ccgCF8xySTleFp3HF</td>\n",
       "      <td>Anything and Everything</td>\n",
       "      <td>It’s ya boi Nathan making a podcast where I ch...</td>\n",
       "      <td>Nathan Ortiz</td>\n",
       "      <td>['en']</td>\n",
       "      <td>https://anchor.fm/s/12c31ce0/podcast/rss</td>\n",
       "      <td>spotify:episode:6Df5bnlC2Ns06W2HK4qJmu</td>\n",
       "      <td>nathan &amp; don talk about ghosts and homeless wo...</td>\n",
       "      <td>just a fun little conversation today with our ...</td>\n",
       "      <td>27.888717</td>\n",
       "      <td>show_4Gtc4ccgCF8xySTleFp3HF</td>\n",
       "      <td>6Df5bnlC2Ns06W2HK4qJmu</td>\n",
       "      <td>4</td>\n",
       "      <td>G</td>\n",
       "      <td>Comedy,Comedy Interviews</td>\n",
       "    </tr>\n",
       "    <tr>\n",
       "      <th>93757</th>\n",
       "      <td>spotify:show:4Gtc4ccgCF8xySTleFp3HF</td>\n",
       "      <td>Anything and Everything</td>\n",
       "      <td>It’s ya boi Nathan making a podcast where I ch...</td>\n",
       "      <td>Nathan Ortiz</td>\n",
       "      <td>['en']</td>\n",
       "      <td>https://anchor.fm/s/12c31ce0/podcast/rss</td>\n",
       "      <td>spotify:episode:6vRd118V8up2pvqsvM4IMF</td>\n",
       "      <td>nathan &amp; don speak about random things w/ a sa...</td>\n",
       "      <td>three friends catch up &amp; dive into some topics...</td>\n",
       "      <td>30.074483</td>\n",
       "      <td>show_4Gtc4ccgCF8xySTleFp3HF</td>\n",
       "      <td>6vRd118V8up2pvqsvM4IMF</td>\n",
       "      <td>4</td>\n",
       "      <td>G</td>\n",
       "      <td>Comedy,Comedy Interviews</td>\n",
       "    </tr>\n",
       "  </tbody>\n",
       "</table>\n",
       "</div>"
      ],
      "text/plain": [
       "                                  show_uri                 show_name  \\\n",
       "77494  spotify:show:4Gtc4ccgCF8xySTleFp3HF  Anything and Everything    \n",
       "84259  spotify:show:4Gtc4ccgCF8xySTleFp3HF  Anything and Everything    \n",
       "93757  spotify:show:4Gtc4ccgCF8xySTleFp3HF  Anything and Everything    \n",
       "\n",
       "                                        show_description     publisher  \\\n",
       "77494  It’s ya boi Nathan making a podcast where I ch...  Nathan Ortiz   \n",
       "84259  It’s ya boi Nathan making a podcast where I ch...  Nathan Ortiz   \n",
       "93757  It’s ya boi Nathan making a podcast where I ch...  Nathan Ortiz   \n",
       "\n",
       "      language                                  rss_link  \\\n",
       "77494   ['en']  https://anchor.fm/s/12c31ce0/podcast/rss   \n",
       "84259   ['en']  https://anchor.fm/s/12c31ce0/podcast/rss   \n",
       "93757   ['en']  https://anchor.fm/s/12c31ce0/podcast/rss   \n",
       "\n",
       "                                  episode_uri  \\\n",
       "77494  spotify:episode:5hsL9wnnzX83q5Qn5XuEMu   \n",
       "84259  spotify:episode:6Df5bnlC2Ns06W2HK4qJmu   \n",
       "93757  spotify:episode:6vRd118V8up2pvqsvM4IMF   \n",
       "\n",
       "                                            episode_name  \\\n",
       "77494                Me and my Vietnam war friend Don Vu   \n",
       "84259  nathan & don talk about ghosts and homeless wo...   \n",
       "93757  nathan & don speak about random things w/ a sa...   \n",
       "\n",
       "                                     episode_description   duration  \\\n",
       "77494  Nathan and Don y’all about wizards, government...  49.663233   \n",
       "84259  just a fun little conversation today with our ...  27.888717   \n",
       "93757  three friends catch up & dive into some topics...  30.074483   \n",
       "\n",
       "              show_filename_prefix episode_filename_prefix first_dir  \\\n",
       "77494  show_4Gtc4ccgCF8xySTleFp3HF  5hsL9wnnzX83q5Qn5XuEMu         4   \n",
       "84259  show_4Gtc4ccgCF8xySTleFp3HF  6Df5bnlC2Ns06W2HK4qJmu         4   \n",
       "93757  show_4Gtc4ccgCF8xySTleFp3HF  6vRd118V8up2pvqsvM4IMF         4   \n",
       "\n",
       "      second_dir                  category  \n",
       "77494          G  Comedy,Comedy Interviews  \n",
       "84259          G  Comedy,Comedy Interviews  \n",
       "93757          G  Comedy,Comedy Interviews  "
      ]
     },
     "execution_count": 51,
     "metadata": {},
     "output_type": "execute_result"
    }
   ],
   "source": [
    "merged_df = df.merge(cats_df, on='show_filename_prefix', how='left')\n",
    "print(merged_df.shape)\n",
    "print(merged_df.columns)\n",
    "merged_df[merged_df['show_filename_prefix']=='show_4Gtc4ccgCF8xySTleFp3HF']"
   ]
  },
  {
   "cell_type": "code",
   "execution_count": 64,
   "id": "136df0b6-e734-4e30-8614-2108bfe890d6",
   "metadata": {},
   "outputs": [
    {
     "data": {
      "text/plain": [
       "51"
      ]
     },
     "execution_count": 64,
     "metadata": {},
     "output_type": "execute_result"
    }
   ],
   "source": [
    "# TODO: Why are there 51?  is this the number of episodes in the \n",
    "# 8 shows where there were issues finding category?\n",
    "merged_df['category'].isna().sum()"
   ]
  },
  {
   "cell_type": "code",
   "execution_count": 52,
   "id": "03a0ad4a-9d69-4104-a84b-2082fb46ea21",
   "metadata": {},
   "outputs": [
    {
     "data": {
      "text/html": [
       "<div>\n",
       "<style scoped>\n",
       "    .dataframe tbody tr th:only-of-type {\n",
       "        vertical-align: middle;\n",
       "    }\n",
       "\n",
       "    .dataframe tbody tr th {\n",
       "        vertical-align: top;\n",
       "    }\n",
       "\n",
       "    .dataframe thead th {\n",
       "        text-align: right;\n",
       "    }\n",
       "</style>\n",
       "<table border=\"1\" class=\"dataframe\">\n",
       "  <thead>\n",
       "    <tr style=\"text-align: right;\">\n",
       "      <th></th>\n",
       "      <th>show_uri</th>\n",
       "      <th>show_name</th>\n",
       "      <th>show_description</th>\n",
       "      <th>publisher</th>\n",
       "      <th>language</th>\n",
       "      <th>rss_link</th>\n",
       "      <th>episode_uri</th>\n",
       "      <th>episode_name</th>\n",
       "      <th>episode_description</th>\n",
       "      <th>duration</th>\n",
       "      <th>show_filename_prefix</th>\n",
       "      <th>episode_filename_prefix</th>\n",
       "      <th>first_dir</th>\n",
       "      <th>second_dir</th>\n",
       "      <th>category</th>\n",
       "    </tr>\n",
       "  </thead>\n",
       "  <tbody>\n",
       "    <tr>\n",
       "      <th>0</th>\n",
       "      <td>spotify:show:2NYtxEZyYelR6RMKmjfPLB</td>\n",
       "      <td>Kream in your Koffee</td>\n",
       "      <td>A 20-something blunt female takes on the world...</td>\n",
       "      <td>Katie Houle</td>\n",
       "      <td>['en']</td>\n",
       "      <td>https://anchor.fm/s/11b84b68/podcast/rss</td>\n",
       "      <td>spotify:episode:000A9sRBYdVh66csG2qEdj</td>\n",
       "      <td>1: It’s Christmas Time!</td>\n",
       "      <td>On the first ever episode of Kream in your Kof...</td>\n",
       "      <td>12.700133</td>\n",
       "      <td>show_2NYtxEZyYelR6RMKmjfPLB</td>\n",
       "      <td>000A9sRBYdVh66csG2qEdj</td>\n",
       "      <td>2</td>\n",
       "      <td>N</td>\n",
       "      <td>Leisure</td>\n",
       "    </tr>\n",
       "    <tr>\n",
       "      <th>1</th>\n",
       "      <td>spotify:show:15iWCbU7QoO23EndPEO6aN</td>\n",
       "      <td>Morning Cup Of Murder</td>\n",
       "      <td>Ever wonder what murder took place on today in...</td>\n",
       "      <td>Morning Cup Of Murder</td>\n",
       "      <td>['en']</td>\n",
       "      <td>https://anchor.fm/s/b07181c/podcast/rss</td>\n",
       "      <td>spotify:episode:000HP8n3hNIfglT2wSI2cA</td>\n",
       "      <td>The Goleta Postal Facility shootings- January ...</td>\n",
       "      <td>See something, say something. It’s a mantra ma...</td>\n",
       "      <td>6.019383</td>\n",
       "      <td>show_15iWCbU7QoO23EndPEO6aN</td>\n",
       "      <td>000HP8n3hNIfglT2wSI2cA</td>\n",
       "      <td>1</td>\n",
       "      <td>5</td>\n",
       "      <td>True Crime</td>\n",
       "    </tr>\n",
       "    <tr>\n",
       "      <th>2</th>\n",
       "      <td>spotify:show:6vZRgUFTYwbAA79UNCADr4</td>\n",
       "      <td>Inside The 18 : A Podcast for Goalkeepers by G...</td>\n",
       "      <td>Inside the 18 is your source for all things Go...</td>\n",
       "      <td>Inside the 18 GK Media</td>\n",
       "      <td>['en']</td>\n",
       "      <td>https://anchor.fm/s/81a072c/podcast/rss</td>\n",
       "      <td>spotify:episode:001UfOruzkA3Bn1SPjcdfa</td>\n",
       "      <td>Ep.36 - Incorporating a Singular Goalkeeping C...</td>\n",
       "      <td>Today’s episode is a sit down Michael and Omar...</td>\n",
       "      <td>43.616333</td>\n",
       "      <td>show_6vZRgUFTYwbAA79UNCADr4</td>\n",
       "      <td>001UfOruzkA3Bn1SPjcdfa</td>\n",
       "      <td>6</td>\n",
       "      <td>v</td>\n",
       "      <td>Sports,Soccer</td>\n",
       "    </tr>\n",
       "    <tr>\n",
       "      <th>3</th>\n",
       "      <td>spotify:show:5BvKEjaMSuvUsGROGi2S7s</td>\n",
       "      <td>Arrowhead Live!</td>\n",
       "      <td>Your favorite podcast for everything @Chiefs! ...</td>\n",
       "      <td>Arrowhead Live!</td>\n",
       "      <td>['en-US']</td>\n",
       "      <td>https://anchor.fm/s/917dba4/podcast/rss</td>\n",
       "      <td>spotify:episode:001i89SvIQgDuuyC53hfBm</td>\n",
       "      <td>Episode 1: Arrowhead Live! Debut</td>\n",
       "      <td>Join us as we take a look at all current Chief...</td>\n",
       "      <td>58.189200</td>\n",
       "      <td>show_5BvKEjaMSuvUsGROGi2S7s</td>\n",
       "      <td>001i89SvIQgDuuyC53hfBm</td>\n",
       "      <td>5</td>\n",
       "      <td>B</td>\n",
       "      <td>Sports</td>\n",
       "    </tr>\n",
       "    <tr>\n",
       "      <th>4</th>\n",
       "      <td>spotify:show:7w3h3umpH74veEJcbE6xf4</td>\n",
       "      <td>FBoL</td>\n",
       "      <td>The comedy podcast about toxic characters, wri...</td>\n",
       "      <td>Emily Edwards</td>\n",
       "      <td>['en']</td>\n",
       "      <td>https://www.fuckboisoflit.com/episodes?format=rss</td>\n",
       "      <td>spotify:episode:0025RWNwe2lnp6HcnfzwzG</td>\n",
       "      <td>The Lion, The Witch, And The Wardrobe - Ashley...</td>\n",
       "      <td>The modern morality tail of how to stay good f...</td>\n",
       "      <td>51.782050</td>\n",
       "      <td>show_7w3h3umpH74veEJcbE6xf4</td>\n",
       "      <td>0025RWNwe2lnp6HcnfzwzG</td>\n",
       "      <td>7</td>\n",
       "      <td>w</td>\n",
       "      <td>Arts,Books</td>\n",
       "    </tr>\n",
       "  </tbody>\n",
       "</table>\n",
       "</div>"
      ],
      "text/plain": [
       "                              show_uri  \\\n",
       "0  spotify:show:2NYtxEZyYelR6RMKmjfPLB   \n",
       "1  spotify:show:15iWCbU7QoO23EndPEO6aN   \n",
       "2  spotify:show:6vZRgUFTYwbAA79UNCADr4   \n",
       "3  spotify:show:5BvKEjaMSuvUsGROGi2S7s   \n",
       "4  spotify:show:7w3h3umpH74veEJcbE6xf4   \n",
       "\n",
       "                                           show_name  \\\n",
       "0                               Kream in your Koffee   \n",
       "1                              Morning Cup Of Murder   \n",
       "2  Inside The 18 : A Podcast for Goalkeepers by G...   \n",
       "3                                    Arrowhead Live!   \n",
       "4                                              FBoL    \n",
       "\n",
       "                                    show_description               publisher  \\\n",
       "0  A 20-something blunt female takes on the world...             Katie Houle   \n",
       "1  Ever wonder what murder took place on today in...   Morning Cup Of Murder   \n",
       "2  Inside the 18 is your source for all things Go...  Inside the 18 GK Media   \n",
       "3  Your favorite podcast for everything @Chiefs! ...         Arrowhead Live!   \n",
       "4  The comedy podcast about toxic characters, wri...           Emily Edwards   \n",
       "\n",
       "    language                                           rss_link  \\\n",
       "0     ['en']           https://anchor.fm/s/11b84b68/podcast/rss   \n",
       "1     ['en']            https://anchor.fm/s/b07181c/podcast/rss   \n",
       "2     ['en']            https://anchor.fm/s/81a072c/podcast/rss   \n",
       "3  ['en-US']            https://anchor.fm/s/917dba4/podcast/rss   \n",
       "4     ['en']  https://www.fuckboisoflit.com/episodes?format=rss   \n",
       "\n",
       "                              episode_uri  \\\n",
       "0  spotify:episode:000A9sRBYdVh66csG2qEdj   \n",
       "1  spotify:episode:000HP8n3hNIfglT2wSI2cA   \n",
       "2  spotify:episode:001UfOruzkA3Bn1SPjcdfa   \n",
       "3  spotify:episode:001i89SvIQgDuuyC53hfBm   \n",
       "4  spotify:episode:0025RWNwe2lnp6HcnfzwzG   \n",
       "\n",
       "                                        episode_name  \\\n",
       "0                            1: It’s Christmas Time!   \n",
       "1  The Goleta Postal Facility shootings- January ...   \n",
       "2  Ep.36 - Incorporating a Singular Goalkeeping C...   \n",
       "3                   Episode 1: Arrowhead Live! Debut   \n",
       "4  The Lion, The Witch, And The Wardrobe - Ashley...   \n",
       "\n",
       "                                 episode_description   duration  \\\n",
       "0  On the first ever episode of Kream in your Kof...  12.700133   \n",
       "1  See something, say something. It’s a mantra ma...   6.019383   \n",
       "2  Today’s episode is a sit down Michael and Omar...  43.616333   \n",
       "3  Join us as we take a look at all current Chief...  58.189200   \n",
       "4  The modern morality tail of how to stay good f...  51.782050   \n",
       "\n",
       "          show_filename_prefix episode_filename_prefix first_dir second_dir  \\\n",
       "0  show_2NYtxEZyYelR6RMKmjfPLB  000A9sRBYdVh66csG2qEdj         2          N   \n",
       "1  show_15iWCbU7QoO23EndPEO6aN  000HP8n3hNIfglT2wSI2cA         1          5   \n",
       "2  show_6vZRgUFTYwbAA79UNCADr4  001UfOruzkA3Bn1SPjcdfa         6          v   \n",
       "3  show_5BvKEjaMSuvUsGROGi2S7s  001i89SvIQgDuuyC53hfBm         5          B   \n",
       "4  show_7w3h3umpH74veEJcbE6xf4  0025RWNwe2lnp6HcnfzwzG         7          w   \n",
       "\n",
       "        category  \n",
       "0        Leisure  \n",
       "1     True Crime  \n",
       "2  Sports,Soccer  \n",
       "3         Sports  \n",
       "4     Arts,Books  "
      ]
     },
     "execution_count": 52,
     "metadata": {},
     "output_type": "execute_result"
    }
   ],
   "source": [
    "merged_df.head()"
   ]
  },
  {
   "cell_type": "code",
   "execution_count": 53,
   "id": "25dd4602-bc37-48ee-a357-c540706a3375",
   "metadata": {},
   "outputs": [
    {
     "name": "stdout",
     "output_type": "stream",
     "text": [
      "Merged DataFrame saved as metadata_with_podcast_category.tsv\n"
     ]
    }
   ],
   "source": [
    "# Save the DataFrame as a TSV file\n",
    "file_path = 'metadata_with_podcast_category.tsv'\n",
    "merged_df.to_csv(file_path, sep='\\t', index=False)\n",
    "\n",
    "print(f\"Merged DataFrame saved as {file_path}\")"
   ]
  },
  {
   "cell_type": "code",
   "execution_count": 58,
   "id": "7d4cf266-804d-4ee0-9b9f-ba30a2053400",
   "metadata": {},
   "outputs": [
    {
     "name": "stdout",
     "output_type": "stream",
     "text": [
      "(105360, 15)\n",
      "Index(['show_uri', 'show_name', 'show_description', 'publisher', 'language',\n",
      "       'rss_link', 'episode_uri', 'episode_name', 'episode_description',\n",
      "       'duration', 'show_filename_prefix', 'episode_filename_prefix',\n",
      "       'first_dir', 'second_dir', 'category'],\n",
      "      dtype='object')\n"
     ]
    }
   ],
   "source": [
    "new_df = pd.read_csv('../podcasts-no-audio-13GB-selected/metadata_with_podcast_category.tsv', sep='\\t')\n",
    "print(new_df.shape)\n",
    "print(new_df.columns)"
   ]
  },
  {
   "cell_type": "code",
   "execution_count": 63,
   "id": "2aefbc3c-ea73-4550-a71f-7a6d870e5dd1",
   "metadata": {},
   "outputs": [
    {
     "data": {
      "text/plain": [
       "92"
      ]
     },
     "execution_count": 63,
     "metadata": {},
     "output_type": "execute_result"
    }
   ],
   "source": [
    "#TODO: there is an issue where there are more NaNs \n",
    "# in the tsv than in the merged_df above.\n",
    "new_df['category'].isna().sum()"
   ]
  }
 ],
 "metadata": {
  "kernelspec": {
   "display_name": "mldev",
   "language": "python",
   "name": "mldev"
  },
  "language_info": {
   "codemirror_mode": {
    "name": "ipython",
    "version": 3
   },
   "file_extension": ".py",
   "mimetype": "text/x-python",
   "name": "python",
   "nbconvert_exporter": "python",
   "pygments_lexer": "ipython3",
   "version": "3.9.7"
  }
 },
 "nbformat": 4,
 "nbformat_minor": 5
}
