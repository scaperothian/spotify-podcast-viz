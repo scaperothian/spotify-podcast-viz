{
 "cells": [
  {
   "cell_type": "markdown",
   "id": "86d4229d-f36d-4bc1-98b5-0443a10b81b0",
   "metadata": {},
   "source": [
    "# Spotify Podcast Dataset\n",
    "\n",
    "RSS Part 3:  RSS Podcast Category Merge with Metadata.tsv \n",
    "\n",
    "Goal:  merge with metadata.tsv\n",
    "- add category to every row\n",
    "- add first and second director respectively to make apply functions more automated when needed.\n",
    "\n",
    "Secondary Goal: create another metadata file that is for categories only - categories_metadata.tsv, which is focused on the expanded list of categories."
   ]
  },
  {
   "cell_type": "code",
   "execution_count": 1,
   "id": "c39d36d1-1e56-4cc2-8dde-dd0c316c05fc",
   "metadata": {},
   "outputs": [
    {
     "name": "stdout",
     "output_type": "stream",
     "text": [
      "Intel MKL WARNING: Support of Intel(R) Streaming SIMD Extensions 4.2 (Intel(R) SSE4.2) enabled only processors has been deprecated. Intel oneAPI Math Kernel Library 2025.0 will require Intel(R) Advanced Vector Extensions (Intel(R) AVX) instructions.\n",
      "Intel MKL WARNING: Support of Intel(R) Streaming SIMD Extensions 4.2 (Intel(R) SSE4.2) enabled only processors has been deprecated. Intel oneAPI Math Kernel Library 2025.0 will require Intel(R) Advanced Vector Extensions (Intel(R) AVX) instructions.\n"
     ]
    }
   ],
   "source": [
    "import pandas as pd\n",
    "import numpy as np\n",
    "import os\n",
    "import xml.etree.ElementTree as ET\n",
    "\n",
    "import matplotlib.pyplot as plt\n",
    "from collections import Counter\n",
    "plt.rcParams['figure.figsize'] = [5, 5]\n"
   ]
  },
  {
   "cell_type": "markdown",
   "id": "595f81e8-0457-4545-a45a-9f8dd0c3c1be",
   "metadata": {},
   "source": [
    "## Read metadata from Spotify"
   ]
  },
  {
   "cell_type": "code",
   "execution_count": 2,
   "id": "e2e277eb-aeff-4e30-8685-c9588f71ba03",
   "metadata": {},
   "outputs": [],
   "source": [
    "df = pd.read_csv('../podcasts-no-audio-13GB-selected/metadata.tsv', sep='\\t')"
   ]
  },
  {
   "cell_type": "code",
   "execution_count": 3,
   "id": "a6622eb4-7e81-4445-99d3-176b00a418c1",
   "metadata": {},
   "outputs": [],
   "source": [
    "basename = '../podcasts-no-audio-13GB-selected/spotify-podcasts-2020/show-rss/'"
   ]
  },
  {
   "cell_type": "code",
   "execution_count": null,
   "id": "d3a5a8d7-4747-4df1-bdbd-f906b760202f",
   "metadata": {},
   "outputs": [],
   "source": [
    "# Locations of episodes are based on two levels of folders: \n",
    "#    first_folder/second_folder/show/episode_metadata.json\n",
    "# To figure out the first_folder and second_folder by looking at \n",
    "# the first two characters in the show_uri column.\n",
    "\n",
    "# Then you can extract the transcripts...\n",
    "\n",
    "df['first_dir'] = df['show_uri'].str.extract(r'spotify:show:(\\w{1})')[0]\n",
    "df['second_dir'] = df['show_uri'].str.extract(r'spotify:show:\\w{1}(\\w{1})')[0]"
   ]
  },
  {
   "cell_type": "code",
   "execution_count": 4,
   "id": "c22a4817-1681-492d-a3bd-d94cc29b45e6",
   "metadata": {},
   "outputs": [],
   "source": [
    "# Locations of episodes are based on two levels of folders: \n",
    "#    first_folder/second_folder/show/episode_metadata.json\n",
    "# To figure out the first_folder and second_folder by looking at \n",
    "# the first two characters in the show_uri column.\n",
    "\n",
    "# Then you can extract the transcripts...\n",
    "\n",
    "df['first_dir'] = df['show_uri'].str.extract(r'spotify:show:(\\w{1})')[0]\n",
    "df['second_dir'] = df['show_uri'].str.extract(r'spotify:show:\\w{1}(\\w{1})')[0]"
   ]
  },
  {
   "cell_type": "markdown",
   "id": "d3652d68-a5a7-4609-971e-e951a4471ca8",
   "metadata": {},
   "source": [
    "## Extract the RSS category metadata of a show."
   ]
  },
  {
   "cell_type": "code",
   "execution_count": 5,
   "id": "559e2d60-297e-42d4-8278-c7853b7128f6",
   "metadata": {},
   "outputs": [
    {
     "name": "stdout",
     "output_type": "stream",
     "text": [
      "Searching for 18376 Shows.\n"
     ]
    }
   ],
   "source": [
    "print(f\"Searching for {df['show_filename_prefix'].unique().shape[0]} Shows.\")"
   ]
  },
  {
   "cell_type": "code",
   "execution_count": 6,
   "id": "33b7ef32-7966-4896-a07a-1c2fa65d6010",
   "metadata": {},
   "outputs": [],
   "source": [
    "import xml.etree.ElementTree as ET\n",
    "\n",
    "def find_category(file):\n",
    "    \"\"\"\n",
    "    find_category - attempts to look for the the first itunes:category \n",
    "                    tag in the RSS file.  \n",
    "    returns \n",
    "    \"\"\"    \n",
    "    extracted_tags = []\n",
    "    \n",
    "    # Parse the XML file\n",
    "    tree = ET.parse(file)\n",
    "    root = tree.getroot()\n",
    "    \n",
    "    # Iterate through the XML elements\n",
    "    for element in root.iter():\n",
    "        # Check if the element name contains \"category\"\n",
    "        if 'category' in element.tag:\n",
    "            # Check if the element has a \"text\" attribute\n",
    "            if 'text' in element.attrib:\n",
    "                # Extract and store the data from the \"text\" attribute\n",
    "                text_data = element.attrib['text']\n",
    "                extracted_tags.append(text_data)\n",
    "    return extracted_tags\n"
   ]
  },
  {
   "cell_type": "code",
   "execution_count": 7,
   "id": "ae64be04-ad94-47ab-9923-0a59a11e401c",
   "metadata": {},
   "outputs": [
    {
     "name": "stdout",
     "output_type": "stream",
     "text": [
      "18376 Files Found.\n",
      "122 Unique Categories and Sub-categories.\n",
      "8 files had errors while reading (see error_list).\n",
      "8 files had no tags (see notag_list).\n"
     ]
    }
   ],
   "source": [
    "files_found_counter = 0\n",
    "\n",
    "# This list will be appended directly to the primary dataframe \n",
    "# directly as a list.  It will follow a similar format as the \n",
    "# language column.\n",
    "#\n",
    "# The tuple is meant to preserve the filename with the category.\n",
    "# first element is filename, second element is the category list.\n",
    "category_tuple_list = []\n",
    "\n",
    "# This list is an expanded version.  in stead of aggregating \n",
    "# the categories with one show.  the show is repeated for each\n",
    "# category.  Nice for playing around with categories in general.\n",
    "# But important to remember to understand that merging it with \n",
    "# the primary data frame would mean there are now more rows \n",
    "# and the rows no longer can be interpreted as the number of \n",
    "# episodes for example.\n",
    "#\n",
    "# The tuple is meant to preserve the filename with the category.\n",
    "# first element is filename, second element is the category.\n",
    "expanded_category_tuple_list = []\n",
    "\n",
    "error_list = []\n",
    "notag_list = []\n",
    "# Iterate through files in the folder and its subdirectories\n",
    "for root, dirs, files in os.walk(basename):\n",
    "    for filename in files:\n",
    "        # Check if the file is a JSON file\n",
    "        if filename.endswith('.xml'):\n",
    "            # TODO / ISSUE: there are two more xml files found based on the \n",
    "            # metadata file's number of possible shows.\n",
    "            # TODO / ISSUE: there are 8 errors in valid show RSS files.\n",
    "            try:\n",
    "                files_found_counter += 1\n",
    "                file_path = os.path.join(root, filename)\n",
    "                cats = find_category(file_path)\n",
    "                \n",
    "                # check and see if its empty\n",
    "                if cats:\n",
    "                    for cat in cats: \n",
    "                        expanded_category_tuple_list.append((filename[:-4], cat))\n",
    "                    category_tuple_list.append((filename[:-4], cats))\n",
    "                else:\n",
    "                    notag_list.append(filename[:-4])\n",
    "            except Exception as e:\n",
    "                #print(f\"Error reading file: {filename}.\\n{e}\")\n",
    "                error_list.append(filename[:-4])\n",
    "\n",
    "categories = [c for s,c in expanded_category_tuple_list]                \n",
    "print(f\"{files_found_counter} Files Found.\")\n",
    "print(f\"{len(set(categories))} Unique Categories and Sub-categories.\")\n",
    "print(f\"{len(error_list)} files had errors while reading (see error_list).\")\n",
    "print(f\"{len(notag_list)} files had no tags (see notag_list).\")"
   ]
  },
  {
   "cell_type": "markdown",
   "id": "a0f0f3c3-b2fb-40bf-a072-ab265593d726",
   "metadata": {
    "jp-MarkdownHeadingCollapsed": true
   },
   "source": [
    "## Save a metadata.tsv with categories"
   ]
  },
  {
   "cell_type": "code",
   "execution_count": 8,
   "id": "55ebebac-4baa-4a8a-9385-fee077092f4d",
   "metadata": {},
   "outputs": [
    {
     "name": "stdout",
     "output_type": "stream",
     "text": [
      "(18360, 2)\n"
     ]
    },
    {
     "data": {
      "text/html": [
       "<div>\n",
       "<style scoped>\n",
       "    .dataframe tbody tr th:only-of-type {\n",
       "        vertical-align: middle;\n",
       "    }\n",
       "\n",
       "    .dataframe tbody tr th {\n",
       "        vertical-align: top;\n",
       "    }\n",
       "\n",
       "    .dataframe thead th {\n",
       "        text-align: right;\n",
       "    }\n",
       "</style>\n",
       "<table border=\"1\" class=\"dataframe\">\n",
       "  <thead>\n",
       "    <tr style=\"text-align: right;\">\n",
       "      <th></th>\n",
       "      <th>show_filename_prefix</th>\n",
       "      <th>category</th>\n",
       "    </tr>\n",
       "  </thead>\n",
       "  <tbody>\n",
       "    <tr>\n",
       "      <th>0</th>\n",
       "      <td>show_0RpgmiJjAk5DHxzABcllYp</td>\n",
       "      <td>[Leisure, Games]</td>\n",
       "    </tr>\n",
       "    <tr>\n",
       "      <th>1</th>\n",
       "      <td>show_0ruY06AVqTtXm1Rs3bwDtZ</td>\n",
       "      <td>[Society &amp; Culture]</td>\n",
       "    </tr>\n",
       "  </tbody>\n",
       "</table>\n",
       "</div>"
      ],
      "text/plain": [
       "          show_filename_prefix             category\n",
       "0  show_0RpgmiJjAk5DHxzABcllYp     [Leisure, Games]\n",
       "1  show_0ruY06AVqTtXm1Rs3bwDtZ  [Society & Culture]"
      ]
     },
     "execution_count": 8,
     "metadata": {},
     "output_type": "execute_result"
    }
   ],
   "source": [
    "# Create a DataFrame from the list of tuples\n",
    "cats_df = pd.DataFrame(category_tuple_list, columns=['show_filename_prefix', 'category'])\n",
    "print(cats_df.shape)\n",
    "cats_df.head(2)"
   ]
  },
  {
   "cell_type": "code",
   "execution_count": 9,
   "id": "eacbfb26-1e68-462f-b03e-4043c0eaa413",
   "metadata": {},
   "outputs": [
    {
     "name": "stdout",
     "output_type": "stream",
     "text": [
      "(105360, 15)\n",
      "show_uri                     0\n",
      "show_name                    0\n",
      "show_description             2\n",
      "publisher                    0\n",
      "language                     0\n",
      "rss_link                     0\n",
      "episode_uri                  0\n",
      "episode_name                 0\n",
      "episode_description        205\n",
      "duration                     0\n",
      "show_filename_prefix         0\n",
      "episode_filename_prefix      0\n",
      "first_dir                    0\n",
      "second_dir                   0\n",
      "category                    92\n",
      "dtype: int64\n"
     ]
    },
    {
     "data": {
      "text/html": [
       "<div>\n",
       "<style scoped>\n",
       "    .dataframe tbody tr th:only-of-type {\n",
       "        vertical-align: middle;\n",
       "    }\n",
       "\n",
       "    .dataframe tbody tr th {\n",
       "        vertical-align: top;\n",
       "    }\n",
       "\n",
       "    .dataframe thead th {\n",
       "        text-align: right;\n",
       "    }\n",
       "</style>\n",
       "<table border=\"1\" class=\"dataframe\">\n",
       "  <thead>\n",
       "    <tr style=\"text-align: right;\">\n",
       "      <th></th>\n",
       "      <th>show_uri</th>\n",
       "      <th>show_name</th>\n",
       "      <th>show_description</th>\n",
       "      <th>publisher</th>\n",
       "      <th>language</th>\n",
       "      <th>rss_link</th>\n",
       "      <th>episode_uri</th>\n",
       "      <th>episode_name</th>\n",
       "      <th>episode_description</th>\n",
       "      <th>duration</th>\n",
       "      <th>show_filename_prefix</th>\n",
       "      <th>episode_filename_prefix</th>\n",
       "      <th>first_dir</th>\n",
       "      <th>second_dir</th>\n",
       "      <th>category</th>\n",
       "    </tr>\n",
       "  </thead>\n",
       "  <tbody>\n",
       "    <tr>\n",
       "      <th>77494</th>\n",
       "      <td>spotify:show:4Gtc4ccgCF8xySTleFp3HF</td>\n",
       "      <td>Anything and Everything</td>\n",
       "      <td>It’s ya boi Nathan making a podcast where I ch...</td>\n",
       "      <td>Nathan Ortiz</td>\n",
       "      <td>['en']</td>\n",
       "      <td>https://anchor.fm/s/12c31ce0/podcast/rss</td>\n",
       "      <td>spotify:episode:5hsL9wnnzX83q5Qn5XuEMu</td>\n",
       "      <td>Me and my Vietnam war friend Don Vu</td>\n",
       "      <td>Nathan and Don y’all about wizards, government...</td>\n",
       "      <td>49.663233</td>\n",
       "      <td>show_4Gtc4ccgCF8xySTleFp3HF</td>\n",
       "      <td>5hsL9wnnzX83q5Qn5XuEMu</td>\n",
       "      <td>4</td>\n",
       "      <td>G</td>\n",
       "      <td>[Comedy, Comedy Interviews]</td>\n",
       "    </tr>\n",
       "    <tr>\n",
       "      <th>84259</th>\n",
       "      <td>spotify:show:4Gtc4ccgCF8xySTleFp3HF</td>\n",
       "      <td>Anything and Everything</td>\n",
       "      <td>It’s ya boi Nathan making a podcast where I ch...</td>\n",
       "      <td>Nathan Ortiz</td>\n",
       "      <td>['en']</td>\n",
       "      <td>https://anchor.fm/s/12c31ce0/podcast/rss</td>\n",
       "      <td>spotify:episode:6Df5bnlC2Ns06W2HK4qJmu</td>\n",
       "      <td>nathan &amp; don talk about ghosts and homeless wo...</td>\n",
       "      <td>just a fun little conversation today with our ...</td>\n",
       "      <td>27.888717</td>\n",
       "      <td>show_4Gtc4ccgCF8xySTleFp3HF</td>\n",
       "      <td>6Df5bnlC2Ns06W2HK4qJmu</td>\n",
       "      <td>4</td>\n",
       "      <td>G</td>\n",
       "      <td>[Comedy, Comedy Interviews]</td>\n",
       "    </tr>\n",
       "    <tr>\n",
       "      <th>93757</th>\n",
       "      <td>spotify:show:4Gtc4ccgCF8xySTleFp3HF</td>\n",
       "      <td>Anything and Everything</td>\n",
       "      <td>It’s ya boi Nathan making a podcast where I ch...</td>\n",
       "      <td>Nathan Ortiz</td>\n",
       "      <td>['en']</td>\n",
       "      <td>https://anchor.fm/s/12c31ce0/podcast/rss</td>\n",
       "      <td>spotify:episode:6vRd118V8up2pvqsvM4IMF</td>\n",
       "      <td>nathan &amp; don speak about random things w/ a sa...</td>\n",
       "      <td>three friends catch up &amp; dive into some topics...</td>\n",
       "      <td>30.074483</td>\n",
       "      <td>show_4Gtc4ccgCF8xySTleFp3HF</td>\n",
       "      <td>6vRd118V8up2pvqsvM4IMF</td>\n",
       "      <td>4</td>\n",
       "      <td>G</td>\n",
       "      <td>[Comedy, Comedy Interviews]</td>\n",
       "    </tr>\n",
       "  </tbody>\n",
       "</table>\n",
       "</div>"
      ],
      "text/plain": [
       "                                  show_uri                 show_name  \\\n",
       "77494  spotify:show:4Gtc4ccgCF8xySTleFp3HF  Anything and Everything    \n",
       "84259  spotify:show:4Gtc4ccgCF8xySTleFp3HF  Anything and Everything    \n",
       "93757  spotify:show:4Gtc4ccgCF8xySTleFp3HF  Anything and Everything    \n",
       "\n",
       "                                        show_description     publisher  \\\n",
       "77494  It’s ya boi Nathan making a podcast where I ch...  Nathan Ortiz   \n",
       "84259  It’s ya boi Nathan making a podcast where I ch...  Nathan Ortiz   \n",
       "93757  It’s ya boi Nathan making a podcast where I ch...  Nathan Ortiz   \n",
       "\n",
       "      language                                  rss_link  \\\n",
       "77494   ['en']  https://anchor.fm/s/12c31ce0/podcast/rss   \n",
       "84259   ['en']  https://anchor.fm/s/12c31ce0/podcast/rss   \n",
       "93757   ['en']  https://anchor.fm/s/12c31ce0/podcast/rss   \n",
       "\n",
       "                                  episode_uri  \\\n",
       "77494  spotify:episode:5hsL9wnnzX83q5Qn5XuEMu   \n",
       "84259  spotify:episode:6Df5bnlC2Ns06W2HK4qJmu   \n",
       "93757  spotify:episode:6vRd118V8up2pvqsvM4IMF   \n",
       "\n",
       "                                            episode_name  \\\n",
       "77494                Me and my Vietnam war friend Don Vu   \n",
       "84259  nathan & don talk about ghosts and homeless wo...   \n",
       "93757  nathan & don speak about random things w/ a sa...   \n",
       "\n",
       "                                     episode_description   duration  \\\n",
       "77494  Nathan and Don y’all about wizards, government...  49.663233   \n",
       "84259  just a fun little conversation today with our ...  27.888717   \n",
       "93757  three friends catch up & dive into some topics...  30.074483   \n",
       "\n",
       "              show_filename_prefix episode_filename_prefix first_dir  \\\n",
       "77494  show_4Gtc4ccgCF8xySTleFp3HF  5hsL9wnnzX83q5Qn5XuEMu         4   \n",
       "84259  show_4Gtc4ccgCF8xySTleFp3HF  6Df5bnlC2Ns06W2HK4qJmu         4   \n",
       "93757  show_4Gtc4ccgCF8xySTleFp3HF  6vRd118V8up2pvqsvM4IMF         4   \n",
       "\n",
       "      second_dir                     category  \n",
       "77494          G  [Comedy, Comedy Interviews]  \n",
       "84259          G  [Comedy, Comedy Interviews]  \n",
       "93757          G  [Comedy, Comedy Interviews]  "
      ]
     },
     "execution_count": 9,
     "metadata": {},
     "output_type": "execute_result"
    }
   ],
   "source": [
    "merged_df = df.merge(cats_df, on='show_filename_prefix', how='left')\n",
    "print(merged_df.shape)\n",
    "print(merged_df.isna().sum())\n",
    "merged_df[merged_df['show_filename_prefix']=='show_4Gtc4ccgCF8xySTleFp3HF']"
   ]
  },
  {
   "cell_type": "code",
   "execution_count": 10,
   "id": "136df0b6-e734-4e30-8614-2108bfe890d6",
   "metadata": {},
   "outputs": [
    {
     "data": {
      "text/plain": [
       "(92, 15)"
      ]
     },
     "execution_count": 10,
     "metadata": {},
     "output_type": "execute_result"
    }
   ],
   "source": [
    "# TODO: Why are there 92 NaNs? shows that did not get categories, had NaNs instead.  see shape below.\n",
    "merged_df[merged_df['show_filename_prefix'].str.contains('|'.join(error_list+notag_list))].shape"
   ]
  },
  {
   "cell_type": "code",
   "execution_count": 11,
   "id": "25dd4602-bc37-48ee-a357-c540706a3375",
   "metadata": {},
   "outputs": [
    {
     "name": "stdout",
     "output_type": "stream",
     "text": [
      "Merged DataFrame saved as ../podcasts-no-audio-13GB-selected/metadata_with_podcast_category.tsv\n"
     ]
    }
   ],
   "source": [
    "# Save the DataFrame as a TSV file\n",
    "file_path = '../podcasts-no-audio-13GB-selected/metadata_with_podcast_category.tsv'\n",
    "merged_df.to_csv(file_path, sep='\\t', index=False)\n",
    "\n",
    "print(f\"Merged DataFrame saved as {file_path}\")"
   ]
  },
  {
   "cell_type": "code",
   "execution_count": 12,
   "id": "7d4cf266-804d-4ee0-9b9f-ba30a2053400",
   "metadata": {},
   "outputs": [
    {
     "name": "stdout",
     "output_type": "stream",
     "text": [
      "(105360, 15)\n",
      "Index(['show_uri', 'show_name', 'show_description', 'publisher', 'language',\n",
      "       'rss_link', 'episode_uri', 'episode_name', 'episode_description',\n",
      "       'duration', 'show_filename_prefix', 'episode_filename_prefix',\n",
      "       'first_dir', 'second_dir', 'category'],\n",
      "      dtype='object')\n"
     ]
    }
   ],
   "source": [
    "new_df = pd.read_csv('../podcasts-no-audio-13GB-selected/metadata_with_podcast_category.tsv', sep='\\t')\n",
    "print(new_df.shape)\n",
    "print(new_df.columns)"
   ]
  },
  {
   "cell_type": "code",
   "execution_count": 13,
   "id": "07adf007-ba5f-4da0-8a35-8a4d5b47692c",
   "metadata": {},
   "outputs": [
    {
     "data": {
      "text/plain": [
       "show_uri                     0\n",
       "show_name                    0\n",
       "show_description             2\n",
       "publisher                    0\n",
       "language                     0\n",
       "rss_link                     0\n",
       "episode_uri                  0\n",
       "episode_name                 0\n",
       "episode_description        205\n",
       "duration                     0\n",
       "show_filename_prefix         0\n",
       "episode_filename_prefix      0\n",
       "first_dir                    0\n",
       "second_dir                   0\n",
       "category                    92\n",
       "dtype: int64"
      ]
     },
     "execution_count": 13,
     "metadata": {},
     "output_type": "execute_result"
    }
   ],
   "source": [
    "new_df.isna().sum()"
   ]
  },
  {
   "cell_type": "markdown",
   "id": "92c4d75f-f279-4276-a041-822eba35eb28",
   "metadata": {},
   "source": [
    "## Create a tsv file with the expanded metadata for categories. expanded_categories.tsv"
   ]
  },
  {
   "cell_type": "code",
   "execution_count": 14,
   "id": "c4a23340-5bfa-47bb-96b9-7cd91a81737f",
   "metadata": {},
   "outputs": [
    {
     "data": {
      "text/html": [
       "<div>\n",
       "<style scoped>\n",
       "    .dataframe tbody tr th:only-of-type {\n",
       "        vertical-align: middle;\n",
       "    }\n",
       "\n",
       "    .dataframe tbody tr th {\n",
       "        vertical-align: top;\n",
       "    }\n",
       "\n",
       "    .dataframe thead th {\n",
       "        text-align: right;\n",
       "    }\n",
       "</style>\n",
       "<table border=\"1\" class=\"dataframe\">\n",
       "  <thead>\n",
       "    <tr style=\"text-align: right;\">\n",
       "      <th></th>\n",
       "      <th>show_filename_prefix</th>\n",
       "      <th>category</th>\n",
       "    </tr>\n",
       "  </thead>\n",
       "  <tbody>\n",
       "    <tr>\n",
       "      <th>0</th>\n",
       "      <td>show_0RpgmiJjAk5DHxzABcllYp</td>\n",
       "      <td>Leisure</td>\n",
       "    </tr>\n",
       "    <tr>\n",
       "      <th>1</th>\n",
       "      <td>show_0RpgmiJjAk5DHxzABcllYp</td>\n",
       "      <td>Games</td>\n",
       "    </tr>\n",
       "    <tr>\n",
       "      <th>2</th>\n",
       "      <td>show_0ruY06AVqTtXm1Rs3bwDtZ</td>\n",
       "      <td>Society &amp; Culture</td>\n",
       "    </tr>\n",
       "    <tr>\n",
       "      <th>3</th>\n",
       "      <td>show_0r4ElWjFWBJRuzH6ooMBvK</td>\n",
       "      <td>Sports</td>\n",
       "    </tr>\n",
       "    <tr>\n",
       "      <th>4</th>\n",
       "      <td>show_0r4ElWjFWBJRuzH6ooMBvK</td>\n",
       "      <td>Basketball</td>\n",
       "    </tr>\n",
       "  </tbody>\n",
       "</table>\n",
       "</div>"
      ],
      "text/plain": [
       "          show_filename_prefix           category\n",
       "0  show_0RpgmiJjAk5DHxzABcllYp            Leisure\n",
       "1  show_0RpgmiJjAk5DHxzABcllYp              Games\n",
       "2  show_0ruY06AVqTtXm1Rs3bwDtZ  Society & Culture\n",
       "3  show_0r4ElWjFWBJRuzH6ooMBvK             Sports\n",
       "4  show_0r4ElWjFWBJRuzH6ooMBvK         Basketball"
      ]
     },
     "execution_count": 14,
     "metadata": {},
     "output_type": "execute_result"
    }
   ],
   "source": [
    "# create dataframe from tuple...\n",
    "expanded_cats_df = pd.DataFrame(expanded_category_tuple_list, columns=['show_filename_prefix', 'category'])\n",
    "expanded_cats_df.head()"
   ]
  },
  {
   "cell_type": "code",
   "execution_count": 15,
   "id": "0ae706cc-9f1b-432c-8198-7598f0d1365e",
   "metadata": {},
   "outputs": [
    {
     "data": {
      "text/html": [
       "<div>\n",
       "<style scoped>\n",
       "    .dataframe tbody tr th:only-of-type {\n",
       "        vertical-align: middle;\n",
       "    }\n",
       "\n",
       "    .dataframe tbody tr th {\n",
       "        vertical-align: top;\n",
       "    }\n",
       "\n",
       "    .dataframe thead th {\n",
       "        text-align: right;\n",
       "    }\n",
       "</style>\n",
       "<table border=\"1\" class=\"dataframe\">\n",
       "  <thead>\n",
       "    <tr style=\"text-align: right;\">\n",
       "      <th></th>\n",
       "      <th>show_filename_prefix</th>\n",
       "      <th>mean_show_duration</th>\n",
       "    </tr>\n",
       "  </thead>\n",
       "  <tbody>\n",
       "    <tr>\n",
       "      <th>0</th>\n",
       "      <td>show_002B8PbILr169CdsS9ySTH</td>\n",
       "      <td>57.177200</td>\n",
       "    </tr>\n",
       "    <tr>\n",
       "      <th>1</th>\n",
       "      <td>show_005ZAjJK1wlD4E2YxeibBb</td>\n",
       "      <td>82.179683</td>\n",
       "    </tr>\n",
       "  </tbody>\n",
       "</table>\n",
       "</div>"
      ],
      "text/plain": [
       "          show_filename_prefix  mean_show_duration\n",
       "0  show_002B8PbILr169CdsS9ySTH           57.177200\n",
       "1  show_005ZAjJK1wlD4E2YxeibBb           82.179683"
      ]
     },
     "metadata": {},
     "output_type": "display_data"
    },
    {
     "name": "stdout",
     "output_type": "stream",
     "text": [
      "(18376, 2)\n"
     ]
    }
   ],
   "source": [
    "# add in mean_show_duration for good form...\n",
    "duration_df = df[['show_filename_prefix','duration']].groupby('show_filename_prefix').mean()\n",
    "duration_df = duration_df.reset_index()\n",
    "duration_df['mean_show_duration'] = duration_df['duration']\n",
    "duration_df = duration_df.drop(columns=['duration'])\n",
    "display(duration_df.head(2))\n",
    "print(duration_df.shape)"
   ]
  },
  {
   "cell_type": "code",
   "execution_count": 19,
   "id": "d70cbbac-ae31-45f9-acaa-e28a5830c680",
   "metadata": {},
   "outputs": [
    {
     "name": "stdout",
     "output_type": "stream",
     "text": [
      "(27018, 3)\n",
      "       mean_show_duration\n",
      "count        27018.000000\n",
      "mean            31.595887\n",
      "std             20.989321\n",
      "min              0.180733\n",
      "25%             13.470388\n",
      "50%             29.472783\n",
      "75%             46.219154\n",
      "max            155.800271\n",
      "\n",
      "NaN Summary:\n",
      "show_filename_prefix    0\n",
      "category                0\n",
      "mean_show_duration      0\n",
      "dtype: int64\n"
     ]
    },
    {
     "data": {
      "text/html": [
       "<div>\n",
       "<style scoped>\n",
       "    .dataframe tbody tr th:only-of-type {\n",
       "        vertical-align: middle;\n",
       "    }\n",
       "\n",
       "    .dataframe tbody tr th {\n",
       "        vertical-align: top;\n",
       "    }\n",
       "\n",
       "    .dataframe thead th {\n",
       "        text-align: right;\n",
       "    }\n",
       "</style>\n",
       "<table border=\"1\" class=\"dataframe\">\n",
       "  <thead>\n",
       "    <tr style=\"text-align: right;\">\n",
       "      <th></th>\n",
       "      <th>show_filename_prefix</th>\n",
       "      <th>category</th>\n",
       "      <th>mean_show_duration</th>\n",
       "    </tr>\n",
       "  </thead>\n",
       "  <tbody>\n",
       "    <tr>\n",
       "      <th>17243</th>\n",
       "      <td>show_3IqnOKmHHBP8Zz6ikeJsEO</td>\n",
       "      <td>Religion &amp; Spirituality</td>\n",
       "      <td>26.365867</td>\n",
       "    </tr>\n",
       "    <tr>\n",
       "      <th>21494</th>\n",
       "      <td>show_2ABPOUVu8eVRVvRvMBIr9E</td>\n",
       "      <td>TV &amp; Film</td>\n",
       "      <td>5.212425</td>\n",
       "    </tr>\n",
       "    <tr>\n",
       "      <th>4114</th>\n",
       "      <td>show_76EDjHsPlYvwVJVavPWoUD</td>\n",
       "      <td>Religion &amp; Spirituality</td>\n",
       "      <td>0.546450</td>\n",
       "    </tr>\n",
       "    <tr>\n",
       "      <th>1278</th>\n",
       "      <td>show_0azxzl78csOPsVsunPtJED</td>\n",
       "      <td>Business</td>\n",
       "      <td>72.771046</td>\n",
       "    </tr>\n",
       "    <tr>\n",
       "      <th>2807</th>\n",
       "      <td>show_0BtfH2LbEkhW0VBp81CUJY</td>\n",
       "      <td>Business</td>\n",
       "      <td>17.014033</td>\n",
       "    </tr>\n",
       "    <tr>\n",
       "      <th>334</th>\n",
       "      <td>show_00REco2kCHAb32m7GfuCk0</td>\n",
       "      <td>Education</td>\n",
       "      <td>38.587222</td>\n",
       "    </tr>\n",
       "    <tr>\n",
       "      <th>26568</th>\n",
       "      <td>show_5LdMmD7x2V9yQBUxt61VTF</td>\n",
       "      <td>After Shows</td>\n",
       "      <td>48.286088</td>\n",
       "    </tr>\n",
       "    <tr>\n",
       "      <th>26881</th>\n",
       "      <td>show_5PpZB7vNm8eeLEGbP73qud</td>\n",
       "      <td>Comedy</td>\n",
       "      <td>54.683383</td>\n",
       "    </tr>\n",
       "    <tr>\n",
       "      <th>15739</th>\n",
       "      <td>show_4x26XSd9pkHZI13kQi2qvE</td>\n",
       "      <td>Health &amp; Fitness</td>\n",
       "      <td>17.485933</td>\n",
       "    </tr>\n",
       "    <tr>\n",
       "      <th>5986</th>\n",
       "      <td>show_7yPBxLJUkqWguIFTzhstZU</td>\n",
       "      <td>News</td>\n",
       "      <td>29.818291</td>\n",
       "    </tr>\n",
       "  </tbody>\n",
       "</table>\n",
       "</div>"
      ],
      "text/plain": [
       "              show_filename_prefix                 category  \\\n",
       "17243  show_3IqnOKmHHBP8Zz6ikeJsEO  Religion & Spirituality   \n",
       "21494  show_2ABPOUVu8eVRVvRvMBIr9E                TV & Film   \n",
       "4114   show_76EDjHsPlYvwVJVavPWoUD  Religion & Spirituality   \n",
       "1278   show_0azxzl78csOPsVsunPtJED                 Business   \n",
       "2807   show_0BtfH2LbEkhW0VBp81CUJY                 Business   \n",
       "334    show_00REco2kCHAb32m7GfuCk0                Education   \n",
       "26568  show_5LdMmD7x2V9yQBUxt61VTF              After Shows   \n",
       "26881  show_5PpZB7vNm8eeLEGbP73qud                   Comedy   \n",
       "15739  show_4x26XSd9pkHZI13kQi2qvE         Health & Fitness   \n",
       "5986   show_7yPBxLJUkqWguIFTzhstZU                     News   \n",
       "\n",
       "       mean_show_duration  \n",
       "17243           26.365867  \n",
       "21494            5.212425  \n",
       "4114             0.546450  \n",
       "1278            72.771046  \n",
       "2807            17.014033  \n",
       "334             38.587222  \n",
       "26568           48.286088  \n",
       "26881           54.683383  \n",
       "15739           17.485933  \n",
       "5986            29.818291  "
      ]
     },
     "execution_count": 19,
     "metadata": {},
     "output_type": "execute_result"
    }
   ],
   "source": [
    "# merge them.  should have a few that do not have a mean show duration...\n",
    "expanded_cats_df2 = expanded_cats_df.merge(duration_df, on='show_filename_prefix', how='left')\n",
    "print(expanded_cats_df2.shape)\n",
    "print(expanded_cats_df2.describe())\n",
    "print(\"\\nNaN Summary:\")\n",
    "print(expanded_cats_df2.isna().sum())\n",
    "\n",
    "expanded_cats_df2.sample(10)"
   ]
  },
  {
   "cell_type": "markdown",
   "id": "a77baf2a-f219-4534-9822-f2b8d81c71f6",
   "metadata": {},
   "source": [
    "Adding mean_category_duration"
   ]
  },
  {
   "cell_type": "code",
   "execution_count": 24,
   "id": "bb5ca4f5-55f6-40a8-9ef6-89e7fe1e46cd",
   "metadata": {},
   "outputs": [
    {
     "name": "stdout",
     "output_type": "stream",
     "text": [
      "category                  0\n",
      "mean_category_duration    0\n",
      "dtype: int64\n"
     ]
    },
    {
     "data": {
      "text/html": [
       "<div>\n",
       "<style scoped>\n",
       "    .dataframe tbody tr th:only-of-type {\n",
       "        vertical-align: middle;\n",
       "    }\n",
       "\n",
       "    .dataframe tbody tr th {\n",
       "        vertical-align: top;\n",
       "    }\n",
       "\n",
       "    .dataframe thead th {\n",
       "        text-align: right;\n",
       "    }\n",
       "</style>\n",
       "<table border=\"1\" class=\"dataframe\">\n",
       "  <thead>\n",
       "    <tr style=\"text-align: right;\">\n",
       "      <th></th>\n",
       "      <th>category</th>\n",
       "      <th>mean_category_duration</th>\n",
       "    </tr>\n",
       "  </thead>\n",
       "  <tbody>\n",
       "    <tr>\n",
       "      <th>88</th>\n",
       "      <td>Podcasting</td>\n",
       "      <td>56.804517</td>\n",
       "    </tr>\n",
       "    <tr>\n",
       "      <th>63</th>\n",
       "      <td>Literature</td>\n",
       "      <td>56.323906</td>\n",
       "    </tr>\n",
       "    <tr>\n",
       "      <th>89</th>\n",
       "      <td>Professional</td>\n",
       "      <td>55.017821</td>\n",
       "    </tr>\n",
       "    <tr>\n",
       "      <th>97</th>\n",
       "      <td>Self-Help</td>\n",
       "      <td>53.755766</td>\n",
       "    </tr>\n",
       "    <tr>\n",
       "      <th>43</th>\n",
       "      <td>Games &amp; Hobbies</td>\n",
       "      <td>52.248239</td>\n",
       "    </tr>\n",
       "    <tr>\n",
       "      <th>...</th>\n",
       "      <td>...</td>\n",
       "      <td>...</td>\n",
       "    </tr>\n",
       "    <tr>\n",
       "      <th>46</th>\n",
       "      <td>Government &amp; Organizations</td>\n",
       "      <td>11.533311</td>\n",
       "    </tr>\n",
       "    <tr>\n",
       "      <th>60</th>\n",
       "      <td>Language Learning</td>\n",
       "      <td>11.509802</td>\n",
       "    </tr>\n",
       "    <tr>\n",
       "      <th>49</th>\n",
       "      <td>Hinduism</td>\n",
       "      <td>10.466221</td>\n",
       "    </tr>\n",
       "    <tr>\n",
       "      <th>108</th>\n",
       "      <td>Stories for Kids</td>\n",
       "      <td>8.933133</td>\n",
       "    </tr>\n",
       "    <tr>\n",
       "      <th>86</th>\n",
       "      <td>Physics</td>\n",
       "      <td>1.845217</td>\n",
       "    </tr>\n",
       "  </tbody>\n",
       "</table>\n",
       "<p>122 rows × 2 columns</p>\n",
       "</div>"
      ],
      "text/plain": [
       "                       category  mean_category_duration\n",
       "88                   Podcasting               56.804517\n",
       "63                   Literature               56.323906\n",
       "89                 Professional               55.017821\n",
       "97                    Self-Help               53.755766\n",
       "43              Games & Hobbies               52.248239\n",
       "..                          ...                     ...\n",
       "46   Government & Organizations               11.533311\n",
       "60            Language Learning               11.509802\n",
       "49                     Hinduism               10.466221\n",
       "108            Stories for Kids                8.933133\n",
       "86                      Physics                1.845217\n",
       "\n",
       "[122 rows x 2 columns]"
      ]
     },
     "execution_count": 24,
     "metadata": {},
     "output_type": "execute_result"
    }
   ],
   "source": [
    "expanded_cats_df2_catmean = expanded_cats_df2[['category','mean_show_duration']].groupby('category').mean().reset_index()\n",
    "expanded_cats_df2_catmean = expanded_cats_df2_catmean.rename(columns={'mean_show_duration': 'mean_category_duration'})\n",
    "expanded_cats_df2_catmean = expanded_cats_df2_catmean.sort_values(by='mean_category_duration',ascending=False)\n",
    "print(expanded_cats_df2_catmean.isna().sum())\n",
    "expanded_cats_df2_catmean"
   ]
  },
  {
   "cell_type": "code",
   "execution_count": 26,
   "id": "2bd7702b-5252-45b6-b221-16414824cc51",
   "metadata": {},
   "outputs": [
    {
     "name": "stdout",
     "output_type": "stream",
     "text": [
      "(27018, 4)\n",
      "       mean_show_duration  mean_category_duration\n",
      "count        27018.000000            27018.000000\n",
      "mean            31.595887               31.595887\n",
      "std             20.989321                6.797801\n",
      "min              0.180733                1.845217\n",
      "25%             13.470388               26.992464\n",
      "50%             29.472783               29.177933\n",
      "75%             46.219154               38.051158\n",
      "max            155.800271               56.804517\n",
      "\n",
      "NaN Summary:\n",
      "show_filename_prefix      0\n",
      "category                  0\n",
      "mean_show_duration        0\n",
      "mean_category_duration    0\n",
      "dtype: int64\n"
     ]
    },
    {
     "data": {
      "text/html": [
       "<div>\n",
       "<style scoped>\n",
       "    .dataframe tbody tr th:only-of-type {\n",
       "        vertical-align: middle;\n",
       "    }\n",
       "\n",
       "    .dataframe tbody tr th {\n",
       "        vertical-align: top;\n",
       "    }\n",
       "\n",
       "    .dataframe thead th {\n",
       "        text-align: right;\n",
       "    }\n",
       "</style>\n",
       "<table border=\"1\" class=\"dataframe\">\n",
       "  <thead>\n",
       "    <tr style=\"text-align: right;\">\n",
       "      <th></th>\n",
       "      <th>show_filename_prefix</th>\n",
       "      <th>category</th>\n",
       "      <th>mean_show_duration</th>\n",
       "      <th>mean_category_duration</th>\n",
       "    </tr>\n",
       "  </thead>\n",
       "  <tbody>\n",
       "    <tr>\n",
       "      <th>20021</th>\n",
       "      <td>show_3WCzRBpS7myMDQHvP97pmv</td>\n",
       "      <td>Fantasy Sports</td>\n",
       "      <td>18.109433</td>\n",
       "      <td>43.208902</td>\n",
       "    </tr>\n",
       "    <tr>\n",
       "      <th>10575</th>\n",
       "      <td>show_16oQTbAx0xEQAijjhpcQd1</td>\n",
       "      <td>Health &amp; Fitness</td>\n",
       "      <td>33.211050</td>\n",
       "      <td>29.078194</td>\n",
       "    </tr>\n",
       "    <tr>\n",
       "      <th>1691</th>\n",
       "      <td>show_0MTCY7tw7AKad94BlV25Lh</td>\n",
       "      <td>Comedy</td>\n",
       "      <td>58.052764</td>\n",
       "      <td>39.321419</td>\n",
       "    </tr>\n",
       "    <tr>\n",
       "      <th>23447</th>\n",
       "      <td>show_2PPnLpqWj23hg0Jqg5rqgR</td>\n",
       "      <td>Arts</td>\n",
       "      <td>20.065917</td>\n",
       "      <td>26.992464</td>\n",
       "    </tr>\n",
       "    <tr>\n",
       "      <th>26412</th>\n",
       "      <td>show_5knxV4vyGYWJ6mXS57345R</td>\n",
       "      <td>Comedy</td>\n",
       "      <td>21.318633</td>\n",
       "      <td>39.321419</td>\n",
       "    </tr>\n",
       "    <tr>\n",
       "      <th>13776</th>\n",
       "      <td>show_4ivu500NtrhKu8delQtfvx</td>\n",
       "      <td>Health &amp; Fitness</td>\n",
       "      <td>46.248767</td>\n",
       "      <td>29.078194</td>\n",
       "    </tr>\n",
       "    <tr>\n",
       "      <th>7806</th>\n",
       "      <td>show_6ohc3T18zvoFhiViRUR93r</td>\n",
       "      <td>Games</td>\n",
       "      <td>61.070400</td>\n",
       "      <td>36.797213</td>\n",
       "    </tr>\n",
       "    <tr>\n",
       "      <th>3530</th>\n",
       "      <td>show_7u3KWEv98YJf9BEbjTBTgd</td>\n",
       "      <td>Self-Improvement</td>\n",
       "      <td>9.897117</td>\n",
       "      <td>26.785216</td>\n",
       "    </tr>\n",
       "    <tr>\n",
       "      <th>13898</th>\n",
       "      <td>show_4gI4LYOBe5Z4BvFj4e7PEl</td>\n",
       "      <td>Sports</td>\n",
       "      <td>53.886933</td>\n",
       "      <td>41.794109</td>\n",
       "    </tr>\n",
       "    <tr>\n",
       "      <th>11041</th>\n",
       "      <td>show_1s54aXh7LcDenT6NaxRKvI</td>\n",
       "      <td>Arts</td>\n",
       "      <td>14.525550</td>\n",
       "      <td>26.992464</td>\n",
       "    </tr>\n",
       "  </tbody>\n",
       "</table>\n",
       "</div>"
      ],
      "text/plain": [
       "              show_filename_prefix          category  mean_show_duration  \\\n",
       "20021  show_3WCzRBpS7myMDQHvP97pmv    Fantasy Sports           18.109433   \n",
       "10575  show_16oQTbAx0xEQAijjhpcQd1  Health & Fitness           33.211050   \n",
       "1691   show_0MTCY7tw7AKad94BlV25Lh            Comedy           58.052764   \n",
       "23447  show_2PPnLpqWj23hg0Jqg5rqgR              Arts           20.065917   \n",
       "26412  show_5knxV4vyGYWJ6mXS57345R            Comedy           21.318633   \n",
       "13776  show_4ivu500NtrhKu8delQtfvx  Health & Fitness           46.248767   \n",
       "7806   show_6ohc3T18zvoFhiViRUR93r             Games           61.070400   \n",
       "3530   show_7u3KWEv98YJf9BEbjTBTgd  Self-Improvement            9.897117   \n",
       "13898  show_4gI4LYOBe5Z4BvFj4e7PEl            Sports           53.886933   \n",
       "11041  show_1s54aXh7LcDenT6NaxRKvI              Arts           14.525550   \n",
       "\n",
       "       mean_category_duration  \n",
       "20021               43.208902  \n",
       "10575               29.078194  \n",
       "1691                39.321419  \n",
       "23447               26.992464  \n",
       "26412               39.321419  \n",
       "13776               29.078194  \n",
       "7806                36.797213  \n",
       "3530                26.785216  \n",
       "13898               41.794109  \n",
       "11041               26.992464  "
      ]
     },
     "execution_count": 26,
     "metadata": {},
     "output_type": "execute_result"
    }
   ],
   "source": [
    "expanded_cats_df3 = expanded_cats_df2.merge(expanded_cats_df2_catmean, on='category', how='left')\n",
    "print(expanded_cats_df3.shape)\n",
    "print(expanded_cats_df3.describe())\n",
    "print(\"\\nNaN Summary:\")\n",
    "print(expanded_cats_df3.isna().sum())\n",
    "\n",
    "expanded_cats_df3.sample(10)"
   ]
  },
  {
   "cell_type": "code",
   "execution_count": 30,
   "id": "7d1787da-fb45-43b9-be75-9ae5889cf991",
   "metadata": {},
   "outputs": [
    {
     "name": "stdout",
     "output_type": "stream",
     "text": [
      "DataFrame saved as ../podcasts-no-audio-13GB-selected/expanded_category_metadata.tsv\n"
     ]
    }
   ],
   "source": [
    "# Save the DataFrame as a TSV file\n",
    "file_path = '../podcasts-no-audio-13GB-selected/expanded_category_metadata.tsv'\n",
    "expanded_cats_df3.to_csv(file_path, sep='\\t', index=False)\n",
    "\n",
    "print(f\"DataFrame saved as {file_path}\")"
   ]
  },
  {
   "cell_type": "code",
   "execution_count": 31,
   "id": "46b51a64-623d-488f-8878-f6e11c71ced8",
   "metadata": {},
   "outputs": [
    {
     "name": "stdout",
     "output_type": "stream",
     "text": [
      "(27018, 4)\n",
      "Index(['show_filename_prefix', 'category', 'mean_show_duration',\n",
      "       'mean_category_duration'],\n",
      "      dtype='object')\n"
     ]
    }
   ],
   "source": [
    "new_df2 = pd.read_csv('../podcasts-no-audio-13GB-selected/expanded_category_metadata.tsv', sep='\\t')\n",
    "print(new_df2.shape)\n",
    "print(new_df2.columns)"
   ]
  },
  {
   "cell_type": "code",
   "execution_count": 32,
   "id": "7afc02e8-fb5d-49b6-9816-4816725ce037",
   "metadata": {},
   "outputs": [
    {
     "data": {
      "text/plain": [
       "show_filename_prefix      0\n",
       "category                  0\n",
       "mean_show_duration        0\n",
       "mean_category_duration    0\n",
       "dtype: int64"
      ]
     },
     "execution_count": 32,
     "metadata": {},
     "output_type": "execute_result"
    }
   ],
   "source": [
    "new_df2.isna().sum()"
   ]
  },
  {
   "cell_type": "code",
   "execution_count": null,
   "id": "214e9b77-261c-4b54-b504-2f92d90855fa",
   "metadata": {},
   "outputs": [],
   "source": []
  }
 ],
 "metadata": {
  "kernelspec": {
   "display_name": "mldev",
   "language": "python",
   "name": "mldev"
  },
  "language_info": {
   "codemirror_mode": {
    "name": "ipython",
    "version": 3
   },
   "file_extension": ".py",
   "mimetype": "text/x-python",
   "name": "python",
   "nbconvert_exporter": "python",
   "pygments_lexer": "ipython3",
   "version": "3.9.7"
  }
 },
 "nbformat": 4,
 "nbformat_minor": 5
}
