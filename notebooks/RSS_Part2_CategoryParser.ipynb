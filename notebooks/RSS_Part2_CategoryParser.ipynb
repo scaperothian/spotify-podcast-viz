{
 "cells": [
  {
   "cell_type": "markdown",
   "id": "86d4229d-f36d-4bc1-98b5-0443a10b81b0",
   "metadata": {},
   "source": [
    "# Spotify Podcast Dataset\n",
    "\n",
    "RSS Part2: Parser to read the Podcast Categories from RSS files."
   ]
  },
  {
   "cell_type": "code",
   "execution_count": 146,
   "id": "c39d36d1-1e56-4cc2-8dde-dd0c316c05fc",
   "metadata": {},
   "outputs": [],
   "source": [
    "import pandas as pd\n",
    "import numpy as np\n",
    "import os\n",
    "import xml.etree.ElementTree as ET\n",
    "\n",
    "import matplotlib.pyplot as plt\n",
    "from collections import Counter\n",
    "plt.rcParams['figure.figsize'] = [5, 5]\n"
   ]
  },
  {
   "cell_type": "markdown",
   "id": "595f81e8-0457-4545-a45a-9f8dd0c3c1be",
   "metadata": {},
   "source": [
    "## Parse metadata from Spotify"
   ]
  },
  {
   "cell_type": "code",
   "execution_count": 121,
   "id": "e2e277eb-aeff-4e30-8685-c9588f71ba03",
   "metadata": {},
   "outputs": [],
   "source": [
    "df = pd.read_csv('../podcasts-no-audio-13GB-selected/metadata.tsv', sep='\\t')"
   ]
  },
  {
   "cell_type": "code",
   "execution_count": 36,
   "id": "a6622eb4-7e81-4445-99d3-176b00a418c1",
   "metadata": {},
   "outputs": [],
   "source": [
    "basename = '../podcasts-no-audio-13GB-selected/spotify-podcasts-2020/show-rss/'"
   ]
  },
  {
   "cell_type": "markdown",
   "id": "7d02fbed-d888-4408-8a92-8557f6886259",
   "metadata": {},
   "source": [
    "## Add directory names to the rows"
   ]
  },
  {
   "cell_type": "code",
   "execution_count": 127,
   "id": "c22a4817-1681-492d-a3bd-d94cc29b45e6",
   "metadata": {},
   "outputs": [],
   "source": [
    "# Locations of episodes are based on two levels of folders: \n",
    "#    first_folder/second_folder/show/episode_metadata.json\n",
    "# To figure out the first_folder and second_folder by looking at \n",
    "# the first two characters in the show_uri column.\n",
    "\n",
    "# Then you can extract the transcripts...\n",
    "\n",
    "df['first_dir'] = df['show_uri'].str.extract(r'spotify:show:(\\w{1})')[0]\n",
    "df['second_dir'] = df['show_uri'].str.extract(r'spotify:show:\\w{1}(\\w{1})')[0]"
   ]
  },
  {
   "cell_type": "markdown",
   "id": "d3652d68-a5a7-4609-971e-e951a4471ca8",
   "metadata": {},
   "source": [
    "## Extract the RSS category metadata of a show."
   ]
  },
  {
   "cell_type": "code",
   "execution_count": 158,
   "id": "559e2d60-297e-42d4-8278-c7853b7128f6",
   "metadata": {},
   "outputs": [
    {
     "name": "stdout",
     "output_type": "stream",
     "text": [
      "Searching for 18376 Shows.\n"
     ]
    }
   ],
   "source": [
    "print(f\"Searching for {df['show_filename_prefix'].unique().shape[0]} Shows.\")"
   ]
  },
  {
   "cell_type": "code",
   "execution_count": 151,
   "id": "33b7ef32-7966-4896-a07a-1c2fa65d6010",
   "metadata": {},
   "outputs": [],
   "source": [
    "import xml.etree.ElementTree as ET\n",
    "\n",
    "def find_category(file):\n",
    "    \"\"\"\n",
    "    find_category - attempts to look for the the first itunes:category \n",
    "                    tag in the RSS file.  \n",
    "    returns \n",
    "    \"\"\"    \n",
    "    extracted_tags = []\n",
    "    \n",
    "    # Parse the XML file\n",
    "    tree = ET.parse(file)\n",
    "    root = tree.getroot()\n",
    "    \n",
    "    # Iterate through the XML elements\n",
    "    for element in root.iter():\n",
    "        # Check if the element name contains \"category\"\n",
    "        if 'category' in element.tag:\n",
    "            # Check if the element has a \"text\" attribute\n",
    "            if 'text' in element.attrib:\n",
    "                # Extract and store the data from the \"text\" attribute\n",
    "                text_data = element.attrib['text']\n",
    "                extracted_tags.append(text_data)\n",
    "    return extracted_tags\n"
   ]
  },
  {
   "cell_type": "markdown",
   "id": "93589401-bcdf-4cf5-898a-ea2f03ca2d9a",
   "metadata": {},
   "source": [
    "Test find_category()..."
   ]
  },
  {
   "cell_type": "code",
   "execution_count": 152,
   "id": "77694a9d-7f01-4492-9219-e5419f81c719",
   "metadata": {
    "scrolled": true
   },
   "outputs": [
    {
     "data": {
      "text/plain": [
       "['Kids & Family',\n",
       " 'Parenting',\n",
       " 'Comedy',\n",
       " 'Kids & Family',\n",
       " 'Religion & Spirituality',\n",
       " 'Religion & Spirituality',\n",
       " 'Spirituality',\n",
       " 'Society & Culture',\n",
       " 'Science',\n",
       " 'Social Sciences',\n",
       " 'Society & Culture',\n",
       " 'Relationships']"
      ]
     },
     "execution_count": 152,
     "metadata": {},
     "output_type": "execute_result"
    }
   ],
   "source": [
    "find_category(basename + '/1/U/' + 'show_1uWrnAjywECBJ6Uz2UEuUV.xml')"
   ]
  },
  {
   "cell_type": "code",
   "execution_count": 169,
   "id": "ae64be04-ad94-47ab-9923-0a59a11e401c",
   "metadata": {},
   "outputs": [
    {
     "name": "stdout",
     "output_type": "stream",
     "text": [
      "18387 Files Found.\n",
      "122 Unique Categories and Sub-categories.\n",
      "10 files had errors while reading (see error_list).\n",
      "9 files had no tags (see notag_list).\n"
     ]
    }
   ],
   "source": [
    "files_found_counter = 0\n",
    "\n",
    "# This list will be appended directly to the primary dataframe \n",
    "# directly as a list.  It will follow a similar format as the \n",
    "# language column.\n",
    "#\n",
    "# The tuple is meant to preserve the filename with the category.\n",
    "# first element is filename, second element is the category list.\n",
    "category_tuple_list = []\n",
    "\n",
    "# This list is an expanded version.  in stead of aggregating \n",
    "# the categories with one show.  the show is repeated for each\n",
    "# category.  Nice for playing around with categories in general.\n",
    "# But important to remember to understand that merging it with \n",
    "# the primary data frame would mean there are now more rows \n",
    "# and the rows no longer can be interpreted as the number of \n",
    "# episodes for example.\n",
    "#\n",
    "# The tuple is meant to preserve the filename with the category.\n",
    "# first element is filename, second element is the category.\n",
    "expanded_category_tuple_list = []\n",
    "\n",
    "error_list = []\n",
    "notag_list = []\n",
    "# Iterate through files in the folder and its subdirectories\n",
    "for root, dirs, files in os.walk(basename):\n",
    "    for filename in files:\n",
    "        # Check if the file is a JSON file\n",
    "        if filename.endswith('.xml'):\n",
    "            # TODO / ISSUE: there are two more xml files found based on the \n",
    "            # metadata file's number of possible shows.\n",
    "            # TODO / ISSUE: there are 8 errors in valid show RSS files.\n",
    "            try:\n",
    "                files_found_counter += 1\n",
    "                file_path = os.path.join(root, filename)\n",
    "                cats = find_category(file_path)\n",
    "                \n",
    "                # check and see if its empty\n",
    "                if cats:\n",
    "                    for cat in cats: \n",
    "                        expanded_category_tuple_list.append((filename[:-4], cat))\n",
    "                    category_tuple_list.append((filename[:-4], cats))\n",
    "                else:\n",
    "                    notag_list.append(filename)\n",
    "            except Exception as e:\n",
    "                #print(f\"Error reading file: {filename}.\\n{e}\")\n",
    "                error_list.append(filename)\n",
    "                \n",
    "print(f\"{files_found_counter} Files Found.\")\n",
    "print(f\"{len(set(categories))} Unique Categories and Sub-categories.\")\n",
    "print(f\"{len(error_list)} files had errors while reading (see error_list).\")\n",
    "print(f\"{len(notag_list)} files had no tags (see notag_list).\")"
   ]
  },
  {
   "cell_type": "code",
   "execution_count": 170,
   "id": "320df1e9-cfeb-403c-99d9-a97de777f33e",
   "metadata": {},
   "outputs": [
    {
     "data": {
      "text/plain": [
       "[('show_0RpgmiJjAk5DHxzABcllYp', ['Leisure', 'Games']),\n",
       " ('show_0ruY06AVqTtXm1Rs3bwDtZ', ['Society & Culture']),\n",
       " ('show_0r4ElWjFWBJRuzH6ooMBvK', ['Sports', 'Basketball']),\n",
       " ('show_0R4GSy1q25PM6mttQ3c5Qy', ['Education', 'Language Learning']),\n",
       " ('show_0rHf8IEnXNN1w59Uzk4HDF', ['Religion & Spirituality'])]"
      ]
     },
     "execution_count": 170,
     "metadata": {},
     "output_type": "execute_result"
    }
   ],
   "source": [
    "category_tuple_list[:5]"
   ]
  },
  {
   "cell_type": "code",
   "execution_count": 171,
   "id": "614e7744-93ac-42b5-b02c-50e43685e4d9",
   "metadata": {},
   "outputs": [
    {
     "data": {
      "text/plain": [
       "[('show_0RpgmiJjAk5DHxzABcllYp', 'Leisure'),\n",
       " ('show_0RpgmiJjAk5DHxzABcllYp', 'Games'),\n",
       " ('show_0ruY06AVqTtXm1Rs3bwDtZ', 'Society & Culture'),\n",
       " ('show_0r4ElWjFWBJRuzH6ooMBvK', 'Sports'),\n",
       " ('show_0r4ElWjFWBJRuzH6ooMBvK', 'Basketball')]"
      ]
     },
     "execution_count": 171,
     "metadata": {},
     "output_type": "execute_result"
    }
   ],
   "source": [
    "# notice the repition of the show filename...\n",
    "expanded_category_tuple_list[:5]"
   ]
  },
  {
   "cell_type": "code",
   "execution_count": 174,
   "id": "169dbeb9-5cd1-4aca-83c5-768dec7cd1ca",
   "metadata": {},
   "outputs": [
    {
     "data": {
      "image/png": "[encoded data removed]",
      "text/plain": [
       "<Figure size 500x500 with 1 Axes>"
      ]
     },
     "metadata": {},
     "output_type": "display_data"
    }
   ],
   "source": [
    "categories_list = [c for s,c in expanded_category_tuple_list] \n",
    "category_counts = Counter(categories_list)\n",
    "sorted_counts = dict(sorted(category_counts.items(), key=lambda item: item[1], reverse=True))\n",
    "values, frequencies = zip(*sorted_counts.items())\n",
    "plt.bar(values, frequencies)\n",
    "# Add labels and title\n",
    "plt.xlabel('All Categories');\n",
    "plt.ylabel('Frequency of Categories by Show');\n",
    "plt.title('Histogram of Categories by Show');\n",
    "plt.xticks([]);"
   ]
  },
  {
   "cell_type": "code",
   "execution_count": 175,
   "id": "91c7a4ec-72e4-4eca-92af-625600944eb2",
   "metadata": {},
   "outputs": [
    {
     "data": {
      "image/png": "[encoded data removed]",
      "text/plain": [
       "<Figure size 500x500 with 1 Axes>"
      ]
     },
     "metadata": {},
     "output_type": "display_data"
    }
   ],
   "source": [
    "top_5_sorted_counts = dict(sorted(category_counts.items(), key=lambda item: item[1], reverse=True)[:5])\n",
    "top_5_values, top_5_frequencies = zip(*top_5_sorted_counts.items())\n",
    "plt.bar(top_5_values, top_5_frequencies)\n",
    "# Add labels and title\n",
    "plt.xlabel('Value');\n",
    "plt.ylabel('Frequency');\n",
    "plt.title('Histogram of Top 5 Most Frequent Categories');\n",
    "plt.xticks(rotation=45);"
   ]
  },
  {
   "cell_type": "code",
   "execution_count": 95,
   "id": "55ebebac-4baa-4a8a-9385-fee077092f4d",
   "metadata": {},
   "outputs": [
    {
     "name": "stdout",
     "output_type": "stream",
     "text": [
      "(18372, 2)\n",
      "NaNs Present: 0\n"
     ]
    }
   ],
   "source": [
    "# Create a DataFrame from the list of tuples\n",
    "cats_df = pd.DataFrame(category_tuple_list, columns=['show_filename_prefix', 'category'])\n",
    "print(cats_df.shape)\n",
    "cats_df.head(2)\n",
    "print(f\"NaNs Present: {cats_df['category'].isna().sum()}\")\n"
   ]
  },
  {
   "cell_type": "code",
   "execution_count": 91,
   "id": "8480e358-a2a7-4389-b9ce-f4dfd650c3eb",
   "metadata": {},
   "outputs": [
    {
     "name": "stdout",
     "output_type": "stream",
     "text": [
      "NaNs Present: 0\n"
     ]
    }
   ],
   "source": [
    "duration_df = df[['show_filename_prefix','duration']].groupby('show_filename_prefix').mean()\n",
    "duration_df = duration_df.reset_index()\n",
    "duration_df['mean_show_duration'] = duration_df['duration']\n",
    "duration_df = duration_df.drop(columns=['duration'])\n",
    "duration_df.head(2)\n",
    "print(f\"NaNs Present: {duration_df['mean_show_duration'].isna().sum()}\")"
   ]
  },
  {
   "cell_type": "code",
   "execution_count": 96,
   "id": "b0dc5256-9bfd-4b5c-a961-0f9adb056001",
   "metadata": {},
   "outputs": [
    {
     "name": "stdout",
     "output_type": "stream",
     "text": [
      "(1937, 3)\n",
      "       mean_show_duration\n",
      "count         1937.000000\n",
      "mean            38.022559\n",
      "std             18.833971\n",
      "min              0.766026\n",
      "25%             23.250082\n",
      "50%             39.056737\n",
      "75%             52.213392\n",
      "max             82.411022\n",
      "NaNs Present: 0\n"
     ]
    }
   ],
   "source": [
    "cats_df = cats_df.merge(duration_df, on='show_filename_prefix', how='right')\n",
    "print(cats_df.shape)\n",
    "print(cats_df.describe())\n",
    "cats_df.sample(10)\n",
    "print(f\"NaNs Present: {cats_df['mean_show_duration'].isna().sum()}\")\n"
   ]
  },
  {
   "cell_type": "code",
   "execution_count": 93,
   "id": "7e1d9f27-9296-4864-ad51-f7907573433a",
   "metadata": {},
   "outputs": [
    {
     "data": {
      "text/plain": [
       "<Axes: ylabel='Frequency'>"
      ]
     },
     "execution_count": 93,
     "metadata": {},
     "output_type": "execute_result"
    },
    {
     "data": {
      "image/png": "[encoded data removed]",
      "text/plain": [
       "<Figure size 500x500 with 1 Axes>"
      ]
     },
     "metadata": {},
     "output_type": "display_data"
    }
   ],
   "source": [
    "cats_df.plot.hist(y='mean_show_duration',bins=50)"
   ]
  },
  {
   "cell_type": "markdown",
   "id": "0cc70a97-d3a8-40de-9810-f03e9d188549",
   "metadata": {},
   "source": [
    "## Attempt to use topics mapped to shows for more insights..."
   ]
  },
  {
   "cell_type": "code",
   "execution_count": 97,
   "id": "ff3ec16b-84d8-492d-be34-4adbee661609",
   "metadata": {},
   "outputs": [
    {
     "name": "stdout",
     "output_type": "stream",
     "text": [
      "(2866, 3)\n",
      "Index(['show_filename_prefix', 'category', 'mean_show_duration', 'top_5'], dtype='object')\n",
      "NaNs Present: 0\n",
      "Index(['index', 'show_filename_prefix', 'category', 'mean_show_duration',\n",
      "       'top_5'],\n",
      "      dtype='object')\n",
      "NaNs Present: 0\n"
     ]
    }
   ],
   "source": [
    "# Create a DataFrame from the list of tuples\n",
    "cats_df2 = pd.DataFrame(category_tuple_list2, columns=['show_filename_prefix', 'category'])\n",
    "cats_df2 = cats_df2.merge(duration_df, on='show_filename_prefix', how='right')\n",
    "print(cats_df2.shape)\n",
    "cats_df2.head(2)\n",
    "\n",
    "cats_df2['top_5'] = cats_df2['category'].isin(top_5_values)\n",
    "\n",
    "print(cats_df2.columns)\n",
    "print(f\"NaNs Present: {cats_df2['mean_show_duration'].isna().sum()}\")\n",
    "new_df = cats_df2[cats_df2['top_5']==True].reset_index().drop(columns=['index']).reset_index()\n",
    "print(new_df.columns)\n",
    "print(f\"NaNs Present: {new_df['mean_show_duration'].isna().sum()}\")"
   ]
  },
  {
   "cell_type": "code",
   "execution_count": 99,
   "id": "8b9cc2ae-1950-484c-8017-b9757edbb33c",
   "metadata": {},
   "outputs": [
    {
     "name": "stdout",
     "output_type": "stream",
     "text": [
      "NaNs Present: 0\n"
     ]
    },
    {
     "data": {
      "text/html": [
       "<div>\n",
       "<style scoped>\n",
       "    .dataframe tbody tr th:only-of-type {\n",
       "        vertical-align: middle;\n",
       "    }\n",
       "\n",
       "    .dataframe tbody tr th {\n",
       "        vertical-align: top;\n",
       "    }\n",
       "\n",
       "    .dataframe thead th {\n",
       "        text-align: right;\n",
       "    }\n",
       "</style>\n",
       "<table border=\"1\" class=\"dataframe\">\n",
       "  <thead>\n",
       "    <tr style=\"text-align: right;\">\n",
       "      <th></th>\n",
       "      <th>category</th>\n",
       "      <th>mean_category_duration</th>\n",
       "    </tr>\n",
       "  </thead>\n",
       "  <tbody>\n",
       "    <tr>\n",
       "      <th>28</th>\n",
       "      <td>Film Reviews</td>\n",
       "      <td>72.289888</td>\n",
       "    </tr>\n",
       "    <tr>\n",
       "      <th>5</th>\n",
       "      <td>Aviation</td>\n",
       "      <td>69.212562</td>\n",
       "    </tr>\n",
       "    <tr>\n",
       "      <th>25</th>\n",
       "      <td>Fantasy Sports</td>\n",
       "      <td>61.913587</td>\n",
       "    </tr>\n",
       "    <tr>\n",
       "      <th>6</th>\n",
       "      <td>Baseball</td>\n",
       "      <td>56.238783</td>\n",
       "    </tr>\n",
       "    <tr>\n",
       "      <th>98</th>\n",
       "      <td>Wrestling</td>\n",
       "      <td>56.036053</td>\n",
       "    </tr>\n",
       "    <tr>\n",
       "      <th>...</th>\n",
       "      <td>...</td>\n",
       "      <td>...</td>\n",
       "    </tr>\n",
       "    <tr>\n",
       "      <th>15</th>\n",
       "      <td>Comedy Fiction</td>\n",
       "      <td>19.980779</td>\n",
       "    </tr>\n",
       "    <tr>\n",
       "      <th>66</th>\n",
       "      <td>Pets &amp; Animals</td>\n",
       "      <td>19.109841</td>\n",
       "    </tr>\n",
       "    <tr>\n",
       "      <th>9</th>\n",
       "      <td>Buddhism</td>\n",
       "      <td>15.957889</td>\n",
       "    </tr>\n",
       "    <tr>\n",
       "      <th>88</th>\n",
       "      <td>Stories for Kids</td>\n",
       "      <td>9.985819</td>\n",
       "    </tr>\n",
       "    <tr>\n",
       "      <th>46</th>\n",
       "      <td>Language Learning</td>\n",
       "      <td>9.822265</td>\n",
       "    </tr>\n",
       "  </tbody>\n",
       "</table>\n",
       "<p>100 rows × 2 columns</p>\n",
       "</div>"
      ],
      "text/plain": [
       "             category  mean_category_duration\n",
       "28       Film Reviews               72.289888\n",
       "5            Aviation               69.212562\n",
       "25     Fantasy Sports               61.913587\n",
       "6            Baseball               56.238783\n",
       "98          Wrestling               56.036053\n",
       "..                ...                     ...\n",
       "15     Comedy Fiction               19.980779\n",
       "66     Pets & Animals               19.109841\n",
       "9            Buddhism               15.957889\n",
       "88   Stories for Kids                9.985819\n",
       "46  Language Learning                9.822265\n",
       "\n",
       "[100 rows x 2 columns]"
      ]
     },
     "execution_count": 99,
     "metadata": {},
     "output_type": "execute_result"
    }
   ],
   "source": [
    "cats_df2_catmean = cats_df2[['category','mean_show_duration']].groupby('category').mean().reset_index()\n",
    "cats_df2_catmean = cats_df2_catmean.rename(columns={'mean_show_duration': 'mean_category_duration'})\n",
    "cats_df2_catmean = cats_df2_catmean.sort_values(by='mean_category_duration',ascending=False)\n",
    "print(f\"NaNs Present: {cats_df2_catmean['mean_category_duration'].isna().sum()}\")\n",
    "cats_df2_catmean\n"
   ]
  },
  {
   "cell_type": "code",
   "execution_count": 101,
   "id": "54288c91-7e90-4fb4-8683-2c64afb8fcc7",
   "metadata": {},
   "outputs": [
    {
     "data": {
      "text/html": [
       "<div>\n",
       "<style scoped>\n",
       "    .dataframe tbody tr th:only-of-type {\n",
       "        vertical-align: middle;\n",
       "    }\n",
       "\n",
       "    .dataframe tbody tr th {\n",
       "        vertical-align: top;\n",
       "    }\n",
       "\n",
       "    .dataframe thead th {\n",
       "        text-align: right;\n",
       "    }\n",
       "</style>\n",
       "<table border=\"1\" class=\"dataframe\">\n",
       "  <thead>\n",
       "    <tr style=\"text-align: right;\">\n",
       "      <th></th>\n",
       "      <th>show_filename_prefix</th>\n",
       "      <th>category</th>\n",
       "      <th>mean_show_duration</th>\n",
       "      <th>top_5</th>\n",
       "      <th>mean_category_duration</th>\n",
       "    </tr>\n",
       "  </thead>\n",
       "  <tbody>\n",
       "    <tr>\n",
       "      <th>0</th>\n",
       "      <td>show_3yQgMsqFl1899hFC3UQLaa</td>\n",
       "      <td>Film Reviews</td>\n",
       "      <td>71.855168</td>\n",
       "      <td>False</td>\n",
       "      <td>72.289888</td>\n",
       "    </tr>\n",
       "    <tr>\n",
       "      <th>1</th>\n",
       "      <td>show_7ESUQ4DOuo8z3uJGTJcKX6</td>\n",
       "      <td>Film Reviews</td>\n",
       "      <td>72.724608</td>\n",
       "      <td>False</td>\n",
       "      <td>72.289888</td>\n",
       "    </tr>\n",
       "    <tr>\n",
       "      <th>2</th>\n",
       "      <td>show_3Lk3ar1iSyFrTwTxLO7TZ4</td>\n",
       "      <td>Aviation</td>\n",
       "      <td>69.212562</td>\n",
       "      <td>False</td>\n",
       "      <td>69.212562</td>\n",
       "    </tr>\n",
       "    <tr>\n",
       "      <th>3</th>\n",
       "      <td>show_0FklAMewsMWDPs41hcyGj5</td>\n",
       "      <td>Fantasy Sports</td>\n",
       "      <td>61.397332</td>\n",
       "      <td>False</td>\n",
       "      <td>61.913587</td>\n",
       "    </tr>\n",
       "    <tr>\n",
       "      <th>4</th>\n",
       "      <td>show_1H4AwzOR0tkNyFhIl6vz5T</td>\n",
       "      <td>Fantasy Sports</td>\n",
       "      <td>53.039815</td>\n",
       "      <td>False</td>\n",
       "      <td>61.913587</td>\n",
       "    </tr>\n",
       "    <tr>\n",
       "      <th>...</th>\n",
       "      <td>...</td>\n",
       "      <td>...</td>\n",
       "      <td>...</td>\n",
       "      <td>...</td>\n",
       "      <td>...</td>\n",
       "    </tr>\n",
       "    <tr>\n",
       "      <th>2853</th>\n",
       "      <td>show_50XsjqQQ2tRhyc2DykV76R</td>\n",
       "      <td>Language Learning</td>\n",
       "      <td>0.766026</td>\n",
       "      <td>False</td>\n",
       "      <td>9.822265</td>\n",
       "    </tr>\n",
       "    <tr>\n",
       "      <th>2852</th>\n",
       "      <td>show_3oagSxFbg8PZN4gBarH0qD</td>\n",
       "      <td>Language Learning</td>\n",
       "      <td>5.960742</td>\n",
       "      <td>False</td>\n",
       "      <td>9.822265</td>\n",
       "    </tr>\n",
       "    <tr>\n",
       "      <th>2850</th>\n",
       "      <td>show_1CMwbrEPRtk46eseEmxFOd</td>\n",
       "      <td>Language Learning</td>\n",
       "      <td>21.272946</td>\n",
       "      <td>False</td>\n",
       "      <td>9.822265</td>\n",
       "    </tr>\n",
       "    <tr>\n",
       "      <th>2849</th>\n",
       "      <td>show_0NX1biTiBwY9TsDW6gyeXF</td>\n",
       "      <td>Language Learning</td>\n",
       "      <td>10.724839</td>\n",
       "      <td>False</td>\n",
       "      <td>9.822265</td>\n",
       "    </tr>\n",
       "    <tr>\n",
       "      <th>2863</th>\n",
       "      <td>show_7bbWTvH4aEYzEs5ZISEBth</td>\n",
       "      <td>Language Learning</td>\n",
       "      <td>7.206661</td>\n",
       "      <td>False</td>\n",
       "      <td>9.822265</td>\n",
       "    </tr>\n",
       "  </tbody>\n",
       "</table>\n",
       "<p>2864 rows × 5 columns</p>\n",
       "</div>"
      ],
      "text/plain": [
       "             show_filename_prefix           category  mean_show_duration  \\\n",
       "0     show_3yQgMsqFl1899hFC3UQLaa       Film Reviews           71.855168   \n",
       "1     show_7ESUQ4DOuo8z3uJGTJcKX6       Film Reviews           72.724608   \n",
       "2     show_3Lk3ar1iSyFrTwTxLO7TZ4           Aviation           69.212562   \n",
       "3     show_0FklAMewsMWDPs41hcyGj5     Fantasy Sports           61.397332   \n",
       "4     show_1H4AwzOR0tkNyFhIl6vz5T     Fantasy Sports           53.039815   \n",
       "...                           ...                ...                 ...   \n",
       "2853  show_50XsjqQQ2tRhyc2DykV76R  Language Learning            0.766026   \n",
       "2852  show_3oagSxFbg8PZN4gBarH0qD  Language Learning            5.960742   \n",
       "2850  show_1CMwbrEPRtk46eseEmxFOd  Language Learning           21.272946   \n",
       "2849  show_0NX1biTiBwY9TsDW6gyeXF  Language Learning           10.724839   \n",
       "2863  show_7bbWTvH4aEYzEs5ZISEBth  Language Learning            7.206661   \n",
       "\n",
       "      top_5  mean_category_duration  \n",
       "0     False               72.289888  \n",
       "1     False               72.289888  \n",
       "2     False               69.212562  \n",
       "3     False               61.913587  \n",
       "4     False               61.913587  \n",
       "...     ...                     ...  \n",
       "2853  False                9.822265  \n",
       "2852  False                9.822265  \n",
       "2850  False                9.822265  \n",
       "2849  False                9.822265  \n",
       "2863  False                9.822265  \n",
       "\n",
       "[2864 rows x 5 columns]"
      ]
     },
     "execution_count": 101,
     "metadata": {},
     "output_type": "execute_result"
    }
   ],
   "source": [
    "cats_df3 = cats_df2.merge(cats_df2_catmean,how='right')\n",
    "cats_df3 = cats_df3.sort_values(by='mean_category_duration',ascending=False)\n",
    "cats_df3"
   ]
  },
  {
   "cell_type": "code",
   "execution_count": null,
   "id": "71352e79-0721-449d-89e8-ae4fea8852a1",
   "metadata": {},
   "outputs": [],
   "source": [
    "cats_df4[cats_df4['category']=='Stories for Kids']['mean_show_duration']"
   ]
  },
  {
   "cell_type": "code",
   "execution_count": 107,
   "id": "9810c9a0-5c4f-4493-8d53-7f2f8d9937e6",
   "metadata": {},
   "outputs": [
    {
     "data": {
      "text/plain": [
       "Text(0.5, 0, 'All Categories')"
      ]
     },
     "execution_count": 107,
     "metadata": {},
     "output_type": "execute_result"
    },
    {
     "data": {
      "image/png": "[encoded data removed]",
      "text/plain": [
       "<Figure size 500x500 with 1 Axes>"
      ]
     },
     "metadata": {},
     "output_type": "display_data"
    }
   ],
   "source": [
    "# Define the desired order for the x-axis\n",
    "categories_my_order = cats_df2_catmean['category'].to_numpy()[:10]\n",
    "\n",
    "# Create a boxplot and set the order\n",
    "#cats_df3[['category', 'mean_show_duration']].boxplot(by='category', order=order)\n",
    "cats_df4 = cats_df3[['category','mean_show_duration']]\n",
    "\n",
    "#ax = cats_df3[['category','mean_show_duration']].boxplot(by='category')\n",
    "#ax.set_xticklabels(order, rotation=45);\n",
    "\n",
    "fig, ax = plt.subplots()\n",
    "for position, category in enumerate(categories_my_order):\n",
    "    ax.boxplot(cats_df4[cats_df4['category']==category]['mean_show_duration'], showfliers=False, positions=[position])\n",
    "\n",
    "#ax.set_xticks(range(position+1))\n",
    "ax.set_xticklabels(categories_my_order, rotation=90);\n",
    "#ax.set_xticks([]);\n",
    "ax.set_title('Show Duration as a function of RSS Category')\n",
    "ax.set_ylabel('Mean Show Duration (min)')\n",
    "ax.set_xlabel('All Categories')"
   ]
  },
  {
   "cell_type": "code",
   "execution_count": 120,
   "id": "2fcde091-6817-4572-a9f9-641d273cd9a5",
   "metadata": {},
   "outputs": [
    {
     "data": {
      "text/html": [
       "<div>\n",
       "<style scoped>\n",
       "    .dataframe tbody tr th:only-of-type {\n",
       "        vertical-align: middle;\n",
       "    }\n",
       "\n",
       "    .dataframe tbody tr th {\n",
       "        vertical-align: top;\n",
       "    }\n",
       "\n",
       "    .dataframe thead th {\n",
       "        text-align: right;\n",
       "    }\n",
       "</style>\n",
       "<table border=\"1\" class=\"dataframe\">\n",
       "  <thead>\n",
       "    <tr style=\"text-align: right;\">\n",
       "      <th></th>\n",
       "      <th>show_filename_prefix</th>\n",
       "      <th>category</th>\n",
       "      <th>mean_show_duration</th>\n",
       "    </tr>\n",
       "  </thead>\n",
       "  <tbody>\n",
       "  </tbody>\n",
       "</table>\n",
       "</div>"
      ],
      "text/plain": [
       "Empty DataFrame\n",
       "Columns: [show_filename_prefix, category, mean_show_duration]\n",
       "Index: []"
      ]
     },
     "execution_count": 120,
     "metadata": {},
     "output_type": "execute_result"
    }
   ],
   "source": [
    "cats_df[cats_df['category']==\"Cricket\"]"
   ]
  },
  {
   "cell_type": "code",
   "execution_count": 111,
   "id": "3a7c863c-0c7f-4d94-b37f-e0bcd7b6827f",
   "metadata": {},
   "outputs": [
    {
     "data": {
      "text/html": [
       "<div>\n",
       "<style scoped>\n",
       "    .dataframe tbody tr th:only-of-type {\n",
       "        vertical-align: middle;\n",
       "    }\n",
       "\n",
       "    .dataframe tbody tr th {\n",
       "        vertical-align: top;\n",
       "    }\n",
       "\n",
       "    .dataframe thead th {\n",
       "        text-align: right;\n",
       "    }\n",
       "</style>\n",
       "<table border=\"1\" class=\"dataframe\">\n",
       "  <thead>\n",
       "    <tr style=\"text-align: right;\">\n",
       "      <th></th>\n",
       "      <th>category</th>\n",
       "      <th>mean_category_duration</th>\n",
       "    </tr>\n",
       "  </thead>\n",
       "  <tbody>\n",
       "    <tr>\n",
       "      <th>28</th>\n",
       "      <td>Film Reviews</td>\n",
       "      <td>72.289888</td>\n",
       "    </tr>\n",
       "    <tr>\n",
       "      <th>5</th>\n",
       "      <td>Aviation</td>\n",
       "      <td>69.212562</td>\n",
       "    </tr>\n",
       "    <tr>\n",
       "      <th>25</th>\n",
       "      <td>Fantasy Sports</td>\n",
       "      <td>61.913587</td>\n",
       "    </tr>\n",
       "    <tr>\n",
       "      <th>6</th>\n",
       "      <td>Baseball</td>\n",
       "      <td>56.238783</td>\n",
       "    </tr>\n",
       "    <tr>\n",
       "      <th>98</th>\n",
       "      <td>Wrestling</td>\n",
       "      <td>56.036053</td>\n",
       "    </tr>\n",
       "    <tr>\n",
       "      <th>...</th>\n",
       "      <td>...</td>\n",
       "      <td>...</td>\n",
       "    </tr>\n",
       "    <tr>\n",
       "      <th>15</th>\n",
       "      <td>Comedy Fiction</td>\n",
       "      <td>19.980779</td>\n",
       "    </tr>\n",
       "    <tr>\n",
       "      <th>66</th>\n",
       "      <td>Pets &amp; Animals</td>\n",
       "      <td>19.109841</td>\n",
       "    </tr>\n",
       "    <tr>\n",
       "      <th>9</th>\n",
       "      <td>Buddhism</td>\n",
       "      <td>15.957889</td>\n",
       "    </tr>\n",
       "    <tr>\n",
       "      <th>88</th>\n",
       "      <td>Stories for Kids</td>\n",
       "      <td>9.985819</td>\n",
       "    </tr>\n",
       "    <tr>\n",
       "      <th>46</th>\n",
       "      <td>Language Learning</td>\n",
       "      <td>9.822265</td>\n",
       "    </tr>\n",
       "  </tbody>\n",
       "</table>\n",
       "<p>100 rows × 2 columns</p>\n",
       "</div>"
      ],
      "text/plain": [
       "             category  mean_category_duration\n",
       "28       Film Reviews               72.289888\n",
       "5            Aviation               69.212562\n",
       "25     Fantasy Sports               61.913587\n",
       "6            Baseball               56.238783\n",
       "98          Wrestling               56.036053\n",
       "..                ...                     ...\n",
       "15     Comedy Fiction               19.980779\n",
       "66     Pets & Animals               19.109841\n",
       "9            Buddhism               15.957889\n",
       "88   Stories for Kids                9.985819\n",
       "46  Language Learning                9.822265\n",
       "\n",
       "[100 rows x 2 columns]"
      ]
     },
     "execution_count": 111,
     "metadata": {},
     "output_type": "execute_result"
    }
   ],
   "source": [
    "cats_df2_catmean"
   ]
  },
  {
   "cell_type": "code",
   "execution_count": null,
   "id": "99ef2f03-63c0-41e3-98f0-4fe27c095b4e",
   "metadata": {},
   "outputs": [],
   "source": [
    "new_df[['category','mean_show_duration']].shape"
   ]
  },
  {
   "cell_type": "code",
   "execution_count": null,
   "id": "b9ff942f-1795-4b98-9a7c-ffaa079420d6",
   "metadata": {},
   "outputs": [],
   "source": [
    "import altair as alt\n",
    "\n",
    "# Create a scatter plot with category encoded in color\n",
    "scatter_plot = alt.Chart(new_df.sample(5000)).mark_circle(size=60).encode(\n",
    "    x=alt.X('index:O', title='Index'),  # 'O' specifies ordinal encoding\n",
    "    y=alt.Y('mean_show_duration:Q', title='Duration'),\n",
    "    color=alt.Color('category:N')\n",
    ")  # Calculate the index as an ordinal field\n",
    "\n",
    "scatter_plot = scatter_plot.properties(\n",
    "    width=400,\n",
    "    height=300,\n",
    "    title='Scatter Plot of Duration vs. Category'\n",
    ").configure_title(\n",
    "    fontSize=16,\n",
    "    anchor='middle'\n",
    ")\n",
    "\n",
    "scatter_plot"
   ]
  },
  {
   "cell_type": "code",
   "execution_count": null,
   "id": "6f71cd1d-8130-4ee8-8596-78263ebf4473",
   "metadata": {},
   "outputs": [],
   "source": [
    "plt.plot(cats_df['mean_show_duration'],'x')\n",
    "df.head()"
   ]
  },
  {
   "cell_type": "code",
   "execution_count": null,
   "id": "eacbfb26-1e68-462f-b03e-4043c0eaa413",
   "metadata": {},
   "outputs": [],
   "source": [
    "merged_df = df.merge(cats_df, on='show_filename_prefix', how='left')\n",
    "print(merged_df.shape)\n",
    "print(merged_df.columns)\n",
    "merged_df[merged_df['show_filename_prefix']=='show_4Gtc4ccgCF8xySTleFp3HF']"
   ]
  },
  {
   "cell_type": "code",
   "execution_count": null,
   "id": "136df0b6-e734-4e30-8614-2108bfe890d6",
   "metadata": {},
   "outputs": [],
   "source": [
    "# TODO: Why are there 51?  is this the number of episodes in the \n",
    "# 8 shows where there were issues finding category?\n",
    "merged_df['category'].isna().sum()"
   ]
  },
  {
   "cell_type": "code",
   "execution_count": null,
   "id": "03a0ad4a-9d69-4104-a84b-2082fb46ea21",
   "metadata": {},
   "outputs": [],
   "source": [
    "merged_df.head()"
   ]
  },
  {
   "cell_type": "code",
   "execution_count": null,
   "id": "25dd4602-bc37-48ee-a357-c540706a3375",
   "metadata": {},
   "outputs": [],
   "source": [
    "# Save the DataFrame as a TSV file\n",
    "file_path = '../podcasts-no-audio-13GB-selected/metadata_with_podcast_category.tsv'\n",
    "merged_df.to_csv(file_path, sep='\\t', index=False)\n",
    "\n",
    "print(f\"Merged DataFrame saved as {file_path}\")"
   ]
  },
  {
   "cell_type": "code",
   "execution_count": null,
   "id": "7d4cf266-804d-4ee0-9b9f-ba30a2053400",
   "metadata": {},
   "outputs": [],
   "source": [
    "new_df = pd.read_csv('../podcasts-no-audio-13GB-selected/metadata_with_podcast_category.tsv', sep='\\t')\n",
    "print(new_df.shape)\n",
    "print(new_df.columns)"
   ]
  }
 ],
 "metadata": {
  "kernelspec": {
   "display_name": "mldev",
   "language": "python",
   "name": "mldev"
  },
  "language_info": {
   "codemirror_mode": {
    "name": "ipython",
    "version": 3
   },
   "file_extension": ".py",
   "mimetype": "text/x-python",
   "name": "python",
   "nbconvert_exporter": "python",
   "pygments_lexer": "ipython3",
   "version": "3.9.7"
  }
 },
 "nbformat": 4,
 "nbformat_minor": 5
}
